{
 "cells": [
  {
   "cell_type": "markdown",
   "id": "b58fe37b",
   "metadata": {},
   "source": [
    "# Numbers"
   ]
  },
  {
   "cell_type": "markdown",
   "id": "17de6852",
   "metadata": {},
   "source": [
    "### Ints"
   ]
  },
  {
   "cell_type": "code",
   "execution_count": 1,
   "id": "dbd6281a",
   "metadata": {},
   "outputs": [
    {
     "data": {
      "text/plain": [
       "5"
      ]
     },
     "execution_count": 1,
     "metadata": {},
     "output_type": "execute_result"
    }
   ],
   "source": [
    "5"
   ]
  },
  {
   "cell_type": "code",
   "execution_count": 2,
   "id": "417768fb",
   "metadata": {},
   "outputs": [
    {
     "data": {
      "text/plain": [
       "int"
      ]
     },
     "execution_count": 2,
     "metadata": {},
     "output_type": "execute_result"
    }
   ],
   "source": [
    "type(4)"
   ]
  },
  {
   "cell_type": "markdown",
   "id": "1b703b8e",
   "metadata": {},
   "source": [
    "### Floats "
   ]
  },
  {
   "cell_type": "code",
   "execution_count": 3,
   "id": "f88fccfd",
   "metadata": {},
   "outputs": [
    {
     "data": {
      "text/plain": [
       "5.05"
      ]
     },
     "execution_count": 3,
     "metadata": {},
     "output_type": "execute_result"
    }
   ],
   "source": [
    "5.05"
   ]
  },
  {
   "cell_type": "code",
   "execution_count": 4,
   "id": "ce342c74",
   "metadata": {},
   "outputs": [
    {
     "data": {
      "text/plain": [
       "6.0"
      ]
     },
     "execution_count": 4,
     "metadata": {},
     "output_type": "execute_result"
    }
   ],
   "source": [
    "6.0"
   ]
  },
  {
   "cell_type": "code",
   "execution_count": 5,
   "id": "15e8ab9d",
   "metadata": {},
   "outputs": [
    {
     "data": {
      "text/plain": [
       "float"
      ]
     },
     "execution_count": 5,
     "metadata": {},
     "output_type": "execute_result"
    }
   ],
   "source": [
    "type(10.00000000048)"
   ]
  },
  {
   "cell_type": "markdown",
   "id": "fea5b2e3",
   "metadata": {},
   "source": [
    "### Operators I"
   ]
  },
  {
   "cell_type": "code",
   "execution_count": 6,
   "id": "a2612550",
   "metadata": {},
   "outputs": [
    {
     "data": {
      "text/plain": [
       "4"
      ]
     },
     "execution_count": 6,
     "metadata": {},
     "output_type": "execute_result"
    }
   ],
   "source": [
    "2 + 2"
   ]
  },
  {
   "cell_type": "code",
   "execution_count": 7,
   "id": "cf70421b",
   "metadata": {},
   "outputs": [
    {
     "data": {
      "text/plain": [
       "6"
      ]
     },
     "execution_count": 7,
     "metadata": {},
     "output_type": "execute_result"
    }
   ],
   "source": [
    "2 * 3"
   ]
  },
  {
   "cell_type": "code",
   "execution_count": 8,
   "id": "cdd8f715",
   "metadata": {},
   "outputs": [
    {
     "data": {
      "text/plain": [
       "3.0"
      ]
     },
     "execution_count": 8,
     "metadata": {},
     "output_type": "execute_result"
    }
   ],
   "source": [
    "9 / 3"
   ]
  },
  {
   "cell_type": "code",
   "execution_count": 9,
   "id": "ff117543",
   "metadata": {},
   "outputs": [
    {
     "data": {
      "text/plain": [
       "7"
      ]
     },
     "execution_count": 9,
     "metadata": {},
     "output_type": "execute_result"
    }
   ],
   "source": [
    "9 - 2"
   ]
  },
  {
   "cell_type": "code",
   "execution_count": 10,
   "id": "3e15271f",
   "metadata": {},
   "outputs": [
    {
     "name": "stdout",
     "output_type": "stream",
     "text": [
      "9-2=7\n"
     ]
    }
   ],
   "source": [
    "print(f\"{9-2=}\")"
   ]
  },
  {
   "cell_type": "markdown",
   "id": "6544ceef",
   "metadata": {},
   "source": [
    "### Exponents"
   ]
  },
  {
   "cell_type": "code",
   "execution_count": 11,
   "id": "bb66f20e",
   "metadata": {},
   "outputs": [
    {
     "data": {
      "text/plain": [
       "8"
      ]
     },
     "execution_count": 11,
     "metadata": {},
     "output_type": "execute_result"
    }
   ],
   "source": [
    "2 ** 3"
   ]
  },
  {
   "cell_type": "code",
   "execution_count": 12,
   "id": "5b2f8dd2",
   "metadata": {},
   "outputs": [
    {
     "data": {
      "text/plain": [
       "79745.94989841935"
      ]
     },
     "execution_count": 12,
     "metadata": {},
     "output_type": "execute_result"
    }
   ],
   "source": [
    "10.5 ** 4.8"
   ]
  },
  {
   "cell_type": "code",
   "execution_count": 13,
   "id": "17a1de05",
   "metadata": {},
   "outputs": [
    {
     "data": {
      "text/plain": [
       "10.0"
      ]
     },
     "execution_count": 13,
     "metadata": {},
     "output_type": "execute_result"
    }
   ],
   "source": [
    "100 ** (1/2)"
   ]
  },
  {
   "cell_type": "markdown",
   "id": "5f14235c",
   "metadata": {},
   "source": [
    "### Brackets"
   ]
  },
  {
   "cell_type": "code",
   "execution_count": 14,
   "id": "8b290122",
   "metadata": {},
   "outputs": [
    {
     "data": {
      "text/plain": [
       "2.0"
      ]
     },
     "execution_count": 14,
     "metadata": {},
     "output_type": "execute_result"
    }
   ],
   "source": [
    "2 + 2 - 2 / 2 * 2"
   ]
  },
  {
   "cell_type": "code",
   "execution_count": 15,
   "id": "6273b4be",
   "metadata": {},
   "outputs": [
    {
     "data": {
      "text/plain": [
       "0.5"
      ]
     },
     "execution_count": 15,
     "metadata": {},
     "output_type": "execute_result"
    }
   ],
   "source": [
    "((2 + 2) - 2) / (2 * 2)"
   ]
  },
  {
   "cell_type": "markdown",
   "id": "fe66c69e",
   "metadata": {},
   "source": [
    "### Challenge\n",
    "\n",
    "<div class='alert alert-info'>\n",
    "  🎒\n",
    "  Solve these terrible Facebook/LinkedIn \"Memes\"\n",
    "</div>"
   ]
  },
  {
   "cell_type": "markdown",
   "id": "2815111a",
   "metadata": {},
   "source": [
    "<img width=300 src=\"https://mindyourdecisions.com/blog/wp-content/uploads/2019/07/viral-meme-230-preview-600.png\" />\n",
    "\n",
    "<img width=300 src=\"https://static01.nyt.com/images/2019/08/02/science/02EQUATION1/merlin_158743359_ff291f8a-d473-4849-9d81-9762826b55f4-superJumbo.jpg?quality=75&auto=webp\" />\n",
    "\n",
    "[Source](https://www.nytimes.com/2019/08/02/science/math-equation-pedmas-bemdas-bedmas.html)"
   ]
  },
  {
   "cell_type": "code",
   "execution_count": 16,
   "id": "c8ffe081",
   "metadata": {},
   "outputs": [
    {
     "data": {
      "text/plain": [
       "120.0"
      ]
     },
     "execution_count": 16,
     "metadata": {},
     "output_type": "execute_result"
    }
   ],
   "source": [
    "230 - 220 / 2"
   ]
  },
  {
   "cell_type": "code",
   "execution_count": 17,
   "id": "05d9f2b4",
   "metadata": {},
   "outputs": [
    {
     "data": {
      "text/plain": [
       "16.0"
      ]
     },
     "execution_count": 17,
     "metadata": {},
     "output_type": "execute_result"
    }
   ],
   "source": [
    "8 / 2 * (2 + 2)"
   ]
  },
  {
   "cell_type": "markdown",
   "id": "768032bf",
   "metadata": {},
   "source": [
    "### Floor Division"
   ]
  },
  {
   "cell_type": "code",
   "execution_count": 18,
   "id": "3377d219",
   "metadata": {},
   "outputs": [
    {
     "data": {
      "text/plain": [
       "3.0"
      ]
     },
     "execution_count": 18,
     "metadata": {},
     "output_type": "execute_result"
    }
   ],
   "source": [
    "9.1 // 3"
   ]
  },
  {
   "cell_type": "code",
   "execution_count": 19,
   "id": "844e3d24",
   "metadata": {
    "scrolled": true
   },
   "outputs": [
    {
     "data": {
      "text/plain": [
       "2.0"
      ]
     },
     "execution_count": 19,
     "metadata": {},
     "output_type": "execute_result"
    }
   ],
   "source": [
    "8.9 // 3"
   ]
  },
  {
   "cell_type": "markdown",
   "id": "16893af1",
   "metadata": {},
   "source": [
    "### Rounding"
   ]
  },
  {
   "cell_type": "code",
   "execution_count": 20,
   "id": "ae984e30",
   "metadata": {},
   "outputs": [
    {
     "data": {
      "text/plain": [
       "9"
      ]
     },
     "execution_count": 20,
     "metadata": {},
     "output_type": "execute_result"
    }
   ],
   "source": [
    "round(9.1)"
   ]
  },
  {
   "cell_type": "code",
   "execution_count": 21,
   "id": "bbf91aed",
   "metadata": {},
   "outputs": [
    {
     "data": {
      "text/plain": [
       "5"
      ]
     },
     "execution_count": 21,
     "metadata": {},
     "output_type": "execute_result"
    }
   ],
   "source": [
    "round(4.5000001)"
   ]
  },
  {
   "cell_type": "code",
   "execution_count": 22,
   "id": "56e86c0b",
   "metadata": {},
   "outputs": [
    {
     "data": {
      "text/plain": [
       "4"
      ]
     },
     "execution_count": 22,
     "metadata": {},
     "output_type": "execute_result"
    }
   ],
   "source": [
    "round(3.5)"
   ]
  },
  {
   "cell_type": "code",
   "execution_count": 23,
   "id": "490f0007",
   "metadata": {},
   "outputs": [
    {
     "data": {
      "text/plain": [
       "9.88"
      ]
     },
     "execution_count": 23,
     "metadata": {},
     "output_type": "execute_result"
    }
   ],
   "source": [
    "round(9.8765, 2)"
   ]
  },
  {
   "cell_type": "code",
   "execution_count": 24,
   "id": "271d50fe",
   "metadata": {},
   "outputs": [
    {
     "data": {
      "text/plain": [
       "89200.0"
      ]
     },
     "execution_count": 24,
     "metadata": {},
     "output_type": "execute_result"
    }
   ],
   "source": [
    "round(89231.34, -2)"
   ]
  },
  {
   "cell_type": "markdown",
   "id": "5bac530b",
   "metadata": {},
   "source": [
    "### The Modulo Operator"
   ]
  },
  {
   "cell_type": "code",
   "execution_count": 25,
   "id": "0bc721e3",
   "metadata": {},
   "outputs": [
    {
     "data": {
      "text/plain": [
       "0"
      ]
     },
     "execution_count": 25,
     "metadata": {},
     "output_type": "execute_result"
    }
   ],
   "source": [
    "8 % 2"
   ]
  },
  {
   "cell_type": "code",
   "execution_count": 26,
   "id": "9c60fc29",
   "metadata": {},
   "outputs": [
    {
     "data": {
      "text/plain": [
       "4.0"
      ]
     },
     "execution_count": 26,
     "metadata": {},
     "output_type": "execute_result"
    }
   ],
   "source": [
    "8 / 2"
   ]
  },
  {
   "cell_type": "code",
   "execution_count": 27,
   "id": "ab95fc62",
   "metadata": {},
   "outputs": [
    {
     "data": {
      "text/plain": [
       "1"
      ]
     },
     "execution_count": 27,
     "metadata": {},
     "output_type": "execute_result"
    }
   ],
   "source": [
    "9 % 2"
   ]
  },
  {
   "cell_type": "code",
   "execution_count": 28,
   "id": "bfe78c73",
   "metadata": {},
   "outputs": [
    {
     "data": {
      "text/plain": [
       "4.5"
      ]
     },
     "execution_count": 28,
     "metadata": {},
     "output_type": "execute_result"
    }
   ],
   "source": [
    "9 / 2"
   ]
  },
  {
   "cell_type": "markdown",
   "id": "7aad7f97",
   "metadata": {},
   "source": [
    "### Big Numbers"
   ]
  },
  {
   "cell_type": "code",
   "execution_count": 29,
   "id": "60057db3",
   "metadata": {},
   "outputs": [
    {
     "data": {
      "text/plain": [
       "7000.0"
      ]
     },
     "execution_count": 29,
     "metadata": {},
     "output_type": "execute_result"
    }
   ],
   "source": [
    "7e3"
   ]
  },
  {
   "cell_type": "code",
   "execution_count": 30,
   "id": "3f60fe8b",
   "metadata": {},
   "outputs": [
    {
     "data": {
      "text/plain": [
       "int"
      ]
     },
     "execution_count": 30,
     "metadata": {},
     "output_type": "execute_result"
    }
   ],
   "source": [
    "type(100_000_000)"
   ]
  },
  {
   "cell_type": "code",
   "execution_count": 31,
   "id": "c5db58cc",
   "metadata": {},
   "outputs": [
    {
     "data": {
      "text/plain": [
       "300000000"
      ]
     },
     "execution_count": 31,
     "metadata": {},
     "output_type": "execute_result"
    }
   ],
   "source": [
    "x = 100_000_000\n",
    "x * 3"
   ]
  },
  {
   "cell_type": "markdown",
   "id": "a1980721",
   "metadata": {},
   "source": [
    "### `+=`"
   ]
  },
  {
   "cell_type": "code",
   "execution_count": 32,
   "id": "33fe94ba",
   "metadata": {},
   "outputs": [],
   "source": [
    "profit = 100"
   ]
  },
  {
   "cell_type": "code",
   "execution_count": 33,
   "id": "4b9516b8",
   "metadata": {},
   "outputs": [],
   "source": [
    "profit = profit + 10"
   ]
  },
  {
   "cell_type": "code",
   "execution_count": 34,
   "id": "52cddc85",
   "metadata": {},
   "outputs": [],
   "source": [
    "profit += 10"
   ]
  },
  {
   "cell_type": "code",
   "execution_count": 35,
   "id": "63ebc455",
   "metadata": {},
   "outputs": [
    {
     "data": {
      "text/plain": [
       "120"
      ]
     },
     "execution_count": 35,
     "metadata": {},
     "output_type": "execute_result"
    }
   ],
   "source": [
    "profit"
   ]
  },
  {
   "cell_type": "code",
   "execution_count": 36,
   "id": "077e4080",
   "metadata": {},
   "outputs": [
    {
     "name": "stdout",
     "output_type": "stream",
     "text": [
      "10\n"
     ]
    }
   ],
   "source": [
    "y = 5\n",
    "y *= 2\n",
    "print(y)"
   ]
  },
  {
   "cell_type": "code",
   "execution_count": 37,
   "id": "b9a85f56",
   "metadata": {},
   "outputs": [
    {
     "name": "stdout",
     "output_type": "stream",
     "text": [
      "20.0\n"
     ]
    }
   ],
   "source": [
    "z = 100\n",
    "z /= 5\n",
    "print(z)"
   ]
  },
  {
   "cell_type": "code",
   "execution_count": 38,
   "id": "7dc9968c",
   "metadata": {},
   "outputs": [
    {
     "data": {
      "text/plain": [
       "70"
      ]
     },
     "execution_count": 38,
     "metadata": {},
     "output_type": "execute_result"
    }
   ],
   "source": [
    "a = 76\n",
    "a -= 6\n",
    "a"
   ]
  },
  {
   "cell_type": "markdown",
   "id": "ace6b7ca",
   "metadata": {},
   "source": [
    "### Casting (To)"
   ]
  },
  {
   "cell_type": "code",
   "execution_count": 39,
   "id": "eb9967ba",
   "metadata": {},
   "outputs": [],
   "source": [
    "profit = 120"
   ]
  },
  {
   "cell_type": "code",
   "execution_count": 40,
   "id": "81735b41",
   "metadata": {},
   "outputs": [
    {
     "name": "stdout",
     "output_type": "stream",
     "text": [
      "$120\n"
     ]
    }
   ],
   "source": [
    "print(f\"${profit}\")"
   ]
  },
  {
   "cell_type": "markdown",
   "id": "a698a5a0",
   "metadata": {},
   "source": [
    "### Casting (From)"
   ]
  },
  {
   "cell_type": "code",
   "execution_count": 41,
   "id": "cb1b0b74",
   "metadata": {},
   "outputs": [
    {
     "name": "stdout",
     "output_type": "stream",
     "text": [
      "Couldn't find program: 'false'\n"
     ]
    }
   ],
   "source": [
    "%%script false --no-raise-error\n",
    "\n",
    "profit2 = int(\"$120\")\n",
    "profit"
   ]
  },
  {
   "cell_type": "code",
   "execution_count": 42,
   "id": "d85c46e4",
   "metadata": {},
   "outputs": [
    {
     "name": "stdout",
     "output_type": "stream",
     "text": [
      "Couldn't find program: 'false'\n"
     ]
    }
   ],
   "source": [
    "%%script false --no-raise-error\n",
    "\n",
    "float(\"192.168.1.0\")"
   ]
  },
  {
   "cell_type": "code",
   "execution_count": 43,
   "id": "832c6c7d",
   "metadata": {},
   "outputs": [
    {
     "data": {
      "text/plain": [
       "3476262"
      ]
     },
     "execution_count": 43,
     "metadata": {},
     "output_type": "execute_result"
    }
   ],
   "source": [
    "int(f\"{round(3476261.888)}\")"
   ]
  },
  {
   "cell_type": "markdown",
   "id": "1f4368c2",
   "metadata": {},
   "source": [
    "### Homework"
   ]
  },
  {
   "cell_type": "markdown",
   "id": "32632ba4",
   "metadata": {},
   "source": [
    "<div class='alert alert-info'>\n",
    "  🎒 Google for some other math \"Memes\" and see if you can solve with Python!\n",
    "</div>"
   ]
  },
  {
   "cell_type": "markdown",
   "id": "9df9c6d9",
   "metadata": {},
   "source": [
    "<img width=400 src=\"https://winthropdc.files.wordpress.com/2018/04/facebook_1523114136411.jpg\" />"
   ]
  },
  {
   "cell_type": "code",
   "execution_count": 44,
   "id": "a21f9bb6",
   "metadata": {},
   "outputs": [
    {
     "name": "stdout",
     "output_type": "stream",
     "text": [
      "pair_shoes = 10.0\n",
      "pair_shoes + pair_shoes + pair_shoes = 30.0\n"
     ]
    }
   ],
   "source": [
    "pair_shoes = 30 / 3\n",
    "print(f\"{pair_shoes = }\")\n",
    "print(f\"{pair_shoes + pair_shoes + pair_shoes = }\")"
   ]
  },
  {
   "cell_type": "code",
   "execution_count": 45,
   "id": "fc8587e4",
   "metadata": {},
   "outputs": [
    {
     "name": "stdout",
     "output_type": "stream",
     "text": [
      "coach_with_whistle = 5.0\n",
      "pair_shoes + coach_with_whistle + coach_with_whistle = 20.0\n"
     ]
    }
   ],
   "source": [
    "coach_with_whistle = (20 - pair_shoes) / 2\n",
    "print(f\"{coach_with_whistle = }\")\n",
    "print(f\"{pair_shoes + coach_with_whistle + coach_with_whistle = }\")"
   ]
  },
  {
   "cell_type": "code",
   "execution_count": 46,
   "id": "942d5ced",
   "metadata": {},
   "outputs": [
    {
     "name": "stdout",
     "output_type": "stream",
     "text": [
      "pair_whistle = 4.0\n",
      "coach_with_whistle + pair_whistle + pair_whistle = 13.0\n"
     ]
    }
   ],
   "source": [
    "pair_whistle = (13 - coach_with_whistle) / 2\n",
    "print(f\"{pair_whistle = }\")\n",
    "print(f\"{coach_with_whistle + pair_whistle + pair_whistle = }\")"
   ]
  },
  {
   "cell_type": "code",
   "execution_count": 47,
   "id": "b15cc382",
   "metadata": {},
   "outputs": [
    {
     "name": "stdout",
     "output_type": "stream",
     "text": [
      "shoe = 5.0\n"
     ]
    }
   ],
   "source": [
    "shoe = pair_shoes / 2\n",
    "print(f\"{shoe = }\")"
   ]
  },
  {
   "cell_type": "code",
   "execution_count": 48,
   "id": "3639e5de",
   "metadata": {},
   "outputs": [
    {
     "name": "stdout",
     "output_type": "stream",
     "text": [
      "coach = 3.0\n"
     ]
    }
   ],
   "source": [
    "coach = coach_with_whistle - (pair_whistle/2)\n",
    "print(f\"{coach = }\")"
   ]
  },
  {
   "cell_type": "code",
   "execution_count": 49,
   "id": "1d900f70",
   "metadata": {},
   "outputs": [
    {
     "name": "stdout",
     "output_type": "stream",
     "text": [
      "whistle = 2.0\n"
     ]
    }
   ],
   "source": [
    "whistle = pair_whistle / 2\n",
    "print(f\"{whistle = }\")"
   ]
  },
  {
   "cell_type": "code",
   "execution_count": 50,
   "id": "dd1da1f6",
   "metadata": {},
   "outputs": [
    {
     "name": "stdout",
     "output_type": "stream",
     "text": [
      "shoe + coach * whistle = 11.0\n"
     ]
    }
   ],
   "source": [
    "print(f\"{shoe + coach * whistle = }\")"
   ]
  }
 ],
 "metadata": {
  "kernelspec": {
   "display_name": "Python 3",
   "language": "python",
   "name": "python3"
  },
  "language_info": {
   "codemirror_mode": {
    "name": "ipython",
    "version": 3
   },
   "file_extension": ".py",
   "mimetype": "text/x-python",
   "name": "python",
   "nbconvert_exporter": "python",
   "pygments_lexer": "ipython3",
   "version": "3.13.2"
  }
 },
 "nbformat": 4,
 "nbformat_minor": 5
}
