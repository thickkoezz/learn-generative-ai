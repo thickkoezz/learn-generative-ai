{
 "cells": [
  {
   "cell_type": "markdown",
   "id": "10e6c566",
   "metadata": {},
   "source": [
    "# \"Repeats\""
   ]
  },
  {
   "cell_type": "markdown",
   "id": "0204079b",
   "metadata": {},
   "source": [
    "### From Map"
   ]
  },
  {
   "cell_type": "code",
   "execution_count": 1,
   "id": "ae3293d6",
   "metadata": {},
   "outputs": [
    {
     "data": {
      "text/plain": [
       "['my_song_1.flac', 'my_song_2.flac', 'my_song_3.flac']"
      ]
     },
     "execution_count": 1,
     "metadata": {},
     "output_type": "execute_result"
    }
   ],
   "source": [
    "def mp3_to_flac(x): \n",
    "    return f\"my_song_{x.split('.')[0]}.flac\"\n",
    "\n",
    "songs = ['1.mp3', '2.mp3', '3.mp3']\n",
    "csongs = map(mp3_to_flac, songs)\n",
    "list(csongs)"
   ]
  },
  {
   "cell_type": "markdown",
   "id": "7820b6bd",
   "metadata": {},
   "source": [
    "### To Loop"
   ]
  },
  {
   "cell_type": "code",
   "execution_count": 2,
   "id": "4cedd79e",
   "metadata": {},
   "outputs": [
    {
     "name": "stdout",
     "output_type": "stream",
     "text": [
      "my_song_1.flac\n",
      "my_song_2.flac\n",
      "my_song_3.flac\n"
     ]
    }
   ],
   "source": [
    "for song in songs:\n",
    "    flac_song = mp3_to_flac(song)\n",
    "    print(flac_song)"
   ]
  },
  {
   "cell_type": "markdown",
   "id": "4d1211ce",
   "metadata": {},
   "source": [
    "### Iterables"
   ]
  },
  {
   "cell_type": "code",
   "execution_count": 3,
   "id": "aad2365f",
   "metadata": {},
   "outputs": [
    {
     "name": "stdout",
     "output_type": "stream",
     "text": [
      "1\n",
      "2\n",
      "3\n",
      "4\n"
     ]
    }
   ],
   "source": [
    "for number in [1, 2, 3, 4]:\n",
    "    print(number)"
   ]
  },
  {
   "cell_type": "code",
   "execution_count": 4,
   "id": "145306be",
   "metadata": {},
   "outputs": [
    {
     "name": "stdout",
     "output_type": "stream",
     "text": [
      "t\n",
      "h\n",
      "i\n",
      "s\n",
      " \n",
      "s\n",
      "e\n",
      "n\n",
      "t\n",
      "e\n",
      "n\n",
      "c\n",
      "e\n"
     ]
    }
   ],
   "source": [
    "for letter in \"this sentence\":\n",
    "    print(letter)"
   ]
  },
  {
   "cell_type": "code",
   "execution_count": 5,
   "id": "c95dd446",
   "metadata": {},
   "outputs": [],
   "source": [
    "iterable_1 = \"abcdef\"\n",
    "iterable_2 = [1, 2, 3, 4]\n",
    "iterable_3 = map(mp3_to_flac, ['1.mp3', '2.mp3', '3.mp3'])\n",
    "iterable_4 = {\"even\": \"dictionaries\", \"are\": \"iterables\"}\n",
    "iterable_5 = range(1, 5)"
   ]
  },
  {
   "cell_type": "code",
   "execution_count": 6,
   "id": "5af947bf",
   "metadata": {},
   "outputs": [
    {
     "name": "stdout",
     "output_type": "stream",
     "text": [
      "1\n",
      "2\n",
      "3\n",
      "4\n",
      "5\n"
     ]
    }
   ],
   "source": [
    "for i in range(1, 5+1):\n",
    "    print(i)"
   ]
  },
  {
   "cell_type": "markdown",
   "id": "4eebc8f3",
   "metadata": {},
   "source": [
    "### `for` loops"
   ]
  },
  {
   "cell_type": "code",
   "execution_count": 7,
   "id": "00b49721",
   "metadata": {},
   "outputs": [],
   "source": [
    "converted = []\n",
    "for song in songs:\n",
    "    flac_song = mp3_to_flac(song)\n",
    "    converted.append(flac_song)"
   ]
  },
  {
   "cell_type": "code",
   "execution_count": 8,
   "id": "f2a8df42",
   "metadata": {},
   "outputs": [
    {
     "data": {
      "text/plain": [
       "['my_song_1.flac', 'my_song_2.flac', 'my_song_3.flac']"
      ]
     },
     "execution_count": 8,
     "metadata": {},
     "output_type": "execute_result"
    }
   ],
   "source": [
    "converted"
   ]
  },
  {
   "cell_type": "code",
   "execution_count": 9,
   "id": "d16d4947",
   "metadata": {},
   "outputs": [
    {
     "data": {
      "text/plain": [
       "['my_song_1.flac', 'my_song_2.flac', 'my_song_3.flac']"
      ]
     },
     "execution_count": 9,
     "metadata": {},
     "output_type": "execute_result"
    }
   ],
   "source": [
    "list(map(lambda song: f\"my_song_{song.split('.')[0]}.flac\", ['1.mp3', '2.mp3', '3.mp3']))"
   ]
  },
  {
   "cell_type": "markdown",
   "id": "01ce0264",
   "metadata": {},
   "source": [
    "### FizzBuzz"
   ]
  },
  {
   "cell_type": "code",
   "execution_count": 10,
   "id": "cc6feca1",
   "metadata": {},
   "outputs": [],
   "source": [
    "def fizzbuzz(number): \n",
    "    if number % 3 == 0 and number % 5 == 0:\n",
    "        return \"fizzbuzz\"\n",
    "    elif number % 3 == 0:\n",
    "        return \"fizz\"\n",
    "    elif number % 5 == 0:\n",
    "        return \"buzz\"\n",
    "    else:\n",
    "        return number"
   ]
  },
  {
   "cell_type": "code",
   "execution_count": 11,
   "id": "61ac42b0",
   "metadata": {},
   "outputs": [
    {
     "data": {
      "text/plain": [
       "1"
      ]
     },
     "execution_count": 11,
     "metadata": {},
     "output_type": "execute_result"
    }
   ],
   "source": [
    "fizzbuzz(1)"
   ]
  },
  {
   "cell_type": "code",
   "execution_count": 12,
   "id": "bab5b675",
   "metadata": {},
   "outputs": [
    {
     "data": {
      "text/plain": [
       "'fizz'"
      ]
     },
     "execution_count": 12,
     "metadata": {},
     "output_type": "execute_result"
    }
   ],
   "source": [
    "fizzbuzz(3)"
   ]
  },
  {
   "cell_type": "code",
   "execution_count": 13,
   "id": "3ca0083e",
   "metadata": {},
   "outputs": [
    {
     "name": "stdout",
     "output_type": "stream",
     "text": [
      "[1, 2, 'fizz', 4, 'buzz', 'fizz', 7, 8, 'fizz', 'buzz', 11, 'fizz', 13, 14, 'fizzbuzz', 16, 17, 'fizz', 19, 'buzz', 'fizz', 22, 23, 'fizz', 'buzz', 26, 'fizz', 28, 29, 'fizzbuzz', 31, 32, 'fizz', 34, 'buzz', 'fizz', 37, 38, 'fizz', 'buzz', 41, 'fizz', 43, 44, 'fizzbuzz', 46, 47, 'fizz', 49, 'buzz', 'fizz', 52, 53, 'fizz', 'buzz', 56, 'fizz', 58, 59, 'fizzbuzz', 61, 62, 'fizz', 64, 'buzz', 'fizz', 67, 68, 'fizz', 'buzz', 71, 'fizz', 73, 74, 'fizzbuzz', 76, 77, 'fizz', 79, 'buzz', 'fizz', 82, 83, 'fizz', 'buzz', 86, 'fizz', 88, 89, 'fizzbuzz', 91, 92, 'fizz', 94, 'buzz', 'fizz', 97, 98, 'fizz', 'buzz']\n"
     ]
    }
   ],
   "source": [
    "fizzed_numbers = []\n",
    "for number in range(1, 100+1):\n",
    "    fn = fizzbuzz(number)\n",
    "    fizzed_numbers.append(fn)\n",
    "    \n",
    "print(fizzed_numbers)"
   ]
  },
  {
   "cell_type": "code",
   "execution_count": 14,
   "id": "095ab1f8",
   "metadata": {},
   "outputs": [
    {
     "data": {
      "text/plain": [
       "[1,\n",
       " 2,\n",
       " 'fizz',\n",
       " 4,\n",
       " 'buzz',\n",
       " 'fizz',\n",
       " 7,\n",
       " 8,\n",
       " 'fizz',\n",
       " 'buzz',\n",
       " 11,\n",
       " 'fizz',\n",
       " 13,\n",
       " 14,\n",
       " 'fizzbuzz',\n",
       " 16,\n",
       " 17,\n",
       " 'fizz',\n",
       " 19,\n",
       " 'buzz',\n",
       " 'fizz',\n",
       " 22,\n",
       " 23,\n",
       " 'fizz',\n",
       " 'buzz',\n",
       " 26,\n",
       " 'fizz',\n",
       " 28,\n",
       " 29,\n",
       " 'fizzbuzz',\n",
       " 31,\n",
       " 32,\n",
       " 'fizz',\n",
       " 34,\n",
       " 'buzz',\n",
       " 'fizz',\n",
       " 37,\n",
       " 38,\n",
       " 'fizz',\n",
       " 'buzz',\n",
       " 41,\n",
       " 'fizz',\n",
       " 43,\n",
       " 44,\n",
       " 'fizzbuzz',\n",
       " 46,\n",
       " 47,\n",
       " 'fizz',\n",
       " 49,\n",
       " 'buzz',\n",
       " 'fizz',\n",
       " 52,\n",
       " 53,\n",
       " 'fizz',\n",
       " 'buzz',\n",
       " 56,\n",
       " 'fizz',\n",
       " 58,\n",
       " 59,\n",
       " 'fizzbuzz',\n",
       " 61,\n",
       " 62,\n",
       " 'fizz',\n",
       " 64,\n",
       " 'buzz',\n",
       " 'fizz',\n",
       " 67,\n",
       " 68,\n",
       " 'fizz',\n",
       " 'buzz',\n",
       " 71,\n",
       " 'fizz',\n",
       " 73,\n",
       " 74,\n",
       " 'fizzbuzz',\n",
       " 76,\n",
       " 77,\n",
       " 'fizz',\n",
       " 79,\n",
       " 'buzz',\n",
       " 'fizz',\n",
       " 82,\n",
       " 83,\n",
       " 'fizz',\n",
       " 'buzz',\n",
       " 86,\n",
       " 'fizz',\n",
       " 88,\n",
       " 89,\n",
       " 'fizzbuzz',\n",
       " 91,\n",
       " 92,\n",
       " 'fizz',\n",
       " 94,\n",
       " 'buzz',\n",
       " 'fizz',\n",
       " 97,\n",
       " 98,\n",
       " 'fizz',\n",
       " 'buzz']"
      ]
     },
     "execution_count": 14,
     "metadata": {},
     "output_type": "execute_result"
    }
   ],
   "source": [
    "list(map(fizzbuzz, range(1, 100+1)))"
   ]
  },
  {
   "cell_type": "markdown",
   "id": "faefc1f8",
   "metadata": {},
   "source": [
    "### `enumerate`"
   ]
  },
  {
   "cell_type": "code",
   "execution_count": 15,
   "id": "5741f26e",
   "metadata": {},
   "outputs": [],
   "source": [
    "dow = [\"Monday\", \"Tuesday\", \"Wednesday\", \"Thursday\", \"Friday\", \"Saturday\", \"Sunday\"]"
   ]
  },
  {
   "cell_type": "code",
   "execution_count": 16,
   "id": "2fb057e8",
   "metadata": {},
   "outputs": [
    {
     "name": "stdout",
     "output_type": "stream",
     "text": [
      "0 -> Monday\n",
      "1 -> Tuesday\n",
      "2 -> Wednesday\n",
      "3 -> Thursday\n",
      "4 -> Friday\n",
      "5 -> Saturday\n",
      "6 -> Sunday\n"
     ]
    }
   ],
   "source": [
    "for i, day in enumerate(dow):\n",
    "    print(f\"{i} -> {day}\")"
   ]
  },
  {
   "cell_type": "markdown",
   "id": "0257034d",
   "metadata": {},
   "source": [
    "### Challenge\n",
    "\n",
    "<div class='alert alert-info'>\n",
    "  🎒 Solve this real life Interview Problem!\n",
    "</div>\n",
    "\n",
    "> You are given an integer array prices where prices[i] is the price of a given stock on the ith day.\n",
    "On each day, you may decide to buy and/or sell the stock.\n",
    "You can only hold at most one share of the stock at any time.\n",
    "However, you can buy it then immediately sell it on the same day.\n",
    "Find and return the maximum profit you can achieve."
   ]
  },
  {
   "cell_type": "code",
   "execution_count": 17,
   "id": "444513f8",
   "metadata": {},
   "outputs": [],
   "source": [
    "prices = [1, 2, 7, 4, 3, 2, 8, 1]"
   ]
  },
  {
   "cell_type": "code",
   "execution_count": 18,
   "id": "ac39c9c0",
   "metadata": {},
   "outputs": [],
   "source": [
    "def max_profit(prices):\n",
    "    profit = 0\n",
    "    for yesterday, today in zip(prices, prices[1:]):\n",
    "        if today >= yesterday:\n",
    "            profit += today - yesterday\n",
    "    return profit"
   ]
  },
  {
   "cell_type": "code",
   "execution_count": 19,
   "id": "fcffa52a",
   "metadata": {},
   "outputs": [
    {
     "data": {
      "text/plain": [
       "1"
      ]
     },
     "execution_count": 19,
     "metadata": {},
     "output_type": "execute_result"
    }
   ],
   "source": [
    "max_profit([5, 5, 5, 4, 5])"
   ]
  },
  {
   "cell_type": "markdown",
   "id": "7b93dce8",
   "metadata": {},
   "source": [
    "### `while` Loops"
   ]
  },
  {
   "cell_type": "code",
   "execution_count": 20,
   "id": "badcbf8b",
   "metadata": {},
   "outputs": [],
   "source": [
    "import random"
   ]
  },
  {
   "cell_type": "code",
   "execution_count": 21,
   "id": "ff14a7ac",
   "metadata": {},
   "outputs": [],
   "source": [
    "target = 100_000\n",
    "visitors = []\n",
    "\n",
    "while sum(visitors) < target:\n",
    "    day = random.randrange(300, 10_000)\n",
    "    visitors.append(day)"
   ]
  },
  {
   "cell_type": "code",
   "execution_count": 22,
   "id": "5c075451",
   "metadata": {},
   "outputs": [
    {
     "data": {
      "text/plain": [
       "16"
      ]
     },
     "execution_count": 22,
     "metadata": {},
     "output_type": "execute_result"
    }
   ],
   "source": [
    "len(visitors)"
   ]
  },
  {
   "cell_type": "code",
   "execution_count": 23,
   "id": "688180a8",
   "metadata": {},
   "outputs": [
    {
     "data": {
      "text/plain": [
       "[9187,\n",
       " 6190,\n",
       " 7247,\n",
       " 9071,\n",
       " 6032,\n",
       " 9398,\n",
       " 9399,\n",
       " 6526,\n",
       " 4298,\n",
       " 429,\n",
       " 9765,\n",
       " 7272,\n",
       " 1257,\n",
       " 6752,\n",
       " 2753,\n",
       " 8584]"
      ]
     },
     "execution_count": 23,
     "metadata": {},
     "output_type": "execute_result"
    }
   ],
   "source": [
    "visitors"
   ]
  },
  {
   "cell_type": "markdown",
   "id": "33cf24de",
   "metadata": {},
   "source": [
    "### Infinite Loops + `Break`"
   ]
  },
  {
   "cell_type": "code",
   "execution_count": 24,
   "id": "451d286c",
   "metadata": {},
   "outputs": [
    {
     "name": "stdout",
     "output_type": "stream",
     "text": [
      "Same!\n"
     ]
    }
   ],
   "source": [
    "while True:\n",
    "    response = input(\"Do you like vegetables \")\n",
    "    if response.lower() in [\"yes\", \"y\"]:\n",
    "        print(\"Same!\")\n",
    "        break"
   ]
  },
  {
   "cell_type": "code",
   "execution_count": 25,
   "id": "51fb5692",
   "metadata": {},
   "outputs": [
    {
     "name": "stdout",
     "output_type": "stream",
     "text": [
      "I'm back!\n"
     ]
    }
   ],
   "source": [
    "print(\"I'm back!\")"
   ]
  },
  {
   "cell_type": "markdown",
   "id": "e5d0cbd0",
   "metadata": {},
   "source": [
    "### List Comprehensions"
   ]
  },
  {
   "cell_type": "code",
   "execution_count": 26,
   "id": "0ae7dfc2",
   "metadata": {},
   "outputs": [],
   "source": [
    "def mp3_to_flac(x): \n",
    "    return f\"my_song_{x.split('.')[0]}.flac\"\n",
    "\n",
    "songs = ['1.mp3', '2.mp3', '3.mp3']\n",
    "csongs = map(mp3_to_flac, songs)"
   ]
  },
  {
   "cell_type": "code",
   "execution_count": 27,
   "id": "7f0d3aca",
   "metadata": {},
   "outputs": [
    {
     "data": {
      "text/plain": [
       "['my_song_1.flac', 'my_song_2.flac', 'my_song_3.flac']"
      ]
     },
     "execution_count": 27,
     "metadata": {},
     "output_type": "execute_result"
    }
   ],
   "source": [
    "[mp3_to_flac(x) for x in songs]"
   ]
  },
  {
   "cell_type": "code",
   "execution_count": 28,
   "id": "51d5a766",
   "metadata": {},
   "outputs": [
    {
     "data": {
      "text/plain": [
       "['my_song_1.flac', 'my_song_2.flac', 'my_song_3.flac']"
      ]
     },
     "execution_count": 28,
     "metadata": {},
     "output_type": "execute_result"
    }
   ],
   "source": [
    "[mp3_to_flac(x) for x in songs]"
   ]
  },
  {
   "cell_type": "code",
   "execution_count": 29,
   "id": "ddb5dda1",
   "metadata": {},
   "outputs": [
    {
     "name": "stdout",
     "output_type": "stream",
     "text": [
      "['my_song_1.flac', 'my_song_2.flac', 'my_song_3.flac']\n"
     ]
    }
   ],
   "source": [
    "csongs = []\n",
    "for x in songs:\n",
    "    csongs.append(mp3_to_flac(x))\n",
    "print(csongs)"
   ]
  },
  {
   "cell_type": "code",
   "execution_count": 30,
   "id": "b160a2b1",
   "metadata": {},
   "outputs": [],
   "source": [
    "emojis = {\"😇\": \"good\", \"😈\": \"bad\", \"😞\": \"sad\"} "
   ]
  },
  {
   "cell_type": "code",
   "execution_count": 31,
   "id": "5a2204b6",
   "metadata": {},
   "outputs": [
    {
     "data": {
      "text/plain": [
       "'good'"
      ]
     },
     "execution_count": 31,
     "metadata": {},
     "output_type": "execute_result"
    }
   ],
   "source": [
    "emojis[\"😇\"]"
   ]
  },
  {
   "cell_type": "code",
   "execution_count": 32,
   "id": "3a6dfea7",
   "metadata": {},
   "outputs": [
    {
     "name": "stdout",
     "output_type": "stream",
     "text": [
      "Couldn't find program: 'false'\n"
     ]
    }
   ],
   "source": [
    "%%script false --no-raise-error\n",
    "\n",
    "emojis[\"good\"]"
   ]
  },
  {
   "cell_type": "code",
   "execution_count": 33,
   "id": "b255b871",
   "metadata": {},
   "outputs": [],
   "source": [
    "emojis2 = {value: key for key, value in emojis.items()}"
   ]
  },
  {
   "cell_type": "code",
   "execution_count": 34,
   "id": "518151e0",
   "metadata": {},
   "outputs": [
    {
     "data": {
      "text/plain": [
       "{'good': '😇', 'bad': '😈', 'sad': '😞'}"
      ]
     },
     "execution_count": 34,
     "metadata": {},
     "output_type": "execute_result"
    }
   ],
   "source": [
    "{value: key for key, value in emojis.items()}"
   ]
  },
  {
   "cell_type": "code",
   "execution_count": 35,
   "id": "2b6423ef",
   "metadata": {},
   "outputs": [
    {
     "data": {
      "text/plain": [
       "'good'"
      ]
     },
     "execution_count": 35,
     "metadata": {},
     "output_type": "execute_result"
    }
   ],
   "source": [
    "emojis[\"😇\"]"
   ]
  },
  {
   "cell_type": "code",
   "execution_count": 36,
   "id": "536ad20d",
   "metadata": {},
   "outputs": [
    {
     "data": {
      "text/plain": [
       "'😇'"
      ]
     },
     "execution_count": 36,
     "metadata": {},
     "output_type": "execute_result"
    }
   ],
   "source": [
    "emojis2[\"good\"]"
   ]
  },
  {
   "cell_type": "markdown",
   "id": "5629a513",
   "metadata": {},
   "source": [
    "### Recursion"
   ]
  },
  {
   "cell_type": "code",
   "execution_count": 37,
   "id": "6e25ef9f",
   "metadata": {},
   "outputs": [],
   "source": [
    "def countdown(n):\n",
    "    if n > 0: \n",
    "        print(n)\n",
    "        countdown(n-1)\n",
    "    else:\n",
    "        print(\"🤯\")\n",
    "        return"
   ]
  },
  {
   "cell_type": "code",
   "execution_count": 38,
   "id": "a59853f8",
   "metadata": {},
   "outputs": [
    {
     "name": "stdout",
     "output_type": "stream",
     "text": [
      "10\n",
      "9\n",
      "8\n",
      "7\n",
      "6\n",
      "5\n",
      "4\n",
      "3\n",
      "2\n",
      "1\n",
      "🤯\n"
     ]
    }
   ],
   "source": [
    "countdown(10)"
   ]
  },
  {
   "cell_type": "code",
   "execution_count": 39,
   "id": "0cb862ac",
   "metadata": {},
   "outputs": [],
   "source": [
    "def countdown(n):\n",
    "    while n > 0:\n",
    "        print(n)\n",
    "        n -= 1\n",
    "    print(\"🤯\")"
   ]
  },
  {
   "cell_type": "code",
   "execution_count": 40,
   "id": "9d7214b6",
   "metadata": {},
   "outputs": [
    {
     "name": "stdout",
     "output_type": "stream",
     "text": [
      "10\n",
      "9\n",
      "8\n",
      "7\n",
      "6\n",
      "5\n",
      "4\n",
      "3\n",
      "2\n",
      "1\n",
      "🤯\n"
     ]
    }
   ],
   "source": [
    "countdown(n=10)"
   ]
  },
  {
   "cell_type": "markdown",
   "id": "cd77087c",
   "metadata": {},
   "source": [
    "### [tqdm](https://github.com/tqdm/tqdm)"
   ]
  },
  {
   "cell_type": "code",
   "execution_count": 41,
   "id": "ea1378ef",
   "metadata": {},
   "outputs": [
    {
     "name": "stderr",
     "output_type": "stream",
     "text": [
      "100%|██████████| 49/49 [00:25<00:00,  1.90it/s]\n"
     ]
    }
   ],
   "source": [
    "import time\n",
    "import random\n",
    "from tqdm import tqdm\n",
    "\n",
    "pages = range(1, 50)\n",
    "\n",
    "for page in tqdm(pages):\n",
    "    time.sleep(random.randrange(1, 10)/10)"
   ]
  },
  {
   "cell_type": "markdown",
   "id": "605338b0",
   "metadata": {},
   "source": [
    "### Homework\n",
    "\n",
    "<div class='alert alert-info'>\n",
    "  🎒 Solve this \"Interview\" style question...\n",
    "</div>"
   ]
  },
  {
   "cell_type": "code",
   "execution_count": 42,
   "id": "d4820d62",
   "metadata": {},
   "outputs": [
    {
     "data": {
      "text/plain": [
       "'\\nImagine we have a \"robot\" that picks items from a shelf. \\nThe robot can go up (U), down (D), left (L), or right (R)... \\nGiven a sequence of \"directions\", create a function to determine if the \\nrobot successfully picked the item from the shelf and has returned\\nto it\\'s starting position.\\n \\nExample 1:\\nInput: moves = \"UDUD\"\\nOutput: true\\n\\nExample 2:\\nInput: moves = \"LLLLDDDU\"\\nOutput: false\\n\\nExample 3:\\nInput: moves = \"RRDDLULU\"\\nOutput: true\\n'"
      ]
     },
     "execution_count": 42,
     "metadata": {},
     "output_type": "execute_result"
    }
   ],
   "source": [
    "'''\n",
    "Imagine we have a \"robot\" that picks items from a shelf. \n",
    "The robot can go up (U), down (D), left (L), or right (R)... \n",
    "Given a sequence of \"directions\", create a function to determine if the \n",
    "robot successfully picked the item from the shelf and has returned\n",
    "to it's starting position.\n",
    " \n",
    "Example 1:\n",
    "Input: moves = \"UDUD\"\n",
    "Output: true\n",
    "\n",
    "Example 2:\n",
    "Input: moves = \"LLLLDDDU\"\n",
    "Output: false\n",
    "\n",
    "Example 3:\n",
    "Input: moves = \"RRDDLULU\"\n",
    "Output: true\n",
    "'''"
   ]
  },
  {
   "cell_type": "code",
   "execution_count": 43,
   "id": "e83ace9f",
   "metadata": {},
   "outputs": [],
   "source": [
    "moves = \"LLLLDDDU\"\n",
    "\n",
    "def did_pick_and_return(moves):\n",
    "    x = y = 0\n",
    "    for move in moves:\n",
    "        if move == 'R':\n",
    "            x += 1\n",
    "        if move == 'L':\n",
    "            x -= 1\n",
    "        if move == 'U':\n",
    "            y += 1\n",
    "        if move == 'D':\n",
    "            y -= 1\n",
    "    return x == 0 and y == 0"
   ]
  },
  {
   "cell_type": "code",
   "execution_count": 44,
   "id": "f8098b50",
   "metadata": {},
   "outputs": [
    {
     "data": {
      "text/plain": [
       "True"
      ]
     },
     "execution_count": 44,
     "metadata": {},
     "output_type": "execute_result"
    }
   ],
   "source": [
    "did_pick_and_return(\"RRDDLULU\")"
   ]
  }
 ],
 "metadata": {
  "kernelspec": {
   "display_name": "Python 3",
   "language": "python",
   "name": "python3"
  },
  "language_info": {
   "codemirror_mode": {
    "name": "ipython",
    "version": 3
   },
   "file_extension": ".py",
   "mimetype": "text/x-python",
   "name": "python",
   "nbconvert_exporter": "python",
   "pygments_lexer": "ipython3",
   "version": "3.13.2"
  }
 },
 "nbformat": 4,
 "nbformat_minor": 5
}
