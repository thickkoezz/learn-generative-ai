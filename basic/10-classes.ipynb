{
 "cells": [
  {
   "cell_type": "markdown",
   "id": "87de79dc",
   "metadata": {},
   "source": [
    "# Classes"
   ]
  },
  {
   "cell_type": "markdown",
   "id": "6f8f6656",
   "metadata": {},
   "source": [
    "### \"Classic Example\""
   ]
  },
  {
   "cell_type": "code",
   "execution_count": 1,
   "id": "4c6f4d76",
   "metadata": {},
   "outputs": [],
   "source": [
    "class Dog:\n",
    "    \"\"\"A dog (lol, duh)\"\"\"\n",
    "\n",
    "    def __init__(self, name, breed):\n",
    "        \"\"\"Initialize name and breed attributes\"\"\"\n",
    "        self.name = name\n",
    "        self.breed = breed\n",
    "\n",
    "    def sit(self):\n",
    "        \"\"\"Sit on command\"\"\"\n",
    "        print(f\"{self.name} is now sitting\")\n",
    "\n",
    "    def roll_over(self):\n",
    "        \"\"\"Roll over on command\"\"\"\n",
    "        print(f\"{self.name} rolled over\")"
   ]
  },
  {
   "cell_type": "code",
   "execution_count": 2,
   "id": "ff46667b",
   "metadata": {},
   "outputs": [],
   "source": [
    "dog = Dog(\"fido\", \"german shepherd\")"
   ]
  },
  {
   "cell_type": "code",
   "execution_count": 3,
   "id": "a463a6cd",
   "metadata": {},
   "outputs": [
    {
     "name": "stdout",
     "output_type": "stream",
     "text": [
      "fido is now sitting\n"
     ]
    }
   ],
   "source": [
    "dog.sit()"
   ]
  },
  {
   "cell_type": "markdown",
   "id": "bd598fb3",
   "metadata": {},
   "source": [
    "### Real Example"
   ]
  },
  {
   "cell_type": "markdown",
   "id": "170f91ea",
   "metadata": {},
   "source": [
    "Create a \"dictionary\" that can do two-way look up:\n",
    "\n",
    "```python\n",
    ">>> d = {\"nihao\": \"hello\"}\n",
    ">>> d[\"nihao\"]\n",
    "\"hello\"\n",
    ">>> d[\"hello\"]\n",
    "\"nihao\"\n",
    "```"
   ]
  },
  {
   "cell_type": "code",
   "execution_count": 4,
   "id": "2e9d3dc0",
   "metadata": {},
   "outputs": [],
   "source": [
    "vocab = dict()"
   ]
  },
  {
   "cell_type": "code",
   "execution_count": 5,
   "id": "65d7cced",
   "metadata": {},
   "outputs": [],
   "source": [
    "vocab[\"nihao\"] = \"hello\""
   ]
  },
  {
   "cell_type": "code",
   "execution_count": 6,
   "id": "7d746002",
   "metadata": {},
   "outputs": [
    {
     "data": {
      "text/plain": [
       "'hello'"
      ]
     },
     "execution_count": 6,
     "metadata": {},
     "output_type": "execute_result"
    }
   ],
   "source": [
    "vocab[\"nihao\"]"
   ]
  },
  {
   "cell_type": "code",
   "execution_count": 7,
   "id": "6fbce47a",
   "metadata": {},
   "outputs": [],
   "source": [
    "vocab[\"hello\"] = \"nihao\""
   ]
  },
  {
   "cell_type": "markdown",
   "id": "930b1dc7",
   "metadata": {},
   "source": [
    "### `__init__`"
   ]
  },
  {
   "cell_type": "code",
   "execution_count": 8,
   "id": "6386d469",
   "metadata": {},
   "outputs": [],
   "source": [
    "class bidict:\n",
    "    def __init__(self, data):\n",
    "        self.key_dict = data\n",
    "        self.value_dict = {v: k for k, v in data.items()}"
   ]
  },
  {
   "cell_type": "code",
   "execution_count": 9,
   "id": "8cc55138",
   "metadata": {},
   "outputs": [],
   "source": [
    "vocab = bidict({\"nihao\": \"hello\"})"
   ]
  },
  {
   "cell_type": "code",
   "execution_count": 10,
   "id": "ebb02527",
   "metadata": {},
   "outputs": [
    {
     "data": {
      "text/plain": [
       "'hello'"
      ]
     },
     "execution_count": 10,
     "metadata": {},
     "output_type": "execute_result"
    }
   ],
   "source": [
    "vocab.key_dict[\"nihao\"]"
   ]
  },
  {
   "cell_type": "code",
   "execution_count": 11,
   "id": "818b7e1c",
   "metadata": {},
   "outputs": [
    {
     "data": {
      "text/plain": [
       "'nihao'"
      ]
     },
     "execution_count": 11,
     "metadata": {},
     "output_type": "execute_result"
    }
   ],
   "source": [
    "vocab.value_dict[\"hello\"]"
   ]
  },
  {
   "cell_type": "code",
   "execution_count": 12,
   "id": "b0a262a7",
   "metadata": {},
   "outputs": [],
   "source": [
    "vocab.key_dict[\"ni\"] = \"you\""
   ]
  },
  {
   "cell_type": "code",
   "execution_count": 13,
   "id": "4599e6f1",
   "metadata": {},
   "outputs": [
    {
     "data": {
      "text/plain": [
       "{'hello': 'nihao'}"
      ]
     },
     "execution_count": 13,
     "metadata": {},
     "output_type": "execute_result"
    }
   ],
   "source": [
    "vocab.value_dict"
   ]
  },
  {
   "cell_type": "markdown",
   "id": "080953f9",
   "metadata": {},
   "source": [
    "### Methods + Properties"
   ]
  },
  {
   "cell_type": "code",
   "execution_count": 14,
   "id": "88c8445b",
   "metadata": {},
   "outputs": [],
   "source": [
    "class bidict:\n",
    "    def __init__(self, data):\n",
    "        if isinstance(data, dict):\n",
    "            self._kdict = data\n",
    "        else:\n",
    "            raise TypeError(\"data must be a dict\")\n",
    "    \n",
    "    @property\n",
    "    def _vdict(self):\n",
    "        return {v: k for k, v in self._kdict.items()}\n",
    "    \n",
    "    def get(self, key):\n",
    "        return self._kdict.get(key, self._vdict.get(key))"
   ]
  },
  {
   "cell_type": "code",
   "execution_count": 15,
   "id": "4bf3faad",
   "metadata": {},
   "outputs": [],
   "source": [
    "vocab = bidict({\"nihao\": \"hello\"})"
   ]
  },
  {
   "cell_type": "code",
   "execution_count": 16,
   "id": "e32d5982",
   "metadata": {},
   "outputs": [
    {
     "data": {
      "text/plain": [
       "'hello'"
      ]
     },
     "execution_count": 16,
     "metadata": {},
     "output_type": "execute_result"
    }
   ],
   "source": [
    "vocab.get(\"nihao\")"
   ]
  },
  {
   "cell_type": "code",
   "execution_count": 17,
   "id": "d2deda64",
   "metadata": {},
   "outputs": [],
   "source": [
    "vocab._kdict[\"ni\"] = \"you\""
   ]
  },
  {
   "cell_type": "code",
   "execution_count": 18,
   "id": "fe7c361b",
   "metadata": {},
   "outputs": [
    {
     "name": "stdout",
     "output_type": "stream",
     "text": [
      "Couldn't find program: 'false'\n"
     ]
    }
   ],
   "source": [
    "%%script false --no-raise-error\n",
    "\n",
    "vocab[\"nihao\"]"
   ]
  },
  {
   "cell_type": "code",
   "execution_count": 19,
   "id": "81f4ccd6",
   "metadata": {},
   "outputs": [
    {
     "data": {
      "text/plain": [
       "{'hello': 'nihao', 'you': 'ni'}"
      ]
     },
     "execution_count": 19,
     "metadata": {},
     "output_type": "execute_result"
    }
   ],
   "source": [
    "vocab._vdict"
   ]
  },
  {
   "cell_type": "markdown",
   "id": "1b83addd",
   "metadata": {},
   "source": [
    "### \"Dunder\" Methods"
   ]
  },
  {
   "cell_type": "code",
   "execution_count": 20,
   "id": "0cfaf8ed",
   "metadata": {},
   "outputs": [],
   "source": [
    "class bidict:\n",
    "    def __repr__(self):\n",
    "        return self._kdict.__repr__()\n",
    "    \n",
    "    def __init__(self, data):\n",
    "        if isinstance(data, dict):\n",
    "            self._kdict = data\n",
    "        else:\n",
    "            raise TypeError(\"data must be a dict\")\n",
    "    \n",
    "    @property\n",
    "    def _vdict(self):\n",
    "        return {v: k for k, v in self._kdict.items()}\n",
    "    \n",
    "    def get(self, key):\n",
    "        return self._kdict.get(key, self._vdict.get(key))\n",
    "    \n",
    "    def __getitem__(self, key):\n",
    "        try:\n",
    "            return self._kdict[key]\n",
    "        except KeyError:\n",
    "            return self._vdict[key]\n",
    "        \n",
    "    def __setitem__(self, key, newvalue):\n",
    "        self._kdict[key] = newvalue"
   ]
  },
  {
   "cell_type": "code",
   "execution_count": 21,
   "id": "5318140e",
   "metadata": {},
   "outputs": [],
   "source": [
    "vocab = bidict({\"nihao\": \"hello\", \"ni\": \"you\"})"
   ]
  },
  {
   "cell_type": "code",
   "execution_count": 22,
   "id": "78fb08d8",
   "metadata": {},
   "outputs": [
    {
     "data": {
      "text/plain": [
       "'you'"
      ]
     },
     "execution_count": 22,
     "metadata": {},
     "output_type": "execute_result"
    }
   ],
   "source": [
    "vocab[\"ni\"]"
   ]
  },
  {
   "cell_type": "code",
   "execution_count": 23,
   "id": "6426e529",
   "metadata": {},
   "outputs": [
    {
     "data": {
      "text/plain": [
       "'ni'"
      ]
     },
     "execution_count": 23,
     "metadata": {},
     "output_type": "execute_result"
    }
   ],
   "source": [
    "vocab[\"you\"]"
   ]
  },
  {
   "cell_type": "code",
   "execution_count": 24,
   "id": "dab1ec0c",
   "metadata": {},
   "outputs": [],
   "source": [
    "vocab[\"wo\"] = \"i\""
   ]
  },
  {
   "cell_type": "code",
   "execution_count": 25,
   "id": "d2b103b9",
   "metadata": {},
   "outputs": [
    {
     "data": {
      "text/plain": [
       "'i'"
      ]
     },
     "execution_count": 25,
     "metadata": {},
     "output_type": "execute_result"
    }
   ],
   "source": [
    "vocab[\"wo\"]"
   ]
  },
  {
   "cell_type": "code",
   "execution_count": 26,
   "id": "cb278e49",
   "metadata": {},
   "outputs": [
    {
     "data": {
      "text/plain": [
       "{'nihao': 'hello', 'ni': 'you', 'wo': 'i'}"
      ]
     },
     "execution_count": 26,
     "metadata": {},
     "output_type": "execute_result"
    }
   ],
   "source": [
    "vocab"
   ]
  },
  {
   "cell_type": "code",
   "execution_count": 27,
   "id": "63da1e22",
   "metadata": {},
   "outputs": [
    {
     "data": {
      "text/plain": [
       "{'easier': 'to_read'}"
      ]
     },
     "execution_count": 27,
     "metadata": {},
     "output_type": "execute_result"
    }
   ],
   "source": [
    "{\"easier\": \"to_read\"}"
   ]
  },
  {
   "cell_type": "code",
   "execution_count": 28,
   "id": "a7a2c363",
   "metadata": {},
   "outputs": [
    {
     "data": {
      "text/plain": [
       "['__class__',\n",
       " '__class_getitem__',\n",
       " '__contains__',\n",
       " '__delattr__',\n",
       " '__delitem__',\n",
       " '__dir__',\n",
       " '__doc__',\n",
       " '__eq__',\n",
       " '__format__',\n",
       " '__ge__',\n",
       " '__getattribute__',\n",
       " '__getitem__',\n",
       " '__getstate__',\n",
       " '__gt__',\n",
       " '__hash__',\n",
       " '__init__',\n",
       " '__init_subclass__',\n",
       " '__ior__',\n",
       " '__iter__',\n",
       " '__le__',\n",
       " '__len__',\n",
       " '__lt__',\n",
       " '__ne__',\n",
       " '__new__',\n",
       " '__or__',\n",
       " '__reduce__',\n",
       " '__reduce_ex__',\n",
       " '__repr__',\n",
       " '__reversed__',\n",
       " '__ror__',\n",
       " '__setattr__',\n",
       " '__setitem__',\n",
       " '__sizeof__',\n",
       " '__str__',\n",
       " '__subclasshook__',\n",
       " 'clear',\n",
       " 'copy',\n",
       " 'fromkeys',\n",
       " 'get',\n",
       " 'items',\n",
       " 'keys',\n",
       " 'pop',\n",
       " 'popitem',\n",
       " 'setdefault',\n",
       " 'update',\n",
       " 'values']"
      ]
     },
     "execution_count": 28,
     "metadata": {},
     "output_type": "execute_result"
    }
   ],
   "source": [
    "dir(dict())"
   ]
  },
  {
   "cell_type": "markdown",
   "id": "f04f04c5",
   "metadata": {},
   "source": [
    "### Operator Overloading"
   ]
  },
  {
   "cell_type": "code",
   "execution_count": 29,
   "id": "6bb220ae",
   "metadata": {},
   "outputs": [],
   "source": [
    "unidict = {\"key_1\": 1, \"key_2\": 2} | {\"key_3\": 3, \"key_4\": 4, \"key_1\": \"Hey\"}"
   ]
  },
  {
   "cell_type": "code",
   "execution_count": 30,
   "id": "68c502c1",
   "metadata": {},
   "outputs": [],
   "source": [
    "class bidict:\n",
    "    def __repr__(self):\n",
    "        return self._kdict.__repr__()\n",
    "    \n",
    "    def __init__(self, data):\n",
    "        if isinstance(data, dict):\n",
    "            self._kdict = data\n",
    "        else:\n",
    "            raise TypeError(\"data must be a dict\")\n",
    "    \n",
    "    @property\n",
    "    def _vdict(self):\n",
    "        return {v: k for k, v in self._kdict.items()}\n",
    "    \n",
    "    def get(self, key):\n",
    "        return self._kdict.get(key, self._vdict.get(key))\n",
    "    \n",
    "    def __getitem__(self, key):\n",
    "        try:\n",
    "            return self._kdict[key]\n",
    "        except KeyError:\n",
    "            return self._vdict[key]\n",
    "        \n",
    "    def __setitem__(self, key, newvalue):\n",
    "        self._kdict[key] = newvalue\n",
    "        \n",
    "    def __or__(self, rhs):\n",
    "        if isinstance(rhs, bidict):\n",
    "            rhs = rhs._kdict\n",
    "        lhs = self._kdict\n",
    "        new = lhs | rhs\n",
    "        return bidict(new)"
   ]
  },
  {
   "cell_type": "code",
   "execution_count": 31,
   "id": "6c3d40a6",
   "metadata": {},
   "outputs": [],
   "source": [
    "new_vocab = bidict({\"ni\": \"you\"}) | bidict({\"wo\": \"i\"})"
   ]
  },
  {
   "cell_type": "code",
   "execution_count": 32,
   "id": "4e02de99",
   "metadata": {},
   "outputs": [
    {
     "data": {
      "text/plain": [
       "{'ni': 'you', 'wo': 'i'}"
      ]
     },
     "execution_count": 32,
     "metadata": {},
     "output_type": "execute_result"
    }
   ],
   "source": [
    "new_vocab"
   ]
  },
  {
   "cell_type": "markdown",
   "id": "87389928",
   "metadata": {},
   "source": [
    "### Challenge\n",
    "\n",
    "<div class='alert alert-info'>\n",
    "  🎒 Implement an inplace \"__ior__\" (|=) updating method for bidict\n",
    "</div>"
   ]
  },
  {
   "cell_type": "code",
   "execution_count": 33,
   "id": "2efdbb37",
   "metadata": {},
   "outputs": [],
   "source": [
    "my_dict = {\"ni\": \"you\"}"
   ]
  },
  {
   "cell_type": "code",
   "execution_count": 34,
   "id": "3c82042c",
   "metadata": {},
   "outputs": [],
   "source": [
    "my_dict |= {\"wo\": \"i\"}"
   ]
  },
  {
   "cell_type": "code",
   "execution_count": 35,
   "id": "cbace6ea",
   "metadata": {},
   "outputs": [
    {
     "data": {
      "text/plain": [
       "{'ni': 'you', 'wo': 'i'}"
      ]
     },
     "execution_count": 35,
     "metadata": {},
     "output_type": "execute_result"
    }
   ],
   "source": [
    "my_dict"
   ]
  },
  {
   "cell_type": "code",
   "execution_count": 36,
   "id": "40069e25",
   "metadata": {},
   "outputs": [],
   "source": [
    "my_number = 4"
   ]
  },
  {
   "cell_type": "code",
   "execution_count": 37,
   "id": "51a46302",
   "metadata": {},
   "outputs": [],
   "source": [
    "my_number += 4"
   ]
  },
  {
   "cell_type": "code",
   "execution_count": 38,
   "id": "4765a6d8",
   "metadata": {},
   "outputs": [
    {
     "data": {
      "text/plain": [
       "8"
      ]
     },
     "execution_count": 38,
     "metadata": {},
     "output_type": "execute_result"
    }
   ],
   "source": [
    "my_number"
   ]
  },
  {
   "cell_type": "code",
   "execution_count": 39,
   "id": "38028873",
   "metadata": {},
   "outputs": [],
   "source": [
    "class bidict:\n",
    "    def __repr__(self):\n",
    "        return self._kdict.__repr__()\n",
    "    \n",
    "    def __init__(self, data=None):\n",
    "        if not data: \n",
    "            self._kdict = dict()\n",
    "        elif isinstance(data, dict):\n",
    "            self._kdict = data\n",
    "        else:\n",
    "            raise TypeError(\"data must be a dict\")\n",
    "    \n",
    "    @property\n",
    "    def _vdict(self):\n",
    "        return {v: k for k, v in self._kdict.items()}\n",
    "    \n",
    "    def get(self, key):\n",
    "        return self._kdict.get(key, self._vdict.get(key))\n",
    "    \n",
    "    def __getitem__(self, key):\n",
    "        try:\n",
    "            return self._kdict[key]\n",
    "        except KeyError:\n",
    "            return self._vdict[key]\n",
    "        \n",
    "    def __setitem__(self, key, newvalue):\n",
    "        self._kdict[key] = newvalue\n",
    "        \n",
    "    def __or__(self, rhs):\n",
    "        if isinstance(rhs, bidict):\n",
    "            rhs = rhs._kdict\n",
    "        lhs = self._kdict\n",
    "        new = lhs | rhs\n",
    "        return bidict(new)\n",
    "    \n",
    "    def __ior__(self, rhs):\n",
    "        self = self | rhs\n",
    "        return self"
   ]
  },
  {
   "cell_type": "code",
   "execution_count": 40,
   "id": "de6a7509",
   "metadata": {},
   "outputs": [],
   "source": [
    "vocab = bidict({\"hi\": \"nihao\", \"you\": \"ni\", \"good\": \"hao\"})"
   ]
  },
  {
   "cell_type": "code",
   "execution_count": 41,
   "id": "94530bec",
   "metadata": {},
   "outputs": [],
   "source": [
    "vocab |= {\"like\": \"xihuan\"}"
   ]
  },
  {
   "cell_type": "code",
   "execution_count": 42,
   "id": "d6475e2e",
   "metadata": {},
   "outputs": [
    {
     "data": {
      "text/plain": [
       "'like'"
      ]
     },
     "execution_count": 42,
     "metadata": {},
     "output_type": "execute_result"
    }
   ],
   "source": [
    "vocab[\"xihuan\"]"
   ]
  },
  {
   "cell_type": "markdown",
   "id": "c19644fc",
   "metadata": {},
   "source": [
    "### Inheritance"
   ]
  },
  {
   "cell_type": "code",
   "execution_count": 43,
   "id": "e8e91360",
   "metadata": {},
   "outputs": [
    {
     "data": {
      "text/plain": [
       "['rock', 'paper', 'scissors', 'scissors', 'paper']"
      ]
     },
     "execution_count": 43,
     "metadata": {},
     "output_type": "execute_result"
    }
   ],
   "source": [
    "['rock', 'paper', 'scissors', 'scissors', 'paper']"
   ]
  },
  {
   "cell_type": "code",
   "execution_count": 44,
   "id": "6961d311",
   "metadata": {},
   "outputs": [
    {
     "data": {
      "text/plain": [
       "[1, 2, 0, 0, 2]"
      ]
     },
     "execution_count": 44,
     "metadata": {},
     "output_type": "execute_result"
    }
   ],
   "source": [
    "[1, 2, 0, 0, 2]"
   ]
  },
  {
   "cell_type": "code",
   "execution_count": 45,
   "id": "df665103",
   "metadata": {},
   "outputs": [
    {
     "data": {
      "text/plain": [
       "{'rock': 0, 'scissors': 1, 'paper': 2}"
      ]
     },
     "execution_count": 45,
     "metadata": {},
     "output_type": "execute_result"
    }
   ],
   "source": [
    "X = ['rock', 'paper', 'scissors', 'scissors', 'paper']\n",
    "{x: i for i, x in enumerate(set(X))}"
   ]
  },
  {
   "cell_type": "code",
   "execution_count": 46,
   "id": "5cb64a75",
   "metadata": {},
   "outputs": [],
   "source": [
    "seqdict = {v: k for k, v in enumerate(set(X))}"
   ]
  },
  {
   "cell_type": "code",
   "execution_count": 47,
   "id": "7a5d9c54",
   "metadata": {},
   "outputs": [
    {
     "data": {
      "text/plain": [
       "{0: 'rock', 1: 'scissors', 2: 'paper'}"
      ]
     },
     "execution_count": 47,
     "metadata": {},
     "output_type": "execute_result"
    }
   ],
   "source": [
    "{v: k for k, v in seqdict.items()}"
   ]
  },
  {
   "cell_type": "markdown",
   "id": "874f5199",
   "metadata": {},
   "source": [
    "### Blueprint\n",
    "\n",
    "```python\n",
    "X = ['rock', 'paper', 'scissors', 'scissors', 'paper']\n",
    "encoder = Encoder()\n",
    "encoder.fit(X)\n",
    "encoder.transform(X)\n",
    "[1, 2, 0, 0, 2]\n",
    "encoder.inverse_transform(1)\n",
    "\"rock\"\n",
    "```"
   ]
  },
  {
   "cell_type": "code",
   "execution_count": 48,
   "id": "502f9ffc",
   "metadata": {},
   "outputs": [],
   "source": [
    "class ListEncoder(bidict):\n",
    "    def __init__(self):\n",
    "        self = super().__init__()\n",
    "        \n",
    "    def fit(self, X):\n",
    "        if not isinstance(X, list):\n",
    "            raise TypeError(\"X must be a list\")\n",
    "        self._kdict = dict(enumerate(set(X)))\n",
    "        return self\n",
    "    \n",
    "    def transform(self, X):\n",
    "        if not isinstance(X, list):\n",
    "            return self._vdict[X]\n",
    "        return [self._vdict.get(xi) for xi in X]\n",
    "    \n",
    "    def inverse_transform(self, X):\n",
    "        if not isinstance(X, list):\n",
    "            return self._kdict[X]\n",
    "        return [self._kdict.get(xi) for xi in X]"
   ]
  },
  {
   "cell_type": "code",
   "execution_count": 49,
   "id": "f1fcc834",
   "metadata": {},
   "outputs": [],
   "source": [
    "le = ListEncoder()"
   ]
  },
  {
   "cell_type": "code",
   "execution_count": 50,
   "id": "f80d58f6",
   "metadata": {},
   "outputs": [
    {
     "data": {
      "text/plain": [
       "{0: 'P', 1: 'S', 2: 'R'}"
      ]
     },
     "execution_count": 50,
     "metadata": {},
     "output_type": "execute_result"
    }
   ],
   "source": [
    "le.fit([\"R\", \"P\", \"S\", \"R\"])"
   ]
  },
  {
   "cell_type": "code",
   "execution_count": 51,
   "id": "cb4d4204",
   "metadata": {},
   "outputs": [
    {
     "data": {
      "text/plain": [
       "[2, 1]"
      ]
     },
     "execution_count": 51,
     "metadata": {},
     "output_type": "execute_result"
    }
   ],
   "source": [
    "le.transform([\"R\", \"S\"])"
   ]
  },
  {
   "cell_type": "code",
   "execution_count": 52,
   "id": "24fa469f",
   "metadata": {},
   "outputs": [
    {
     "data": {
      "text/plain": [
       "0"
      ]
     },
     "execution_count": 52,
     "metadata": {},
     "output_type": "execute_result"
    }
   ],
   "source": [
    "le.transform(\"P\")"
   ]
  },
  {
   "cell_type": "code",
   "execution_count": 53,
   "id": "70d6a3ae",
   "metadata": {},
   "outputs": [
    {
     "data": {
      "text/plain": [
       "'S'"
      ]
     },
     "execution_count": 53,
     "metadata": {},
     "output_type": "execute_result"
    }
   ],
   "source": [
    "le.inverse_transform(1)"
   ]
  },
  {
   "cell_type": "code",
   "execution_count": 54,
   "id": "adcee9dc",
   "metadata": {},
   "outputs": [
    {
     "data": {
      "text/plain": [
       "['S', 'R', 'R', 'P']"
      ]
     },
     "execution_count": 54,
     "metadata": {},
     "output_type": "execute_result"
    }
   ],
   "source": [
    "le.inverse_transform([1, 2, 2, 0])"
   ]
  },
  {
   "cell_type": "markdown",
   "id": "103668a8",
   "metadata": {},
   "source": [
    "### Homework\n",
    "\n",
    "<div class='alert alert-info'>\n",
    "  🎒 Implement a `.fit_transform()` method that fits and then transforms in a single step!\n",
    "</div>"
   ]
  },
  {
   "cell_type": "code",
   "execution_count": 55,
   "id": "bbc7b4be",
   "metadata": {},
   "outputs": [],
   "source": [
    "class ListEncoder(bidict):\n",
    "    def __init__(self):\n",
    "        self = super().__init__()\n",
    "        \n",
    "    def fit(self, X):\n",
    "        if not isinstance(X, list):\n",
    "            raise TypeError(\"X must be a list\")\n",
    "        self._kdict = dict(enumerate(set(X)))\n",
    "        return self\n",
    "    \n",
    "    def transform(self, X):\n",
    "        if not isinstance(X, list):\n",
    "            return self._vdict[X]\n",
    "        return [self._vdict.get(xi) for xi in X]\n",
    "    \n",
    "    def inverse_transform(self, X):\n",
    "        if not isinstance(X, list):\n",
    "            return self._kdict[X]\n",
    "        return [self._kdict.get(xi) for xi in X]\n",
    "    \n",
    "    def fit_transform(self, X):\n",
    "        self.fit(X)\n",
    "        return self.transform(X)"
   ]
  },
  {
   "cell_type": "code",
   "execution_count": 56,
   "id": "7c4764c9",
   "metadata": {},
   "outputs": [
    {
     "data": {
      "text/plain": [
       "[2, 0, 1, 2]"
      ]
     },
     "execution_count": 56,
     "metadata": {},
     "output_type": "execute_result"
    }
   ],
   "source": [
    "le = ListEncoder()\n",
    "le.fit_transform([\"R\", \"P\", \"S\", \"R\"])"
   ]
  }
 ],
 "metadata": {
  "kernelspec": {
   "display_name": "Python 3",
   "language": "python",
   "name": "python3"
  },
  "language_info": {
   "codemirror_mode": {
    "name": "ipython",
    "version": 3
   },
   "file_extension": ".py",
   "mimetype": "text/x-python",
   "name": "python",
   "nbconvert_exporter": "python",
   "pygments_lexer": "ipython3",
   "version": "3.13.2"
  }
 },
 "nbformat": 4,
 "nbformat_minor": 5
}
