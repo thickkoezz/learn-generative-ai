{
 "cells": [
  {
   "cell_type": "markdown",
   "id": "d32d36aa",
   "metadata": {},
   "source": [
    "# \"Rules\""
   ]
  },
  {
   "cell_type": "markdown",
   "id": "4deb4ea3",
   "metadata": {},
   "source": [
    "### `if`"
   ]
  },
  {
   "cell_type": "code",
   "execution_count": 1,
   "id": "0adf1356",
   "metadata": {},
   "outputs": [],
   "source": [
    "# Nov - Feb = Snowboard\n",
    "# May - Sep = Volleyball"
   ]
  },
  {
   "cell_type": "code",
   "execution_count": 2,
   "id": "0e690750",
   "metadata": {},
   "outputs": [],
   "source": [
    "month = \"September\""
   ]
  },
  {
   "cell_type": "code",
   "execution_count": 3,
   "id": "cbf63ae3",
   "metadata": {},
   "outputs": [],
   "source": [
    "if month == \"August\":\n",
    "    print(\"Play Volleyball\")"
   ]
  },
  {
   "cell_type": "code",
   "execution_count": 4,
   "id": "c785d7f8",
   "metadata": {},
   "outputs": [
    {
     "data": {
      "text/plain": [
       "False"
      ]
     },
     "execution_count": 4,
     "metadata": {},
     "output_type": "execute_result"
    }
   ],
   "source": [
    "month == \"August\""
   ]
  },
  {
   "cell_type": "markdown",
   "id": "1f5d93bb",
   "metadata": {},
   "source": [
    "### Multiple `if`s"
   ]
  },
  {
   "cell_type": "code",
   "execution_count": 5,
   "id": "5e23a5a2",
   "metadata": {},
   "outputs": [
    {
     "name": "stdout",
     "output_type": "stream",
     "text": [
      "Play Volleyball\n"
     ]
    }
   ],
   "source": [
    "month = \"June\"\n",
    "\n",
    "if month == \"June\":\n",
    "    print(\"Play Volleyball\")\n",
    "if month == \"July\":\n",
    "    print(\"Play Volleyball\")\n",
    "if month == \"August\":\n",
    "    print(\"Play Volleyball\")\n",
    "if month == \"November\":\n",
    "    print(\"Go snowboarding\")"
   ]
  },
  {
   "cell_type": "markdown",
   "id": "315ee3dd",
   "metadata": {},
   "source": [
    "### Months"
   ]
  },
  {
   "cell_type": "code",
   "execution_count": 6,
   "id": "dc90781c",
   "metadata": {},
   "outputs": [],
   "source": [
    "months = [\n",
    "    \"Jan\", \"Feb\", \"Mar\", \"Apr\", \"May\", \"Jun\", \n",
    "    \"Jul\", \"Aug\", \"Sep\", \"Oct\", \"Nov\", \"Dec\"\n",
    "]"
   ]
  },
  {
   "cell_type": "code",
   "execution_count": 7,
   "id": "2c5b1862",
   "metadata": {},
   "outputs": [],
   "source": [
    "months = dict(zip(months, range(1, 12+1)))"
   ]
  },
  {
   "cell_type": "code",
   "execution_count": 8,
   "id": "02fc0c73",
   "metadata": {},
   "outputs": [
    {
     "data": {
      "text/plain": [
       "{'Jan': 1,\n",
       " 'Feb': 2,\n",
       " 'Mar': 3,\n",
       " 'Apr': 4,\n",
       " 'May': 5,\n",
       " 'Jun': 6,\n",
       " 'Jul': 7,\n",
       " 'Aug': 8,\n",
       " 'Sep': 9,\n",
       " 'Oct': 10,\n",
       " 'Nov': 11,\n",
       " 'Dec': 12}"
      ]
     },
     "execution_count": 8,
     "metadata": {},
     "output_type": "execute_result"
    }
   ],
   "source": [
    "months"
   ]
  },
  {
   "cell_type": "code",
   "execution_count": 9,
   "id": "6992ecf7",
   "metadata": {},
   "outputs": [],
   "source": [
    "# Nov - Feb = Snowboard\n",
    "# May - Sep = Volleyball"
   ]
  },
  {
   "cell_type": "code",
   "execution_count": 10,
   "id": "b1f6ed39",
   "metadata": {},
   "outputs": [
    {
     "name": "stdout",
     "output_type": "stream",
     "text": [
      "Volleyball\n"
     ]
    }
   ],
   "source": [
    "current_month = \"Jun\"\n",
    "\n",
    "if months[current_month] in [11, 12, 1, 2]:\n",
    "    print(\"Snowboard\")\n",
    "if months[current_month] in [5, 6, 7, 8, 9]:\n",
    "    print(\"Volleyball\")"
   ]
  },
  {
   "cell_type": "markdown",
   "id": "813934a5",
   "metadata": {},
   "source": [
    "### `else`"
   ]
  },
  {
   "cell_type": "code",
   "execution_count": 11,
   "id": "19c4ae5e",
   "metadata": {},
   "outputs": [
    {
     "name": "stdout",
     "output_type": "stream",
     "text": [
      "Sit on couch and watch Netflix\n"
     ]
    }
   ],
   "source": [
    "current_month = \"Jan\"\n",
    "\n",
    "if months[current_month] in [5, 6, 7, 8, 9]:\n",
    "    print(\"Volleyball\")\n",
    "else:\n",
    "    print(\"Sit on couch and watch Netflix\")"
   ]
  },
  {
   "cell_type": "markdown",
   "id": "c267d794",
   "metadata": {},
   "source": [
    "### `elif`"
   ]
  },
  {
   "cell_type": "code",
   "execution_count": 12,
   "id": "9f9b0df6",
   "metadata": {},
   "outputs": [
    {
     "name": "stdout",
     "output_type": "stream",
     "text": [
      "Sit on the couch and watch Netflix\n"
     ]
    }
   ],
   "source": [
    "current_month = \"Apr\"\n",
    "\n",
    "month_number = months[current_month]\n",
    "\n",
    "if month_number in [11, 12, 1, 2]:\n",
    "    print(\"Snowboard\")\n",
    "elif (month_number >= 5) & (month_number <= 9): \n",
    "    print(\"Volleyball\")\n",
    "else:\n",
    "    print(\"Sit on the couch and watch Netflix\")"
   ]
  },
  {
   "cell_type": "markdown",
   "id": "f0f17cd3",
   "metadata": {},
   "source": [
    "### Encapsulate"
   ]
  },
  {
   "cell_type": "code",
   "execution_count": 13,
   "id": "1cc7ba9a",
   "metadata": {},
   "outputs": [],
   "source": [
    "def activity(month, summer=\"Play Volleyball\", winter=\"Go snowboarding\"):\n",
    "    month_number = months[month]\n",
    "    if month_number in [11, 12, 1, 2]:\n",
    "        return winter\n",
    "    elif (month_number >= 5) & (month_number <= 9): \n",
    "        return summer\n",
    "    else:\n",
    "        return \"Sit on the couch and watch Netflix\""
   ]
  },
  {
   "cell_type": "code",
   "execution_count": 14,
   "id": "272b0e4d",
   "metadata": {},
   "outputs": [
    {
     "data": {
      "text/plain": [
       "'Go Sailing'"
      ]
     },
     "execution_count": 14,
     "metadata": {},
     "output_type": "execute_result"
    }
   ],
   "source": [
    "activity(\"Jul\", summer=\"Go Sailing\", winter=\"Snow Shoeing\")"
   ]
  },
  {
   "cell_type": "markdown",
   "id": "813127e2",
   "metadata": {},
   "source": [
    "### Challenge\n",
    "\n",
    "<div class='alert alert-info'>\n",
    "  🎒 Write a solution to FizzBuzz\n",
    "</div>\n",
    "\n",
    "> \"Players generally sit in a circle. The player designated to go first says the number \"1\", and the players then count upwards in turn. However, any number divisible by three is replaced by the word fizz and any number divisible by five by the word buzz. Numbers divisible by 15 become fizzbuzz. A player who hesitates or makes a mistake is eliminated\""
   ]
  },
  {
   "cell_type": "code",
   "execution_count": 15,
   "id": "54fced5d",
   "metadata": {},
   "outputs": [],
   "source": [
    "number = 5"
   ]
  },
  {
   "cell_type": "code",
   "execution_count": 16,
   "id": "b3bb4f16",
   "metadata": {},
   "outputs": [],
   "source": [
    "def fizzbuzz(number):\n",
    "    if number % 3 == 0:\n",
    "        return \"fizz\"\n",
    "    if number % 5 == 0:\n",
    "        return \"buzz\"\n",
    "    if number % 3 == 0 and number % 5 == 0:\n",
    "        return \"fizzbuzz\"\n",
    "    return number"
   ]
  },
  {
   "cell_type": "code",
   "execution_count": 17,
   "id": "bd388b24",
   "metadata": {},
   "outputs": [
    {
     "data": {
      "text/plain": [
       "'buzz'"
      ]
     },
     "execution_count": 17,
     "metadata": {},
     "output_type": "execute_result"
    }
   ],
   "source": [
    "fizzbuzz(5)"
   ]
  },
  {
   "cell_type": "code",
   "execution_count": 18,
   "id": "02e84fc3",
   "metadata": {},
   "outputs": [
    {
     "data": {
      "text/plain": [
       "'fizz'"
      ]
     },
     "execution_count": 18,
     "metadata": {},
     "output_type": "execute_result"
    }
   ],
   "source": [
    "fizzbuzz(3)"
   ]
  },
  {
   "cell_type": "code",
   "execution_count": 19,
   "id": "04e8772b",
   "metadata": {},
   "outputs": [
    {
     "data": {
      "text/plain": [
       "1"
      ]
     },
     "execution_count": 19,
     "metadata": {},
     "output_type": "execute_result"
    }
   ],
   "source": [
    "fizzbuzz(1)"
   ]
  },
  {
   "cell_type": "code",
   "execution_count": 20,
   "id": "df873f31",
   "metadata": {},
   "outputs": [
    {
     "data": {
      "text/plain": [
       "14"
      ]
     },
     "execution_count": 20,
     "metadata": {},
     "output_type": "execute_result"
    }
   ],
   "source": [
    "fizzbuzz(14)"
   ]
  },
  {
   "cell_type": "code",
   "execution_count": 21,
   "id": "caaf424b",
   "metadata": {},
   "outputs": [
    {
     "data": {
      "text/plain": [
       "'fizz'"
      ]
     },
     "execution_count": 21,
     "metadata": {},
     "output_type": "execute_result"
    }
   ],
   "source": [
    "fizzbuzz(15)"
   ]
  },
  {
   "cell_type": "code",
   "execution_count": 22,
   "id": "a2cb730b",
   "metadata": {},
   "outputs": [],
   "source": [
    "def fizzbuzz(number):\n",
    "    if number % 3 == 0 and number % 5 == 0:\n",
    "        return \"fizzbuzz\"\n",
    "    if number % 3 == 0:\n",
    "        return \"fizz\"\n",
    "    if number % 5 == 0:\n",
    "        return \"buzz\"\n",
    "    return number"
   ]
  },
  {
   "cell_type": "code",
   "execution_count": 23,
   "id": "3a79ad9c",
   "metadata": {},
   "outputs": [
    {
     "data": {
      "text/plain": [
       "'buzz'"
      ]
     },
     "execution_count": 23,
     "metadata": {},
     "output_type": "execute_result"
    }
   ],
   "source": [
    "fizzbuzz(5)"
   ]
  },
  {
   "cell_type": "code",
   "execution_count": 24,
   "id": "5d8b9b3d",
   "metadata": {},
   "outputs": [
    {
     "data": {
      "text/plain": [
       "'fizz'"
      ]
     },
     "execution_count": 24,
     "metadata": {},
     "output_type": "execute_result"
    }
   ],
   "source": [
    "fizzbuzz(3)"
   ]
  },
  {
   "cell_type": "code",
   "execution_count": 25,
   "id": "c141840e",
   "metadata": {},
   "outputs": [
    {
     "data": {
      "text/plain": [
       "'fizzbuzz'"
      ]
     },
     "execution_count": 25,
     "metadata": {},
     "output_type": "execute_result"
    }
   ],
   "source": [
    "fizzbuzz(15)"
   ]
  },
  {
   "cell_type": "code",
   "execution_count": 26,
   "id": "a0779263",
   "metadata": {},
   "outputs": [
    {
     "data": {
      "text/plain": [
       "4"
      ]
     },
     "execution_count": 26,
     "metadata": {},
     "output_type": "execute_result"
    }
   ],
   "source": [
    "fizzbuzz(4)"
   ]
  },
  {
   "cell_type": "markdown",
   "id": "d4b34687",
   "metadata": {},
   "source": [
    "### Homework\n",
    "\n",
    "<div class='alert alert-info'>\n",
    "  🎒 Create a 'Rock Paper Scissors\" rule bot with if/else statements!\n",
    "</div>"
   ]
  },
  {
   "cell_type": "code",
   "execution_count": 27,
   "id": "131d8571",
   "metadata": {},
   "outputs": [],
   "source": [
    "def bot(player_throw):\n",
    "    if player_throw == \"R\":\n",
    "        return \"P\"\n",
    "    elif player_throw == \"P\": \n",
    "        return \"S\"\n",
    "    else:\n",
    "        return \"R\""
   ]
  },
  {
   "cell_type": "code",
   "execution_count": 28,
   "id": "9c129932",
   "metadata": {},
   "outputs": [
    {
     "data": {
      "text/plain": [
       "'S'"
      ]
     },
     "execution_count": 28,
     "metadata": {},
     "output_type": "execute_result"
    }
   ],
   "source": [
    "my_throw = \"P\"\n",
    "\n",
    "bot(my_throw)"
   ]
  }
 ],
 "metadata": {
  "kernelspec": {
   "display_name": "Python 3",
   "language": "python",
   "name": "python3"
  },
  "language_info": {
   "codemirror_mode": {
    "name": "ipython",
    "version": 3
   },
   "file_extension": ".py",
   "mimetype": "text/x-python",
   "name": "python",
   "nbconvert_exporter": "python",
   "pygments_lexer": "ipython3",
   "version": "3.13.2"
  }
 },
 "nbformat": 4,
 "nbformat_minor": 5
}
