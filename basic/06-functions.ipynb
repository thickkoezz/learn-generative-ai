{
 "cells": [
  {
   "cell_type": "markdown",
   "id": "8396471b",
   "metadata": {},
   "source": [
    "# Functions"
   ]
  },
  {
   "cell_type": "markdown",
   "id": "819c06d9",
   "metadata": {},
   "source": [
    "### Using Functions"
   ]
  },
  {
   "cell_type": "code",
   "execution_count": 1,
   "id": "2c51b902",
   "metadata": {},
   "outputs": [
    {
     "data": {
      "text/plain": [
       "4"
      ]
     },
     "execution_count": 1,
     "metadata": {},
     "output_type": "execute_result"
    }
   ],
   "source": [
    "round(4.5)"
   ]
  },
  {
   "cell_type": "code",
   "execution_count": 2,
   "id": "cb7f09af",
   "metadata": {},
   "outputs": [],
   "source": [
    "from math import sqrt"
   ]
  },
  {
   "cell_type": "code",
   "execution_count": 3,
   "id": "56d492c5",
   "metadata": {},
   "outputs": [
    {
     "data": {
      "text/plain": [
       "3.1622776601683795"
      ]
     },
     "execution_count": 3,
     "metadata": {},
     "output_type": "execute_result"
    }
   ],
   "source": [
    "sqrt(10)"
   ]
  },
  {
   "cell_type": "code",
   "execution_count": 4,
   "id": "c20e652d",
   "metadata": {},
   "outputs": [
    {
     "data": {
      "text/plain": [
       "[(1, 'a'), (2, 'b'), (3, 'c')]"
      ]
     },
     "execution_count": 4,
     "metadata": {},
     "output_type": "execute_result"
    }
   ],
   "source": [
    "list(zip([1, 2, 3], \"abc\"))"
   ]
  },
  {
   "cell_type": "markdown",
   "id": "0f24d134",
   "metadata": {},
   "source": [
    "### Using Methods"
   ]
  },
  {
   "cell_type": "code",
   "execution_count": 5,
   "id": "6b93bdef",
   "metadata": {},
   "outputs": [],
   "source": [
    "kramer = \"   THESE PRETZELS ARE MAKING ME THIRSTY   \""
   ]
  },
  {
   "cell_type": "code",
   "execution_count": 6,
   "id": "7acdc26b",
   "metadata": {},
   "outputs": [
    {
     "data": {
      "text/plain": [
       "'these pretzels are making me thirsty'"
      ]
     },
     "execution_count": 6,
     "metadata": {},
     "output_type": "execute_result"
    }
   ],
   "source": [
    "kramer.strip().lower()"
   ]
  },
  {
   "cell_type": "markdown",
   "id": "be710c8b",
   "metadata": {},
   "source": [
    "### Creating Functions"
   ]
  },
  {
   "cell_type": "code",
   "execution_count": 7,
   "id": "c7e5abe8",
   "metadata": {},
   "outputs": [],
   "source": [
    "def lower(s):\n",
    "    print(s.lower())"
   ]
  },
  {
   "cell_type": "code",
   "execution_count": 8,
   "id": "840777e4",
   "metadata": {},
   "outputs": [
    {
     "name": "stdout",
     "output_type": "stream",
     "text": [
      "kramerica and vandelay inc.\n"
     ]
    }
   ],
   "source": [
    "art = lower(\"KRAMERICA and Vandelay Inc.\")"
   ]
  },
  {
   "cell_type": "code",
   "execution_count": 9,
   "id": "e127b0f6",
   "metadata": {},
   "outputs": [
    {
     "name": "stdout",
     "output_type": "stream",
     "text": [
      "None\n"
     ]
    }
   ],
   "source": [
    "print(art)"
   ]
  },
  {
   "cell_type": "markdown",
   "id": "67b6a089",
   "metadata": {},
   "source": [
    "### `None`"
   ]
  },
  {
   "cell_type": "code",
   "execution_count": 10,
   "id": "3de5188e",
   "metadata": {},
   "outputs": [
    {
     "name": "stdout",
     "output_type": "stream",
     "text": [
      "None\n"
     ]
    }
   ],
   "source": [
    "print(art)"
   ]
  },
  {
   "cell_type": "code",
   "execution_count": 11,
   "id": "46f8b97d",
   "metadata": {},
   "outputs": [],
   "source": [
    "type(art)\n",
    "None"
   ]
  },
  {
   "cell_type": "markdown",
   "id": "6041dd31",
   "metadata": {},
   "source": [
    "### `return`"
   ]
  },
  {
   "cell_type": "code",
   "execution_count": 12,
   "id": "46e14961",
   "metadata": {},
   "outputs": [],
   "source": [
    "def lower(s):\n",
    "    print(s.lower())\n",
    "    # return None"
   ]
  },
  {
   "cell_type": "code",
   "execution_count": 13,
   "id": "c8c078c8",
   "metadata": {},
   "outputs": [
    {
     "name": "stdout",
     "output_type": "stream",
     "text": [
      "Couldn't find program: 'false'\n"
     ]
    }
   ],
   "source": [
    "%%script false --no-raise-error\n",
    "\n",
    "lower(\"KRAMERICA and Vandelay Inc.\").upper()"
   ]
  },
  {
   "cell_type": "code",
   "execution_count": 14,
   "id": "6777464f",
   "metadata": {},
   "outputs": [],
   "source": [
    "def lower(x):\n",
    "    return x.lower()"
   ]
  },
  {
   "cell_type": "code",
   "execution_count": 15,
   "id": "f6afc9d5",
   "metadata": {},
   "outputs": [],
   "source": [
    "art = lower(\"KRAMERICA and Vandelay Inc.\")"
   ]
  },
  {
   "cell_type": "code",
   "execution_count": 16,
   "id": "9745900f",
   "metadata": {},
   "outputs": [
    {
     "data": {
      "text/plain": [
       "'KRAMERICA AND VANDELAY INC.'"
      ]
     },
     "execution_count": 16,
     "metadata": {},
     "output_type": "execute_result"
    }
   ],
   "source": [
    "art.upper()"
   ]
  },
  {
   "cell_type": "markdown",
   "id": "48ff8da9",
   "metadata": {},
   "source": [
    "### Function \"Anatomy\""
   ]
  },
  {
   "cell_type": "markdown",
   "id": "e53ecc33",
   "metadata": {},
   "source": [
    "1. def\n",
    "2. name\n",
    "3. arguments\n",
    "4. ????\n",
    "5. return"
   ]
  },
  {
   "cell_type": "code",
   "execution_count": 17,
   "id": "44452ee8",
   "metadata": {},
   "outputs": [],
   "source": [
    "sentence = \"George and Jerry met at the Coffee Shop to talk about Kramer's new business\""
   ]
  },
  {
   "cell_type": "code",
   "execution_count": 18,
   "id": "4bb75e27",
   "metadata": {},
   "outputs": [
    {
     "data": {
      "text/plain": [
       "\"Art Vandelay and Jerry met at the Coffee Shop to talk about Kramer's new business\""
      ]
     },
     "execution_count": 18,
     "metadata": {},
     "output_type": "execute_result"
    }
   ],
   "source": [
    "sentence.replace(\"George\", \"Art Vandelay\")"
   ]
  },
  {
   "cell_type": "code",
   "execution_count": 19,
   "id": "a2bc09bc",
   "metadata": {},
   "outputs": [],
   "source": [
    "def pseudoize(s):\n",
    "    s = s.replace(\"George\", \"Art Vandelay\")\n",
    "    s = s.replace(\"Jerry\", \"Kel Varnsen\")\n",
    "    s = s.replace(\"Kramer\", \"H.E. Pennypacker\")\n",
    "    return s"
   ]
  },
  {
   "cell_type": "code",
   "execution_count": 20,
   "id": "e5ca96e6",
   "metadata": {},
   "outputs": [],
   "source": [
    "new_sentence = pseudoize(sentence)"
   ]
  },
  {
   "cell_type": "markdown",
   "id": "b83ad301",
   "metadata": {},
   "source": [
    "### 1 Argument"
   ]
  },
  {
   "cell_type": "code",
   "execution_count": 21,
   "id": "49b5d2a8",
   "metadata": {},
   "outputs": [],
   "source": [
    "def pseudoize(text):\n",
    "    s = text.replace(\"George\", \"Art Vandelay\")\n",
    "    s = s.replace(\"Jerry\", \"Kel Varnsen\")\n",
    "    s = s.replace(\"Kramer\", \"H.E. Pennypacker\")\n",
    "    return s"
   ]
  },
  {
   "cell_type": "code",
   "execution_count": 22,
   "id": "896315cf",
   "metadata": {},
   "outputs": [
    {
     "data": {
      "text/plain": [
       "'This is a string about Kel Varnsen and Elaine'"
      ]
     },
     "execution_count": 22,
     "metadata": {},
     "output_type": "execute_result"
    }
   ],
   "source": [
    "pseudoize(\"This is a string about Jerry and Elaine\")"
   ]
  },
  {
   "cell_type": "markdown",
   "id": "4d864daf",
   "metadata": {},
   "source": [
    "### 0 Arguments"
   ]
  },
  {
   "cell_type": "code",
   "execution_count": 23,
   "id": "4c150dbc",
   "metadata": {},
   "outputs": [],
   "source": [
    "def pretty_pointless():\n",
    "    return 4"
   ]
  },
  {
   "cell_type": "code",
   "execution_count": 24,
   "id": "91fb44a8",
   "metadata": {},
   "outputs": [
    {
     "data": {
      "text/plain": [
       "4"
      ]
     },
     "execution_count": 24,
     "metadata": {},
     "output_type": "execute_result"
    }
   ],
   "source": [
    "pretty_pointless()"
   ]
  },
  {
   "cell_type": "code",
   "execution_count": 25,
   "id": "fc2aaa9c",
   "metadata": {},
   "outputs": [],
   "source": [
    "import random\n",
    "\n",
    "def random_letter():\n",
    "    return random.choice(\"abcdefghijklmnopqrstuvwxyz\")"
   ]
  },
  {
   "cell_type": "code",
   "execution_count": 26,
   "id": "80eddff5",
   "metadata": {},
   "outputs": [
    {
     "data": {
      "text/plain": [
       "'e'"
      ]
     },
     "execution_count": 26,
     "metadata": {},
     "output_type": "execute_result"
    }
   ],
   "source": [
    "random_letter()"
   ]
  },
  {
   "cell_type": "markdown",
   "id": "e51136e2",
   "metadata": {},
   "source": [
    "### Multiple Arguments"
   ]
  },
  {
   "cell_type": "code",
   "execution_count": 27,
   "id": "93743c2a",
   "metadata": {},
   "outputs": [],
   "source": [
    "def madlib(name, colour, country):\n",
    "    return f\"My name is {name}, I live in {country}, and {colour} is my favourite colour!\""
   ]
  },
  {
   "cell_type": "code",
   "execution_count": 28,
   "id": "b26fd118",
   "metadata": {},
   "outputs": [
    {
     "data": {
      "text/plain": [
       "'My name is Max, I live in 🇨🇦, and ⬛️ is my favourite colour!'"
      ]
     },
     "execution_count": 28,
     "metadata": {},
     "output_type": "execute_result"
    }
   ],
   "source": [
    "madlib(\"Max\", \"⬛️\", \"🇨🇦\")\n",
    "\n",
    "madlib(colour=\"⬛️\", name=\"Max\", country=\"🇨🇦\")"
   ]
  },
  {
   "cell_type": "code",
   "execution_count": 29,
   "id": "ca4b49ce",
   "metadata": {},
   "outputs": [
    {
     "data": {
      "text/plain": [
       "'My name is ⬛️, I live in Max, and 🇨🇦 is my favourite colour!'"
      ]
     },
     "execution_count": 29,
     "metadata": {},
     "output_type": "execute_result"
    }
   ],
   "source": [
    "madlib(\"⬛️\", \"🇨🇦\", \"Max\")"
   ]
  },
  {
   "cell_type": "markdown",
   "id": "e577a64c",
   "metadata": {},
   "source": [
    "### Default Arguments"
   ]
  },
  {
   "cell_type": "code",
   "execution_count": 30,
   "id": "f1c252a4",
   "metadata": {},
   "outputs": [],
   "source": [
    "def dna():\n",
    "    return \"\".join(random.choices(\"ATGC\", k=50))"
   ]
  },
  {
   "cell_type": "code",
   "execution_count": 31,
   "id": "db0cad24",
   "metadata": {},
   "outputs": [
    {
     "data": {
      "text/plain": [
       "'AGAACCCAGACTGAGCCTATCAGAGGATACGCAGCCTCCTTTACGCATGA'"
      ]
     },
     "execution_count": 31,
     "metadata": {},
     "output_type": "execute_result"
    }
   ],
   "source": [
    "dna()"
   ]
  },
  {
   "cell_type": "code",
   "execution_count": 32,
   "id": "75470d88",
   "metadata": {},
   "outputs": [],
   "source": [
    "def dna(length=20):\n",
    "    return \"\".join(random.choices(\"ATGC\", k=length))"
   ]
  },
  {
   "cell_type": "code",
   "execution_count": 33,
   "id": "81bff89a",
   "metadata": {},
   "outputs": [
    {
     "data": {
      "text/plain": [
       "'ATACACAAAATCAGCGTCTA'"
      ]
     },
     "execution_count": 33,
     "metadata": {},
     "output_type": "execute_result"
    }
   ],
   "source": [
    "dna()"
   ]
  },
  {
   "cell_type": "code",
   "execution_count": 34,
   "id": "78257850",
   "metadata": {},
   "outputs": [
    {
     "data": {
      "text/plain": [
       "'ATATGGACAGTCCCAACTCGTCGACTTTCGTCTCAGGGCGACGAATAAGAGGTAGAAGGGACGATGGTTCATACCAACGTGACGCGTATATATATAACTA'"
      ]
     },
     "execution_count": 34,
     "metadata": {},
     "output_type": "execute_result"
    }
   ],
   "source": [
    "dna(100)"
   ]
  },
  {
   "cell_type": "markdown",
   "id": "9b1adada",
   "metadata": {},
   "source": [
    "### Challenge\n",
    "\n",
    "<div class='alert alert-info'>\n",
    "🎒 Write a function that can convert DNA into RNA\n",
    "    \n",
    "Hint: RNA is just DNA with \"T\" replaced with \"U\"\n",
    "</div>"
   ]
  },
  {
   "cell_type": "code",
   "execution_count": 35,
   "id": "6dbcaab5",
   "metadata": {},
   "outputs": [],
   "source": [
    "def rna(dna):\n",
    "    return dna.replace(\"T\", \"U\")"
   ]
  },
  {
   "cell_type": "code",
   "execution_count": 36,
   "id": "213f8514",
   "metadata": {},
   "outputs": [
    {
     "data": {
      "text/plain": [
       "'AUCCCCGUCUAGCCUACUGAUCGAAAGUUCUCGGUUCAUGUCAUGCACGGCAGUCUCCCU'"
      ]
     },
     "execution_count": 36,
     "metadata": {},
     "output_type": "execute_result"
    }
   ],
   "source": [
    "rna(dna(60))"
   ]
  },
  {
   "cell_type": "markdown",
   "id": "4533ec05",
   "metadata": {},
   "source": [
    "### docstrings"
   ]
  },
  {
   "cell_type": "code",
   "execution_count": 37,
   "id": "3d7b1064",
   "metadata": {},
   "outputs": [
    {
     "name": "stdout",
     "output_type": "stream",
     "text": [
      "Help on built-in function round in module builtins:\n",
      "\n",
      "round(number, ndigits=None)\n",
      "    Round a number to a given precision in decimal digits.\n",
      "\n",
      "    The return value is an integer if ndigits is omitted or None.  Otherwise\n",
      "    the return value has the same type as the number.  ndigits may be negative.\n",
      "\n"
     ]
    }
   ],
   "source": [
    "help(round)"
   ]
  },
  {
   "cell_type": "code",
   "execution_count": 38,
   "id": "5c842582",
   "metadata": {},
   "outputs": [],
   "source": [
    "def dna(length=50):\n",
    "    \"\"\"\n",
    "    Creates a strand of DNA\n",
    "    \n",
    "    Arguments\n",
    "      - length: int\n",
    "      \n",
    "    Returns: str\n",
    "    \"\"\"\n",
    "    return \"\".join(random.choices(\"ATGC\", k=length))"
   ]
  },
  {
   "cell_type": "code",
   "execution_count": 39,
   "id": "1558f952",
   "metadata": {},
   "outputs": [
    {
     "name": "stdout",
     "output_type": "stream",
     "text": [
      "Help on function dna in module __main__:\n",
      "\n",
      "dna(length=50)\n",
      "    Creates a strand of DNA\n",
      "\n",
      "    Arguments\n",
      "      - length: int\n",
      "\n",
      "    Returns: str\n",
      "\n"
     ]
    }
   ],
   "source": [
    "help(dna)"
   ]
  },
  {
   "cell_type": "code",
   "execution_count": 40,
   "id": "36f4ada2",
   "metadata": {},
   "outputs": [
    {
     "data": {
      "text/plain": [
       "'CCCGGTATACCGATCACGCCCCCCGAGCAGTCGCCAATAGCCGAGCCGTT'"
      ]
     },
     "execution_count": 40,
     "metadata": {},
     "output_type": "execute_result"
    }
   ],
   "source": [
    "dna()"
   ]
  },
  {
   "cell_type": "markdown",
   "id": "c2af09b1",
   "metadata": {},
   "source": [
    "### `lambda` Functions"
   ]
  },
  {
   "cell_type": "code",
   "execution_count": 41,
   "id": "9d929a58",
   "metadata": {},
   "outputs": [],
   "source": [
    "def dna(length=50):\n",
    "    return \"\".join(random.choices(\"ATGC\", k=length))"
   ]
  },
  {
   "cell_type": "code",
   "execution_count": 42,
   "id": "60440291",
   "metadata": {},
   "outputs": [],
   "source": [
    "dna = lambda length: \"\".join(random.choices(\"ATGC\", k=length))"
   ]
  },
  {
   "cell_type": "code",
   "execution_count": 43,
   "id": "47fad684",
   "metadata": {},
   "outputs": [
    {
     "data": {
      "text/plain": [
       "'ATCGCCAACCCGGTATGTAGACAGTAGTCAACGCTCGGCGCTCTAGTAGA'"
      ]
     },
     "execution_count": 43,
     "metadata": {},
     "output_type": "execute_result"
    }
   ],
   "source": [
    "dna(50)"
   ]
  },
  {
   "cell_type": "code",
   "execution_count": 44,
   "id": "0ffab6ef",
   "metadata": {},
   "outputs": [
    {
     "data": {
      "text/plain": [
       "<function __main__.<lambda>(length)>"
      ]
     },
     "execution_count": 44,
     "metadata": {},
     "output_type": "execute_result"
    }
   ],
   "source": [
    "lambda length: \"\".join(random.choices(\"ATGC\", k=length))"
   ]
  },
  {
   "cell_type": "markdown",
   "id": "af9f1430",
   "metadata": {},
   "source": [
    "### `filter`"
   ]
  },
  {
   "cell_type": "code",
   "execution_count": 45,
   "id": "32dd3431",
   "metadata": {},
   "outputs": [],
   "source": [
    "songs = [\"1.mp3\", \"2.flac\", \"3.mp3\", \"4.mp3\"]"
   ]
  },
  {
   "cell_type": "code",
   "execution_count": 46,
   "id": "c74d3427",
   "metadata": {},
   "outputs": [
    {
     "data": {
      "text/plain": [
       "['1.mp3', '3.mp3', '4.mp3']"
      ]
     },
     "execution_count": 46,
     "metadata": {},
     "output_type": "execute_result"
    }
   ],
   "source": [
    "def mp3_keeper(song): \n",
    "    return song.endswith(\".mp3\")\n",
    "\n",
    "list(filter(lambda x: x.endswith(\".mp3\"), songs))"
   ]
  },
  {
   "cell_type": "markdown",
   "id": "2e951707",
   "metadata": {},
   "source": [
    "### `map`"
   ]
  },
  {
   "cell_type": "code",
   "execution_count": 47,
   "id": "da8d8341",
   "metadata": {},
   "outputs": [],
   "source": [
    "song = \"1.mp3\""
   ]
  },
  {
   "cell_type": "code",
   "execution_count": 48,
   "id": "d7edded1",
   "metadata": {},
   "outputs": [
    {
     "data": {
      "text/plain": [
       "'my_song_1.flac'"
      ]
     },
     "execution_count": 48,
     "metadata": {},
     "output_type": "execute_result"
    }
   ],
   "source": [
    "f\"my_song_{song.split('.')[0]}.flac\""
   ]
  },
  {
   "cell_type": "code",
   "execution_count": 49,
   "id": "7ef09048",
   "metadata": {},
   "outputs": [
    {
     "data": {
      "text/plain": [
       "'my_song_1.mp3'"
      ]
     },
     "execution_count": 49,
     "metadata": {},
     "output_type": "execute_result"
    }
   ],
   "source": [
    "\"my_song_1.mp3\""
   ]
  },
  {
   "cell_type": "code",
   "execution_count": 50,
   "id": "df4ef784",
   "metadata": {},
   "outputs": [
    {
     "data": {
      "text/plain": [
       "['my_song_1.flac', 'my_song_2.flac', 'my_song_3.flac', 'my_song_4.flac']"
      ]
     },
     "execution_count": 50,
     "metadata": {},
     "output_type": "execute_result"
    }
   ],
   "source": [
    "list(map(lambda song: f\"my_song_{song.split('.')[0]}.flac\", songs))"
   ]
  },
  {
   "cell_type": "markdown",
   "id": "bf0c31f2",
   "metadata": {},
   "source": [
    "### `reduce`"
   ]
  },
  {
   "cell_type": "code",
   "execution_count": 51,
   "id": "57cb989b",
   "metadata": {},
   "outputs": [
    {
     "data": {
      "text/plain": [
       "15"
      ]
     },
     "execution_count": 51,
     "metadata": {},
     "output_type": "execute_result"
    }
   ],
   "source": [
    "from functools import reduce\n",
    "\n",
    "reduce(lambda result, value: result + value, [1, 2, 3, 4, 5])"
   ]
  },
  {
   "cell_type": "code",
   "execution_count": 52,
   "id": "47a05ada",
   "metadata": {},
   "outputs": [
    {
     "data": {
      "text/plain": [
       "15"
      ]
     },
     "execution_count": 52,
     "metadata": {},
     "output_type": "execute_result"
    }
   ],
   "source": [
    "sum([1, 2, 3, 4, 5])"
   ]
  },
  {
   "cell_type": "markdown",
   "id": "88f5f224",
   "metadata": {},
   "source": [
    "### `*args`, `**kwargs`"
   ]
  },
  {
   "cell_type": "code",
   "execution_count": 53,
   "id": "cf4de076",
   "metadata": {},
   "outputs": [],
   "source": [
    "def test(my_arg, *args, **kwargs):\n",
    "    print(my_arg)\n",
    "    print(args)\n",
    "    print(kwargs)"
   ]
  },
  {
   "cell_type": "code",
   "execution_count": 54,
   "id": "b795879a",
   "metadata": {},
   "outputs": [
    {
     "name": "stdout",
     "output_type": "stream",
     "text": [
      "1\n",
      "(2, 3, 'c', 'd')\n",
      "{'e': 'f', 'g': 'z'}\n"
     ]
    }
   ],
   "source": [
    "test(1, 2, 3, \"c\", \"d\", e=\"f\", g=\"z\")"
   ]
  },
  {
   "cell_type": "markdown",
   "id": "673b4b2c",
   "metadata": {},
   "source": [
    "### Challenge\n",
    "\n",
    "<div class='alert alert-info'>\n",
    "    🎒 Create a function that returns the \"complementary strand\" for any piece of DNA\n",
    "    \n",
    "Hint: reverse the string and make the following replacements (A → T, C → G, G → C, T → A)\n",
    "</div>"
   ]
  },
  {
   "cell_type": "code",
   "execution_count": 55,
   "id": "57c5a3a3",
   "metadata": {},
   "outputs": [],
   "source": [
    "def make_complement(strand):\n",
    "    translation_table = str.maketrans(\"ACGT\", \"TGCA\")\n",
    "    strand = strand.translate(translation_table)\n",
    "    strand = strand[::-1]\n",
    "    return strand"
   ]
  },
  {
   "cell_type": "code",
   "execution_count": 56,
   "id": "693a7aa2",
   "metadata": {},
   "outputs": [
    {
     "data": {
      "text/plain": [
       "{65: 84, 67: 71, 71: 67, 84: 65}"
      ]
     },
     "execution_count": 56,
     "metadata": {},
     "output_type": "execute_result"
    }
   ],
   "source": [
    "str.maketrans(\"ACGT\", \"TGCA\")"
   ]
  },
  {
   "cell_type": "code",
   "execution_count": 57,
   "id": "16df21a4",
   "metadata": {},
   "outputs": [],
   "source": [
    "dna_1 = dna(50)"
   ]
  },
  {
   "cell_type": "code",
   "execution_count": 58,
   "id": "b546102d",
   "metadata": {},
   "outputs": [],
   "source": [
    "dna_2 = make_complement(dna_1)"
   ]
  },
  {
   "cell_type": "code",
   "execution_count": 59,
   "id": "11ec44fb",
   "metadata": {},
   "outputs": [
    {
     "name": "stdout",
     "output_type": "stream",
     "text": [
      "CACGGCCACAAGCTTTCCAGCGATGGGGTAGGATAGAATTAGTCCCTAAA TTTAGGGACTAATTCTATCCTACCCCATCGCTGGAAAGCTTGTGGCCGTG\n"
     ]
    }
   ],
   "source": [
    "print(dna_1, dna_2)"
   ]
  },
  {
   "cell_type": "code",
   "execution_count": 60,
   "id": "e91d4f66",
   "metadata": {},
   "outputs": [
    {
     "data": {
      "text/plain": [
       "[('C', 'T'),\n",
       " ('A', 'T'),\n",
       " ('C', 'T'),\n",
       " ('G', 'A'),\n",
       " ('G', 'G'),\n",
       " ('C', 'G'),\n",
       " ('C', 'G'),\n",
       " ('A', 'A'),\n",
       " ('C', 'C'),\n",
       " ('A', 'T'),\n",
       " ('A', 'A'),\n",
       " ('G', 'A'),\n",
       " ('C', 'T'),\n",
       " ('T', 'T'),\n",
       " ('T', 'C'),\n",
       " ('T', 'T'),\n",
       " ('C', 'A'),\n",
       " ('C', 'T'),\n",
       " ('A', 'C'),\n",
       " ('G', 'C'),\n",
       " ('C', 'T'),\n",
       " ('G', 'A'),\n",
       " ('A', 'C'),\n",
       " ('T', 'C'),\n",
       " ('G', 'C'),\n",
       " ('G', 'C'),\n",
       " ('G', 'A'),\n",
       " ('G', 'T'),\n",
       " ('T', 'C'),\n",
       " ('A', 'G'),\n",
       " ('G', 'C'),\n",
       " ('G', 'T'),\n",
       " ('A', 'G'),\n",
       " ('T', 'G'),\n",
       " ('A', 'A'),\n",
       " ('G', 'A'),\n",
       " ('A', 'A'),\n",
       " ('A', 'G'),\n",
       " ('T', 'C'),\n",
       " ('T', 'T'),\n",
       " ('A', 'T'),\n",
       " ('G', 'G'),\n",
       " ('T', 'T'),\n",
       " ('C', 'G'),\n",
       " ('C', 'G'),\n",
       " ('C', 'C'),\n",
       " ('T', 'C'),\n",
       " ('A', 'G'),\n",
       " ('A', 'T'),\n",
       " ('A', 'G')]"
      ]
     },
     "execution_count": 60,
     "metadata": {},
     "output_type": "execute_result"
    }
   ],
   "source": [
    "list(zip(dna_1, dna_2))"
   ]
  }
 ],
 "metadata": {
  "kernelspec": {
   "display_name": "Python 3",
   "language": "python",
   "name": "python3"
  },
  "language_info": {
   "codemirror_mode": {
    "name": "ipython",
    "version": 3
   },
   "file_extension": ".py",
   "mimetype": "text/x-python",
   "name": "python",
   "nbconvert_exporter": "python",
   "pygments_lexer": "ipython3",
   "version": "3.13.2"
  }
 },
 "nbformat": 4,
 "nbformat_minor": 5
}
