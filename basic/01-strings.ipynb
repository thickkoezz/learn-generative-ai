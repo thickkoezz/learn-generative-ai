{
 "cells": [
  {
   "cell_type": "markdown",
   "id": "06c205c1",
   "metadata": {
    "editable": true,
    "slideshow": {
     "slide_type": ""
    },
    "tags": []
   },
   "source": [
    "# Strings"
   ]
  },
  {
   "cell_type": "markdown",
   "id": "e0d3aa0b",
   "metadata": {
    "editable": true,
    "slideshow": {
     "slide_type": ""
    },
    "tags": []
   },
   "source": [
    "### Basics"
   ]
  },
  {
   "cell_type": "code",
   "execution_count": 1,
   "id": "23e42c11",
   "metadata": {
    "editable": true,
    "slideshow": {
     "slide_type": ""
    },
    "tags": []
   },
   "outputs": [
    {
     "data": {
      "text/plain": [
       "'this is a string that is also a sentence'"
      ]
     },
     "execution_count": 1,
     "metadata": {},
     "output_type": "execute_result"
    }
   ],
   "source": [
    "\"this is a string that is also a sentence\""
   ]
  },
  {
   "cell_type": "code",
   "execution_count": 2,
   "id": "261d484e",
   "metadata": {
    "editable": true,
    "slideshow": {
     "slide_type": ""
    },
    "tags": []
   },
   "outputs": [
    {
     "data": {
      "text/plain": [
       "'this'"
      ]
     },
     "execution_count": 2,
     "metadata": {},
     "output_type": "execute_result"
    }
   ],
   "source": [
    "'this'"
   ]
  },
  {
   "cell_type": "code",
   "execution_count": 3,
   "id": "672389e3",
   "metadata": {
    "editable": true,
    "slideshow": {
     "slide_type": ""
    },
    "tags": []
   },
   "outputs": [
    {
     "data": {
      "text/plain": [
       "'t'"
      ]
     },
     "execution_count": 3,
     "metadata": {},
     "output_type": "execute_result"
    }
   ],
   "source": [
    "'t'"
   ]
  },
  {
   "cell_type": "code",
   "execution_count": 4,
   "id": "0c983215",
   "metadata": {
    "editable": true,
    "slideshow": {
     "slide_type": ""
    },
    "tags": []
   },
   "outputs": [
    {
     "data": {
      "text/plain": [
       "'598798234792'"
      ]
     },
     "execution_count": 4,
     "metadata": {},
     "output_type": "execute_result"
    }
   ],
   "source": [
    "'598798234792'"
   ]
  },
  {
   "cell_type": "code",
   "execution_count": 5,
   "id": "2f51e8fe",
   "metadata": {},
   "outputs": [
    {
     "data": {
      "text/plain": [
       "'this is a string too '"
      ]
     },
     "execution_count": 5,
     "metadata": {},
     "output_type": "execute_result"
    }
   ],
   "source": [
    "'this is a string too '"
   ]
  },
  {
   "cell_type": "code",
   "execution_count": 6,
   "id": "6ede7d68",
   "metadata": {
    "editable": true,
    "slideshow": {
     "slide_type": ""
    },
    "tags": []
   },
   "outputs": [
    {
     "data": {
      "text/plain": [
       "'\\nput \\nthings\\non \\nmultiple \\nlines\\n'"
      ]
     },
     "execution_count": 6,
     "metadata": {},
     "output_type": "execute_result"
    }
   ],
   "source": [
    "\"\"\"\n",
    "put \n",
    "things\n",
    "on \n",
    "multiple \n",
    "lines\n",
    "\"\"\""
   ]
  },
  {
   "cell_type": "markdown",
   "id": "4919b581",
   "metadata": {},
   "source": [
    "### `print`"
   ]
  },
  {
   "cell_type": "code",
   "execution_count": 7,
   "id": "c5dac2b9",
   "metadata": {},
   "outputs": [
    {
     "data": {
      "text/plain": [
       "'string 3'"
      ]
     },
     "execution_count": 7,
     "metadata": {},
     "output_type": "execute_result"
    }
   ],
   "source": [
    "'string 1'\n",
    "'string 2'\n",
    "'string 3'"
   ]
  },
  {
   "cell_type": "code",
   "execution_count": 8,
   "id": "2946f0e0",
   "metadata": {},
   "outputs": [
    {
     "name": "stdout",
     "output_type": "stream",
     "text": [
      "string 1\n",
      "string 2\n",
      "string 3\n"
     ]
    }
   ],
   "source": [
    "print('string 1')\n",
    "print('string 2')\n",
    "print('string 3')"
   ]
  },
  {
   "cell_type": "markdown",
   "id": "c0198a7e",
   "metadata": {},
   "source": [
    "### Variables"
   ]
  },
  {
   "cell_type": "code",
   "execution_count": 9,
   "id": "ac4b23cf",
   "metadata": {},
   "outputs": [],
   "source": [
    "word = \"Microphone\""
   ]
  },
  {
   "cell_type": "code",
   "execution_count": 10,
   "id": "d6620c3a",
   "metadata": {},
   "outputs": [],
   "source": [
    "word = \"Camera\""
   ]
  },
  {
   "cell_type": "code",
   "execution_count": 11,
   "id": "6a4bcd48",
   "metadata": {},
   "outputs": [
    {
     "data": {
      "text/plain": [
       "'Camera'"
      ]
     },
     "execution_count": 11,
     "metadata": {},
     "output_type": "execute_result"
    }
   ],
   "source": [
    "word"
   ]
  },
  {
   "cell_type": "code",
   "execution_count": 12,
   "id": "ddeb51eb",
   "metadata": {},
   "outputs": [],
   "source": [
    "in_snake_case = \"this is another variable\""
   ]
  },
  {
   "cell_type": "code",
   "execution_count": 13,
   "id": "9bfc010e",
   "metadata": {},
   "outputs": [],
   "source": [
    "camelCase = 'Do as the romans do... so don\\'t write camel case'"
   ]
  },
  {
   "cell_type": "markdown",
   "id": "438e30bf",
   "metadata": {},
   "source": [
    "### Interpolation"
   ]
  },
  {
   "cell_type": "code",
   "execution_count": 14,
   "id": "1bccb4a6",
   "metadata": {},
   "outputs": [],
   "source": [
    "word = \"Microphone\""
   ]
  },
  {
   "cell_type": "code",
   "execution_count": 15,
   "id": "cca00969",
   "metadata": {},
   "outputs": [
    {
     "data": {
      "text/plain": [
       "'My word is: Microphone'"
      ]
     },
     "execution_count": 15,
     "metadata": {},
     "output_type": "execute_result"
    }
   ],
   "source": [
    "f\"My word is: {word}\""
   ]
  },
  {
   "cell_type": "code",
   "execution_count": 16,
   "id": "adef6d40",
   "metadata": {},
   "outputs": [],
   "source": [
    "my_name = \"Max\""
   ]
  },
  {
   "cell_type": "code",
   "execution_count": 17,
   "id": "e8551755",
   "metadata": {},
   "outputs": [
    {
     "data": {
      "text/plain": [
       "'Hi my name is Max'"
      ]
     },
     "execution_count": 17,
     "metadata": {},
     "output_type": "execute_result"
    }
   ],
   "source": [
    "f\"Hi my name is {my_name}\""
   ]
  },
  {
   "cell_type": "code",
   "execution_count": 18,
   "id": "0a1f7ebb",
   "metadata": {},
   "outputs": [
    {
     "data": {
      "text/plain": [
       "'Hi, my name is Max, my favourite colour is ⬛️, and I live in 🇨🇦'"
      ]
     },
     "execution_count": 18,
     "metadata": {},
     "output_type": "execute_result"
    }
   ],
   "source": [
    "name = \"Max\"\n",
    "colour = \"⬛️\"\n",
    "country = \"🇨🇦\"\n",
    "\n",
    "f\"Hi, my name is {name}, my favourite colour is {colour}, and I live in {country}\""
   ]
  },
  {
   "cell_type": "markdown",
   "id": "5555b83a",
   "metadata": {},
   "source": [
    "### Challenge\n",
    "\n",
    "<div class='alert alert-info'>\n",
    "  🎒\n",
    "  Code a \"story\" about your name, age, and favourite TV show\n",
    "</div>\n",
    "<br/>\n",
    "<details>\n",
    "<summary><u>Solution</u></summary>\n",
    "    \n",
    "```python\n",
    "my_name = \"Maggie\"\n",
    "my_age = \"∞\"\n",
    "my_TV = \"The Afterparty\"\n",
    "print(f\"Hi, I'm {my_name}, I'm {my_age} years-old, and I love \\\"{my_TV}\\\".\")\n",
    "```\n",
    "    \n",
    "> Hi, I'm Maggie, I'm ∞ years-old, and I love \"The Afterparty\".\n",
    "    \n",
    "<div class='alert alert-warning'>\n",
    "  ❌✍️ Just don't do this...\n",
    "</div>\n",
    "   \n",
    "```python\n",
    "myName = \"pleaseDont\"\n",
    "myAge = \"thisIsCalledCamelCase\"\n",
    "myTV = \"python_uses_snake_case_99%_of_the_time\"\n",
    "``` \n",
    "    \n",
    "</details>"
   ]
  },
  {
   "cell_type": "code",
   "execution_count": 19,
   "id": "c930248a",
   "metadata": {},
   "outputs": [
    {
     "name": "stdout",
     "output_type": "stream",
     "text": [
      "Hi, I'm Maggie, I'm ∞ years-old, and I love \"The Afterparty\".\n"
     ]
    }
   ],
   "source": [
    "my_name = \"Maggie\"\n",
    "my_age = \"∞\"\n",
    "my_TV = \"The Afterparty\"\n",
    "print(f\"Hi, I'm {my_name}, I'm {my_age} years-old, and I love \\\"{my_TV}\\\".\")"
   ]
  },
  {
   "cell_type": "markdown",
   "id": "99839e84",
   "metadata": {},
   "source": [
    "### String Methods"
   ]
  },
  {
   "cell_type": "code",
   "execution_count": 20,
   "id": "e9a9c84a",
   "metadata": {},
   "outputs": [
    {
     "data": {
      "text/plain": [
       "str"
      ]
     },
     "execution_count": 20,
     "metadata": {},
     "output_type": "execute_result"
    }
   ],
   "source": [
    "name\n",
    "type(name)"
   ]
  },
  {
   "cell_type": "code",
   "execution_count": 21,
   "id": "afac2c90",
   "metadata": {},
   "outputs": [
    {
     "data": {
      "text/plain": [
       "['__add__',\n",
       " '__class__',\n",
       " '__contains__',\n",
       " '__delattr__',\n",
       " '__dir__',\n",
       " '__doc__',\n",
       " '__eq__',\n",
       " '__format__',\n",
       " '__ge__',\n",
       " '__getattribute__',\n",
       " '__getitem__',\n",
       " '__getnewargs__',\n",
       " '__getstate__',\n",
       " '__gt__',\n",
       " '__hash__',\n",
       " '__init__',\n",
       " '__init_subclass__',\n",
       " '__iter__',\n",
       " '__le__',\n",
       " '__len__',\n",
       " '__lt__',\n",
       " '__mod__',\n",
       " '__mul__',\n",
       " '__ne__',\n",
       " '__new__',\n",
       " '__reduce__',\n",
       " '__reduce_ex__',\n",
       " '__repr__',\n",
       " '__rmod__',\n",
       " '__rmul__',\n",
       " '__setattr__',\n",
       " '__sizeof__',\n",
       " '__str__',\n",
       " '__subclasshook__',\n",
       " 'capitalize',\n",
       " 'casefold',\n",
       " 'center',\n",
       " 'count',\n",
       " 'encode',\n",
       " 'endswith',\n",
       " 'expandtabs',\n",
       " 'find',\n",
       " 'format',\n",
       " 'format_map',\n",
       " 'index',\n",
       " 'isalnum',\n",
       " 'isalpha',\n",
       " 'isascii',\n",
       " 'isdecimal',\n",
       " 'isdigit',\n",
       " 'isidentifier',\n",
       " 'islower',\n",
       " 'isnumeric',\n",
       " 'isprintable',\n",
       " 'isspace',\n",
       " 'istitle',\n",
       " 'isupper',\n",
       " 'join',\n",
       " 'ljust',\n",
       " 'lower',\n",
       " 'lstrip',\n",
       " 'maketrans',\n",
       " 'partition',\n",
       " 'removeprefix',\n",
       " 'removesuffix',\n",
       " 'replace',\n",
       " 'rfind',\n",
       " 'rindex',\n",
       " 'rjust',\n",
       " 'rpartition',\n",
       " 'rsplit',\n",
       " 'rstrip',\n",
       " 'split',\n",
       " 'splitlines',\n",
       " 'startswith',\n",
       " 'strip',\n",
       " 'swapcase',\n",
       " 'title',\n",
       " 'translate',\n",
       " 'upper',\n",
       " 'zfill']"
      ]
     },
     "execution_count": 21,
     "metadata": {},
     "output_type": "execute_result"
    }
   ],
   "source": [
    "dir(name)"
   ]
  },
  {
   "cell_type": "markdown",
   "id": "1b7d13e9",
   "metadata": {},
   "source": [
    "<div class='alert alert-success'>\n",
    "  🔬🧵 Don't get overwhelmed, just look at a couple\n",
    "</div>"
   ]
  },
  {
   "cell_type": "markdown",
   "id": "d031efdf",
   "metadata": {},
   "source": [
    "- `.upper`\n",
    "- `.lower`\n",
    "- `.strip`\n",
    "- `.endswith`\n",
    "- `.startswith`"
   ]
  },
  {
   "cell_type": "code",
   "execution_count": 22,
   "id": "dec098a5",
   "metadata": {},
   "outputs": [
    {
     "data": {
      "text/plain": [
       "'Max Humber'"
      ]
     },
     "execution_count": 22,
     "metadata": {},
     "output_type": "execute_result"
    }
   ],
   "source": [
    "full_name = \"max humber\"\n",
    "full_name.title()"
   ]
  },
  {
   "cell_type": "code",
   "execution_count": 23,
   "id": "1a46de84",
   "metadata": {},
   "outputs": [
    {
     "data": {
      "text/plain": [
       "'salkjhk;djhflkawehflksdhflfkjds'"
      ]
     },
     "execution_count": 23,
     "metadata": {},
     "output_type": "execute_result"
    }
   ],
   "source": [
    "\"SALKJHK;DJHFLKAWEHFLKSDHFLFKJDS\".lower()"
   ]
  },
  {
   "cell_type": "code",
   "execution_count": 24,
   "id": "c3407dfb",
   "metadata": {},
   "outputs": [
    {
     "data": {
      "text/plain": [
       "\"Lot's of padding.\""
      ]
     },
     "execution_count": 24,
     "metadata": {},
     "output_type": "execute_result"
    }
   ],
   "source": [
    "\"       Lot's of padding.       \".strip()"
   ]
  },
  {
   "cell_type": "code",
   "execution_count": 25,
   "id": "8978878e",
   "metadata": {},
   "outputs": [
    {
     "data": {
      "text/plain": [
       "False"
      ]
     },
     "execution_count": 25,
     "metadata": {},
     "output_type": "execute_result"
    }
   ],
   "source": [
    "\"song_243.mp3\".endswith(\".flac\")"
   ]
  },
  {
   "cell_type": "markdown",
   "id": "5767bd7f",
   "metadata": {},
   "source": [
    "### `in`"
   ]
  },
  {
   "cell_type": "code",
   "execution_count": 26,
   "id": "8e0e836b",
   "metadata": {},
   "outputs": [
    {
     "data": {
      "text/plain": [
       "True"
      ]
     },
     "execution_count": 26,
     "metadata": {},
     "output_type": "execute_result"
    }
   ],
   "source": [
    "\"good\" in \"good bye\""
   ]
  },
  {
   "cell_type": "code",
   "execution_count": 27,
   "id": "2b9be66a",
   "metadata": {},
   "outputs": [
    {
     "data": {
      "text/plain": [
       "True"
      ]
     },
     "execution_count": 27,
     "metadata": {},
     "output_type": "execute_result"
    }
   ],
   "source": [
    "\"Good\".lower() in \"good bye\""
   ]
  },
  {
   "cell_type": "markdown",
   "id": "7fc66329",
   "metadata": {},
   "source": [
    "### Homework\n",
    "\n",
    "<div class='alert alert-info'>\n",
    "  🎒 Replace all of the punctuation in the following quotes\n",
    "</div>"
   ]
  },
  {
   "cell_type": "code",
   "execution_count": 28,
   "id": "fba54188",
   "metadata": {},
   "outputs": [],
   "source": [
    "quote_1 = \"Oh I gotta get on that internet, I'm late on everything!\""
   ]
  },
  {
   "cell_type": "code",
   "execution_count": 29,
   "id": "38f75559",
   "metadata": {},
   "outputs": [],
   "source": [
    "quote_1 = quote_1.lower().replace(\",\", \"\").replace(\"!\", \"\").replace(\"'\", \"\")"
   ]
  },
  {
   "cell_type": "code",
   "execution_count": 30,
   "id": "e1255930",
   "metadata": {},
   "outputs": [],
   "source": [
    "quote_2 = \"What’s the deal with lampshades? I mean if it’s a lamp, why do you want shade?\""
   ]
  },
  {
   "cell_type": "code",
   "execution_count": 31,
   "id": "346eb19c",
   "metadata": {},
   "outputs": [
    {
     "data": {
      "text/plain": [
       "'whats the deal with lampshades i mean if its a lamp why do you want shade'"
      ]
     },
     "execution_count": 31,
     "metadata": {},
     "output_type": "execute_result"
    }
   ],
   "source": [
    "quote_2.replace(\"?\", \"\").replace(\"’\", \"\").replace(\",\", \"\").lower()"
   ]
  }
 ],
 "metadata": {
  "kernelspec": {
   "display_name": "base",
   "language": "python",
   "name": "python3"
  },
  "language_info": {
   "codemirror_mode": {
    "name": "ipython",
    "version": 3
   },
   "file_extension": ".py",
   "mimetype": "text/x-python",
   "name": "python",
   "nbconvert_exporter": "python",
   "pygments_lexer": "ipython3",
   "version": "3.12.7"
  }
 },
 "nbformat": 4,
 "nbformat_minor": 5
}
