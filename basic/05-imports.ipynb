{
 "cells": [
  {
   "cell_type": "markdown",
   "id": "f3cfa244",
   "metadata": {},
   "source": [
    "# Imports"
   ]
  },
  {
   "cell_type": "markdown",
   "id": "a96dd70e",
   "metadata": {},
   "source": [
    "### \"Square Root\""
   ]
  },
  {
   "cell_type": "code",
   "execution_count": 1,
   "id": "b733be5f",
   "metadata": {},
   "outputs": [
    {
     "data": {
      "text/plain": [
       "100"
      ]
     },
     "execution_count": 1,
     "metadata": {},
     "output_type": "execute_result"
    }
   ],
   "source": [
    "10 ** 2"
   ]
  },
  {
   "cell_type": "code",
   "execution_count": 2,
   "id": "e3c2261f",
   "metadata": {},
   "outputs": [
    {
     "data": {
      "text/plain": [
       "10.0"
      ]
     },
     "execution_count": 2,
     "metadata": {},
     "output_type": "execute_result"
    }
   ],
   "source": [
    "100 ** (1/2)"
   ]
  },
  {
   "cell_type": "code",
   "execution_count": 3,
   "id": "1a98bd9d",
   "metadata": {},
   "outputs": [
    {
     "data": {
      "text/plain": [
       "4"
      ]
     },
     "execution_count": 3,
     "metadata": {},
     "output_type": "execute_result"
    }
   ],
   "source": [
    "round(4.5)"
   ]
  },
  {
   "cell_type": "markdown",
   "id": "bb10bce5",
   "metadata": {},
   "source": [
    "### `import`"
   ]
  },
  {
   "cell_type": "code",
   "execution_count": 4,
   "id": "a435345f",
   "metadata": {},
   "outputs": [],
   "source": [
    "import math"
   ]
  },
  {
   "cell_type": "code",
   "execution_count": 5,
   "id": "0b9fcd54",
   "metadata": {},
   "outputs": [
    {
     "data": {
      "text/plain": [
       "10.0"
      ]
     },
     "execution_count": 5,
     "metadata": {},
     "output_type": "execute_result"
    }
   ],
   "source": [
    "math.sqrt(100)"
   ]
  },
  {
   "cell_type": "code",
   "execution_count": 6,
   "id": "27b39b4b",
   "metadata": {},
   "outputs": [
    {
     "data": {
      "text/plain": [
       "'THIS IS A STRING'"
      ]
     },
     "execution_count": 6,
     "metadata": {},
     "output_type": "execute_result"
    }
   ],
   "source": [
    "my_string = \"this is a string\"\n",
    "my_string.upper()"
   ]
  },
  {
   "cell_type": "markdown",
   "id": "9694e451",
   "metadata": {},
   "source": [
    "### `from`"
   ]
  },
  {
   "cell_type": "code",
   "execution_count": 7,
   "id": "0bd93d4a",
   "metadata": {},
   "outputs": [],
   "source": [
    "from math import sqrt"
   ]
  },
  {
   "cell_type": "code",
   "execution_count": 8,
   "id": "150e57b0",
   "metadata": {},
   "outputs": [
    {
     "data": {
      "text/plain": [
       "3.0"
      ]
     },
     "execution_count": 8,
     "metadata": {},
     "output_type": "execute_result"
    }
   ],
   "source": [
    "sqrt(9)"
   ]
  },
  {
   "cell_type": "markdown",
   "id": "bc8c1260",
   "metadata": {},
   "source": [
    "### `as`"
   ]
  },
  {
   "cell_type": "code",
   "execution_count": 9,
   "id": "2e42ebc3",
   "metadata": {},
   "outputs": [],
   "source": [
    "from math import sqrt as square_root"
   ]
  },
  {
   "cell_type": "code",
   "execution_count": 10,
   "id": "43a1d148",
   "metadata": {},
   "outputs": [
    {
     "data": {
      "text/plain": [
       "2.6457513110645907"
      ]
     },
     "execution_count": 10,
     "metadata": {},
     "output_type": "execute_result"
    }
   ],
   "source": [
    "square_root(7)"
   ]
  },
  {
   "cell_type": "markdown",
   "id": "584adfbf",
   "metadata": {},
   "source": [
    "### Documentation"
   ]
  },
  {
   "cell_type": "code",
   "execution_count": 11,
   "id": "fed5cded",
   "metadata": {},
   "outputs": [
    {
     "name": "stdout",
     "output_type": "stream",
     "text": [
      "Help on built-in function sqrt in module math:\n",
      "\n",
      "sqrt(x, /)\n",
      "    Return the square root of x.\n",
      "\n"
     ]
    }
   ],
   "source": [
    "help(sqrt)"
   ]
  },
  {
   "cell_type": "code",
   "execution_count": 12,
   "id": "cad417f2",
   "metadata": {},
   "outputs": [
    {
     "name": "stdout",
     "output_type": "stream",
     "text": [
      "Help on built-in function sqrt in module math:\n",
      "\n",
      "sqrt(x, /)\n",
      "    Return the square root of x.\n",
      "\n"
     ]
    }
   ],
   "source": [
    "help(square_root)"
   ]
  },
  {
   "cell_type": "code",
   "execution_count": 13,
   "id": "b63cfaef",
   "metadata": {},
   "outputs": [
    {
     "data": {
      "text/plain": [
       "float"
      ]
     },
     "execution_count": 13,
     "metadata": {},
     "output_type": "execute_result"
    }
   ],
   "source": [
    "type(math.pi)"
   ]
  },
  {
   "cell_type": "code",
   "execution_count": 14,
   "id": "c50492ab",
   "metadata": {},
   "outputs": [
    {
     "data": {
      "text/plain": [
       "3.1622776601683795"
      ]
     },
     "execution_count": 14,
     "metadata": {},
     "output_type": "execute_result"
    }
   ],
   "source": [
    "square_root(10)"
   ]
  },
  {
   "cell_type": "markdown",
   "id": "c35c0d9e",
   "metadata": {},
   "source": [
    "### Challenge\n",
    "\n",
    "<div class='alert alert-info'>\n",
    "  🎒 Find some interesting/useful tools in the <a href=\"https://docs.python.org/3/library/math.html\">math</a> module\n",
    "</div>"
   ]
  },
  {
   "cell_type": "markdown",
   "id": "e8b597a1",
   "metadata": {},
   "source": [
    "### Examples"
   ]
  },
  {
   "cell_type": "code",
   "execution_count": 15,
   "id": "925ec437",
   "metadata": {},
   "outputs": [
    {
     "data": {
      "text/plain": [
       "10"
      ]
     },
     "execution_count": 15,
     "metadata": {},
     "output_type": "execute_result"
    }
   ],
   "source": [
    "math.ceil(9.9)"
   ]
  },
  {
   "cell_type": "code",
   "execution_count": 16,
   "id": "1fbf4eab",
   "metadata": {},
   "outputs": [
    {
     "data": {
      "text/plain": [
       "9.0"
      ]
     },
     "execution_count": 16,
     "metadata": {},
     "output_type": "execute_result"
    }
   ],
   "source": [
    "9.9 // 1"
   ]
  },
  {
   "cell_type": "code",
   "execution_count": 17,
   "id": "dd9b11a7",
   "metadata": {},
   "outputs": [
    {
     "data": {
      "text/plain": [
       "9"
      ]
     },
     "execution_count": 17,
     "metadata": {},
     "output_type": "execute_result"
    }
   ],
   "source": [
    "math.floor(9.9)"
   ]
  },
  {
   "cell_type": "code",
   "execution_count": 18,
   "id": "a9528ad8",
   "metadata": {},
   "outputs": [],
   "source": [
    "from math import tau"
   ]
  },
  {
   "cell_type": "code",
   "execution_count": 19,
   "id": "3cae84df",
   "metadata": {},
   "outputs": [
    {
     "data": {
      "text/plain": [
       "6.283185307179586"
      ]
     },
     "execution_count": 19,
     "metadata": {},
     "output_type": "execute_result"
    }
   ],
   "source": [
    "tau"
   ]
  },
  {
   "cell_type": "code",
   "execution_count": 20,
   "id": "ea7466a6",
   "metadata": {},
   "outputs": [
    {
     "data": {
      "text/plain": [
       "4"
      ]
     },
     "execution_count": 20,
     "metadata": {},
     "output_type": "execute_result"
    }
   ],
   "source": [
    "math.gcd(20, 12, 16)"
   ]
  },
  {
   "cell_type": "markdown",
   "id": "61dbe1b3",
   "metadata": {},
   "source": [
    "### [Useful Modules](https://docs.python.org/3/py-modindex.html)"
   ]
  },
  {
   "cell_type": "markdown",
   "id": "1137365d",
   "metadata": {},
   "source": [
    "<div class='alert alert-success'>\n",
    "  🔬📁 Don't get overwhelmed, just look at a couple\n",
    "</div>"
   ]
  },
  {
   "cell_type": "markdown",
   "id": "eccd786b",
   "metadata": {},
   "source": [
    "- time\n",
    "- itertools\n",
    "- random\n",
    "- collections"
   ]
  },
  {
   "cell_type": "markdown",
   "id": "919b798c",
   "metadata": {},
   "source": [
    "### time"
   ]
  },
  {
   "cell_type": "code",
   "execution_count": 21,
   "id": "822c6f34",
   "metadata": {},
   "outputs": [],
   "source": [
    "import time"
   ]
  },
  {
   "cell_type": "code",
   "execution_count": 22,
   "id": "87bfce7a",
   "metadata": {},
   "outputs": [
    {
     "name": "stdout",
     "output_type": "stream",
     "text": [
      "1\n",
      "2\n",
      "3\n",
      "4\n"
     ]
    }
   ],
   "source": [
    "print(1)\n",
    "time.sleep(1)\n",
    "print(2)\n",
    "time.sleep(1)\n",
    "print(3)\n",
    "time.sleep(1)\n",
    "print(4)"
   ]
  },
  {
   "cell_type": "markdown",
   "id": "09a58570",
   "metadata": {},
   "source": [
    "### itertools"
   ]
  },
  {
   "cell_type": "code",
   "execution_count": 23,
   "id": "1891f10e",
   "metadata": {},
   "outputs": [],
   "source": [
    "food = [\"indian\", \"sushi\", \"pizza\"]\n",
    "drinks = [\"cocktail\", \"wine\", \"beer\"]\n",
    "dessert = [\"ice cream\", \"cake\", \"popcorn\"]"
   ]
  },
  {
   "cell_type": "code",
   "execution_count": 24,
   "id": "95d487a8",
   "metadata": {},
   "outputs": [],
   "source": [
    "import itertools"
   ]
  },
  {
   "cell_type": "code",
   "execution_count": 25,
   "id": "592b792e",
   "metadata": {},
   "outputs": [
    {
     "data": {
      "text/plain": [
       "[('indian', 'cocktail', 'ice cream'),\n",
       " ('indian', 'cocktail', 'cake'),\n",
       " ('indian', 'cocktail', 'popcorn'),\n",
       " ('indian', 'wine', 'ice cream'),\n",
       " ('indian', 'wine', 'cake'),\n",
       " ('indian', 'wine', 'popcorn'),\n",
       " ('indian', 'beer', 'ice cream'),\n",
       " ('indian', 'beer', 'cake'),\n",
       " ('indian', 'beer', 'popcorn'),\n",
       " ('sushi', 'cocktail', 'ice cream'),\n",
       " ('sushi', 'cocktail', 'cake'),\n",
       " ('sushi', 'cocktail', 'popcorn'),\n",
       " ('sushi', 'wine', 'ice cream'),\n",
       " ('sushi', 'wine', 'cake'),\n",
       " ('sushi', 'wine', 'popcorn'),\n",
       " ('sushi', 'beer', 'ice cream'),\n",
       " ('sushi', 'beer', 'cake'),\n",
       " ('sushi', 'beer', 'popcorn'),\n",
       " ('pizza', 'cocktail', 'ice cream'),\n",
       " ('pizza', 'cocktail', 'cake'),\n",
       " ('pizza', 'cocktail', 'popcorn'),\n",
       " ('pizza', 'wine', 'ice cream'),\n",
       " ('pizza', 'wine', 'cake'),\n",
       " ('pizza', 'wine', 'popcorn'),\n",
       " ('pizza', 'beer', 'ice cream'),\n",
       " ('pizza', 'beer', 'cake'),\n",
       " ('pizza', 'beer', 'popcorn')]"
      ]
     },
     "execution_count": 25,
     "metadata": {},
     "output_type": "execute_result"
    }
   ],
   "source": [
    "list(itertools.product(food, drinks, dessert))"
   ]
  },
  {
   "cell_type": "markdown",
   "id": "e2ab257b",
   "metadata": {},
   "source": [
    "### `random`"
   ]
  },
  {
   "cell_type": "code",
   "execution_count": 26,
   "id": "3fb6ba9f",
   "metadata": {},
   "outputs": [],
   "source": [
    "import random"
   ]
  },
  {
   "cell_type": "code",
   "execution_count": 27,
   "id": "577bf6f4",
   "metadata": {},
   "outputs": [
    {
     "data": {
      "text/plain": [
       "['🟩', '🟧', '🟦', '🟦', '🟥', '🟥', '🟦', '🟩', '🟦', '🟧']"
      ]
     },
     "execution_count": 27,
     "metadata": {},
     "output_type": "execute_result"
    }
   ],
   "source": [
    "random.choices([\"🟦\", \"🟥\", \"🟧\", \"🟩\"], k=10)"
   ]
  },
  {
   "cell_type": "code",
   "execution_count": 28,
   "id": "8ea31884",
   "metadata": {},
   "outputs": [
    {
     "data": {
      "text/plain": [
       "['☀️', '☀️', '☀️', '☀️', '🌧', '☀️', '☀️', '☀️', '☀️', '☀️']"
      ]
     },
     "execution_count": 28,
     "metadata": {},
     "output_type": "execute_result"
    }
   ],
   "source": [
    "options = [\"☀️\", \"🌧\", \"⛈\", \"🌤\", \"☁️\"]\n",
    "weights = [1000, 200, 40, 30, 150]\n",
    "\n",
    "random.choices(options, weights, k=10)"
   ]
  },
  {
   "cell_type": "code",
   "execution_count": 29,
   "id": "2a8d86b3",
   "metadata": {},
   "outputs": [
    {
     "name": "stdout",
     "output_type": "stream",
     "text": [
      "Couldn't find program: 'false'\n"
     ]
    }
   ],
   "source": [
    "%%script false --no-raise-error\n",
    "\n",
    "random.sample([\"🟦\", \"🟥\", \"🟧\", \"🟩\"], k=10)"
   ]
  },
  {
   "cell_type": "code",
   "execution_count": 30,
   "id": "06657c88",
   "metadata": {},
   "outputs": [
    {
     "data": {
      "text/plain": [
       "'🌤'"
      ]
     },
     "execution_count": 30,
     "metadata": {},
     "output_type": "execute_result"
    }
   ],
   "source": [
    "random.choice([\"☀️\", \"🌧\", \"⛈\", \"🌤\", \"☁️\"])\n",
    "random.choices([\"☀️\", \"🌧\", \"⛈\", \"🌤\", \"☁️\"])[0]"
   ]
  },
  {
   "cell_type": "markdown",
   "id": "2207c233",
   "metadata": {},
   "source": [
    "### Challenge\n",
    "\n",
    "<div class='alert alert-info'>\n",
    "  🎒 Use random.choices with weights to model some of your own daily/weekly activities!\n",
    "</div>"
   ]
  },
  {
   "cell_type": "code",
   "execution_count": 31,
   "id": "21eb01b1",
   "metadata": {},
   "outputs": [
    {
     "data": {
      "text/plain": [
       "['🪨', '🍻', '🥘', '🪨', '🇨🇳', '🥘', '🇨🇳', '🥘', '🍻', '🪨']"
      ]
     },
     "execution_count": 31,
     "metadata": {},
     "output_type": "execute_result"
    }
   ],
   "source": [
    "options = [\"🪨\", \"🎶\", \"🍻\", \"🇨🇳\", \"🥘\"]\n",
    "weights = [3, 1, 2, 4, 5]\n",
    "\n",
    "random.choices(options, weights, k=10)"
   ]
  },
  {
   "cell_type": "markdown",
   "id": "90e7b21b",
   "metadata": {},
   "source": [
    "### `collections.Counter`"
   ]
  },
  {
   "cell_type": "code",
   "execution_count": 32,
   "id": "660c91f9",
   "metadata": {},
   "outputs": [],
   "source": [
    "from collections import Counter"
   ]
  },
  {
   "cell_type": "code",
   "execution_count": 33,
   "id": "44af5621",
   "metadata": {},
   "outputs": [],
   "source": [
    "colours = [\"Red\", \"Red\", \"Red\", \"Green\", \"Blue\", \"Blue\"]"
   ]
  },
  {
   "cell_type": "code",
   "execution_count": 34,
   "id": "be3b5338",
   "metadata": {},
   "outputs": [],
   "source": [
    "counter = Counter(colours)"
   ]
  },
  {
   "cell_type": "code",
   "execution_count": 35,
   "id": "585609e0",
   "metadata": {},
   "outputs": [
    {
     "data": {
      "text/plain": [
       "Counter({'Red': 3, 'Blue': 2, 'Green': 1})"
      ]
     },
     "execution_count": 35,
     "metadata": {},
     "output_type": "execute_result"
    }
   ],
   "source": [
    "counter"
   ]
  },
  {
   "cell_type": "code",
   "execution_count": 36,
   "id": "b95f6c30",
   "metadata": {},
   "outputs": [
    {
     "data": {
      "text/plain": [
       "collections.Counter"
      ]
     },
     "execution_count": 36,
     "metadata": {},
     "output_type": "execute_result"
    }
   ],
   "source": [
    "type(counter)"
   ]
  },
  {
   "cell_type": "code",
   "execution_count": 37,
   "id": "c4cea351",
   "metadata": {},
   "outputs": [
    {
     "data": {
      "text/plain": [
       "3"
      ]
     },
     "execution_count": 37,
     "metadata": {},
     "output_type": "execute_result"
    }
   ],
   "source": [
    "counter[\"Red\"]"
   ]
  },
  {
   "cell_type": "code",
   "execution_count": 38,
   "id": "028b78bc",
   "metadata": {},
   "outputs": [
    {
     "data": {
      "text/plain": [
       "[('Red', 3), ('Blue', 2)]"
      ]
     },
     "execution_count": 38,
     "metadata": {},
     "output_type": "execute_result"
    }
   ],
   "source": [
    "counter.most_common(2)"
   ]
  },
  {
   "cell_type": "markdown",
   "id": "729d4d4c",
   "metadata": {},
   "source": [
    "### Challenge\n",
    "\n",
    "<div class='alert alert-info'>\n",
    "  🎒 Use Counter to count how many times you press Left in the \"Konami Cheat Code\", and print the number of button presses in the full cheat code (Hint: Up, Up, Down, Down, Left, Right, Left, Right, B, A, Start)\n",
    "</div>"
   ]
  },
  {
   "cell_type": "code",
   "execution_count": 39,
   "id": "78eccc1f",
   "metadata": {},
   "outputs": [],
   "source": [
    "code = [\"⬆️\", \"⬆️\", \"⬇️\", \"⬇️\", \"⬅️\", \"➡️\", \"⬅️\", \"➡️\", \"🅱️\", \"🅰️\", \"⭐️\"]"
   ]
  },
  {
   "cell_type": "code",
   "execution_count": 40,
   "id": "624bde2c",
   "metadata": {},
   "outputs": [],
   "source": [
    "counter_code = Counter(code)"
   ]
  },
  {
   "cell_type": "code",
   "execution_count": 41,
   "id": "56f6d245",
   "metadata": {},
   "outputs": [
    {
     "data": {
      "text/plain": [
       "2"
      ]
     },
     "execution_count": 41,
     "metadata": {},
     "output_type": "execute_result"
    }
   ],
   "source": [
    "counter_code[\"⬅️\"]"
   ]
  },
  {
   "cell_type": "code",
   "execution_count": 42,
   "id": "511025b0",
   "metadata": {},
   "outputs": [
    {
     "data": {
      "text/plain": [
       "Counter({'⬆️': 2, '⬇️': 2, '⬅️': 2, '➡️': 2, '🅱️': 1, '🅰️': 1, '⭐️': 1})"
      ]
     },
     "execution_count": 42,
     "metadata": {},
     "output_type": "execute_result"
    }
   ],
   "source": [
    "counter_code"
   ]
  },
  {
   "cell_type": "markdown",
   "id": "c4b513cf",
   "metadata": {},
   "source": [
    "### \"Third Party\" Libraries"
   ]
  },
  {
   "cell_type": "markdown",
   "id": "f5d1b22b",
   "metadata": {},
   "source": [
    "- [rich](https://github.com/Textualize/rich)\n",
    "- [chime](https://github.com/MaxHalford/chime)\n",
    "- [schedule](https://github.com/dbader/schedule)\n",
    "- [faker](https://github.com/joke2k/faker)\n",
    "- [pandas](https://github.com/pandas-dev/pandas)"
   ]
  },
  {
   "cell_type": "markdown",
   "id": "59e78306",
   "metadata": {},
   "source": [
    "### rich"
   ]
  },
  {
   "cell_type": "code",
   "execution_count": 43,
   "id": "ca8ad0b9",
   "metadata": {},
   "outputs": [
    {
     "ename": "ModuleNotFoundError",
     "evalue": "No module named 'rich'",
     "output_type": "error",
     "traceback": [
      "\u001b[1;31m---------------------------------------------------------------------------\u001b[0m",
      "\u001b[1;31mModuleNotFoundError\u001b[0m                       Traceback (most recent call last)",
      "Cell \u001b[1;32mIn[43], line 1\u001b[0m\n\u001b[1;32m----> 1\u001b[0m \u001b[38;5;28;01mfrom\u001b[39;00m\u001b[38;5;250m \u001b[39m\u001b[38;5;21;01mrich\u001b[39;00m\u001b[38;5;250m \u001b[39m\u001b[38;5;28;01mimport\u001b[39;00m \u001b[38;5;28mprint\u001b[39m\n",
      "\u001b[1;31mModuleNotFoundError\u001b[0m: No module named 'rich'"
     ]
    }
   ],
   "source": [
    "from rich import print"
   ]
  },
  {
   "cell_type": "code",
   "execution_count": null,
   "id": "21b65b37",
   "metadata": {},
   "outputs": [],
   "source": [
    "print(list(itertools.product(food, drinks, dessert)))"
   ]
  },
  {
   "cell_type": "markdown",
   "id": "3152cafd",
   "metadata": {},
   "source": [
    "### chime"
   ]
  },
  {
   "cell_type": "code",
   "execution_count": null,
   "id": "35e16d5d-83b8-4f5e-8148-0db3e9ada199",
   "metadata": {},
   "outputs": [],
   "source": [
    "pip install chime"
   ]
  },
  {
   "cell_type": "code",
   "execution_count": null,
   "id": "e3fba38e",
   "metadata": {},
   "outputs": [],
   "source": [
    "import chime"
   ]
  },
  {
   "cell_type": "code",
   "execution_count": null,
   "id": "8a7610bc",
   "metadata": {},
   "outputs": [],
   "source": [
    "chime.success()"
   ]
  },
  {
   "cell_type": "code",
   "execution_count": null,
   "id": "c43fedf0",
   "metadata": {},
   "outputs": [],
   "source": [
    "chime.warning()"
   ]
  },
  {
   "cell_type": "markdown",
   "id": "4ba14297",
   "metadata": {},
   "source": [
    "### schedule"
   ]
  },
  {
   "cell_type": "code",
   "execution_count": null,
   "id": "dea2349d-5fc5-43fe-8e7c-fb8d1f664c67",
   "metadata": {},
   "outputs": [],
   "source": [
    "pip install schedule"
   ]
  },
  {
   "cell_type": "code",
   "execution_count": null,
   "id": "3d819444",
   "metadata": {},
   "outputs": [],
   "source": [
    "import schedule\n",
    "\n",
    "def job():\n",
    "    print(\"This could be anything!\")"
   ]
  },
  {
   "cell_type": "code",
   "execution_count": null,
   "id": "a373d818",
   "metadata": {},
   "outputs": [],
   "source": [
    "schedule.every(5).minutes.do(job)"
   ]
  },
  {
   "cell_type": "code",
   "execution_count": null,
   "id": "2a1a1554",
   "metadata": {},
   "outputs": [],
   "source": [
    "# while True:\n",
    "#     schedule.run_pending()"
   ]
  },
  {
   "cell_type": "markdown",
   "id": "d3ece8d2",
   "metadata": {},
   "source": [
    "### faker"
   ]
  },
  {
   "cell_type": "code",
   "execution_count": null,
   "id": "622cd67b-8d66-4948-8351-4edf628d0a46",
   "metadata": {},
   "outputs": [],
   "source": [
    "pip install faker"
   ]
  },
  {
   "cell_type": "code",
   "execution_count": null,
   "id": "40496b89",
   "metadata": {},
   "outputs": [],
   "source": [
    "from faker import Faker\n",
    "\n",
    "fake = Faker()"
   ]
  },
  {
   "cell_type": "code",
   "execution_count": null,
   "id": "5b2f4397",
   "metadata": {},
   "outputs": [],
   "source": [
    "fake.name()"
   ]
  },
  {
   "cell_type": "code",
   "execution_count": null,
   "id": "dfe695a4",
   "metadata": {},
   "outputs": [],
   "source": [
    "fake.credit_card_number()"
   ]
  },
  {
   "cell_type": "markdown",
   "id": "613ca888",
   "metadata": {},
   "source": [
    "### pandas"
   ]
  },
  {
   "cell_type": "code",
   "execution_count": null,
   "id": "10a72d56",
   "metadata": {},
   "outputs": [],
   "source": [
    "import pandas as pd"
   ]
  },
  {
   "cell_type": "code",
   "execution_count": null,
   "id": "2da45caa",
   "metadata": {},
   "outputs": [],
   "source": [
    "df = pd.DataFrame({\n",
    "    \"a\": 1.0,\n",
    "    \"b\": pd.Timestamp(\"20220101\"),\n",
    "    \"c\": pd.Series([1, 2, 3, 4], dtype=\"float32\"),\n",
    "    \"d\": pd.Categorical([\"test\", \"train\", \"test\", \"train\"]),\n",
    "    \"e\": \"foo\",\n",
    "})"
   ]
  },
  {
   "cell_type": "code",
   "execution_count": null,
   "id": "b63a4d58",
   "metadata": {},
   "outputs": [],
   "source": [
    "df[\"c\"]"
   ]
  },
  {
   "cell_type": "markdown",
   "id": "a8b31ab8",
   "metadata": {},
   "source": [
    "### Antigravity"
   ]
  },
  {
   "cell_type": "code",
   "execution_count": null,
   "id": "5fe16f34",
   "metadata": {},
   "outputs": [],
   "source": [
    "import antigravity"
   ]
  },
  {
   "cell_type": "markdown",
   "id": "6cfb7c6d",
   "metadata": {},
   "source": [
    "### Challenge\n",
    "\n",
    "<div class='alert alert-info'>\n",
    "🎒 Use Faker to generate a fake email and password!\n",
    "</div>"
   ]
  },
  {
   "cell_type": "code",
   "execution_count": null,
   "id": "a82b34e5",
   "metadata": {},
   "outputs": [],
   "source": [
    "from faker import Faker\n",
    "\n",
    "fake = Faker()"
   ]
  },
  {
   "cell_type": "code",
   "execution_count": null,
   "id": "5745476d",
   "metadata": {},
   "outputs": [],
   "source": [
    "fake.email()"
   ]
  },
  {
   "cell_type": "code",
   "execution_count": null,
   "id": "0e0fc8d4",
   "metadata": {},
   "outputs": [],
   "source": [
    "fake.password()"
   ]
  },
  {
   "cell_type": "markdown",
   "id": "92a4ae99",
   "metadata": {},
   "source": [
    "### Homework"
   ]
  },
  {
   "cell_type": "markdown",
   "id": "1bb4e62f",
   "metadata": {},
   "source": [
    "<div class='alert alert-info'>\n",
    "🎒 Explore some other packages on <a href=\"https://anaconda.cloud/package-categories\">Anaconda Nucleus</a>!\n",
    "</div>"
   ]
  }
 ],
 "metadata": {
  "kernelspec": {
   "display_name": "Python 3",
   "language": "python",
   "name": "python3"
  },
  "language_info": {
   "codemirror_mode": {
    "name": "ipython",
    "version": 3
   },
   "file_extension": ".py",
   "mimetype": "text/x-python",
   "name": "python",
   "nbconvert_exporter": "python",
   "pygments_lexer": "ipython3",
   "version": "3.13.2"
  }
 },
 "nbformat": 4,
 "nbformat_minor": 5
}
