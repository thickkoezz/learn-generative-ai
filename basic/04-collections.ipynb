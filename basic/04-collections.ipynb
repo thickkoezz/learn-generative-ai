{
 "cells": [
  {
   "cell_type": "markdown",
   "id": "e51d407f",
   "metadata": {},
   "source": [
    "# Collections"
   ]
  },
  {
   "cell_type": "markdown",
   "id": "fd78eb06",
   "metadata": {},
   "source": [
    "### Lists"
   ]
  },
  {
   "cell_type": "code",
   "execution_count": 1,
   "id": "be9a9db8",
   "metadata": {},
   "outputs": [],
   "source": [
    "snake_1 = \"anaconda\"\n",
    "snake_2 = \"cobra\"\n",
    "snake_3 = \"mamba\""
   ]
  },
  {
   "cell_type": "code",
   "execution_count": 2,
   "id": "7cacc05c",
   "metadata": {},
   "outputs": [
    {
     "data": {
      "text/plain": [
       "'anacondacobramamba'"
      ]
     },
     "execution_count": 2,
     "metadata": {},
     "output_type": "execute_result"
    }
   ],
   "source": [
    "snake_1 + snake_2 + snake_3"
   ]
  },
  {
   "cell_type": "code",
   "execution_count": 3,
   "id": "fe759e0a",
   "metadata": {},
   "outputs": [],
   "source": [
    "snakes = [snake_1, snake_2, snake_3]"
   ]
  },
  {
   "cell_type": "code",
   "execution_count": 4,
   "id": "a650f959",
   "metadata": {},
   "outputs": [
    {
     "data": {
      "text/plain": [
       "['anaconda', 'cobra', 'mamba']"
      ]
     },
     "execution_count": 4,
     "metadata": {},
     "output_type": "execute_result"
    }
   ],
   "source": [
    "snakes"
   ]
  },
  {
   "cell_type": "code",
   "execution_count": 5,
   "id": "63572979",
   "metadata": {},
   "outputs": [],
   "source": [
    "numbers = [1, 2, 3, 4]"
   ]
  },
  {
   "cell_type": "code",
   "execution_count": 6,
   "id": "b5568332",
   "metadata": {},
   "outputs": [
    {
     "data": {
      "text/plain": [
       "list"
      ]
     },
     "execution_count": 6,
     "metadata": {},
     "output_type": "execute_result"
    }
   ],
   "source": [
    "type(numbers)"
   ]
  },
  {
   "cell_type": "markdown",
   "id": "968ff310",
   "metadata": {},
   "source": [
    "### Indexing"
   ]
  },
  {
   "cell_type": "code",
   "execution_count": 7,
   "id": "bea3c8ad",
   "metadata": {},
   "outputs": [],
   "source": [
    "snake_3 = snakes[2]"
   ]
  },
  {
   "cell_type": "code",
   "execution_count": 8,
   "id": "7bb897c3",
   "metadata": {},
   "outputs": [
    {
     "data": {
      "text/plain": [
       "'mamba'"
      ]
     },
     "execution_count": 8,
     "metadata": {},
     "output_type": "execute_result"
    }
   ],
   "source": [
    "snake_3"
   ]
  },
  {
   "cell_type": "code",
   "execution_count": 9,
   "id": "eb8089ed",
   "metadata": {},
   "outputs": [
    {
     "data": {
      "text/plain": [
       "'anaconda'"
      ]
     },
     "execution_count": 9,
     "metadata": {},
     "output_type": "execute_result"
    }
   ],
   "source": [
    "snakes[0]"
   ]
  },
  {
   "cell_type": "code",
   "execution_count": 10,
   "id": "b55ab873",
   "metadata": {},
   "outputs": [
    {
     "data": {
      "text/plain": [
       "['anaconda', 'cobra', 'mamba']"
      ]
     },
     "execution_count": 10,
     "metadata": {},
     "output_type": "execute_result"
    }
   ],
   "source": [
    "snakes"
   ]
  },
  {
   "cell_type": "code",
   "execution_count": 11,
   "id": "86087853",
   "metadata": {},
   "outputs": [
    {
     "data": {
      "text/plain": [
       "'anaconda'"
      ]
     },
     "execution_count": 11,
     "metadata": {},
     "output_type": "execute_result"
    }
   ],
   "source": [
    "snakes[-3]"
   ]
  },
  {
   "cell_type": "code",
   "execution_count": 12,
   "id": "a51db30b",
   "metadata": {},
   "outputs": [
    {
     "name": "stdout",
     "output_type": "stream",
     "text": [
      "Couldn't find program: 'false'\n"
     ]
    }
   ],
   "source": [
    "%%script false --no-raise-error\n",
    "\n",
    "snakes[10]"
   ]
  },
  {
   "cell_type": "code",
   "execution_count": 13,
   "id": "5842c873",
   "metadata": {},
   "outputs": [
    {
     "data": {
      "text/plain": [
       "['anaconda', 'cobra', 'mamba', 'sidewinder']"
      ]
     },
     "execution_count": 13,
     "metadata": {},
     "output_type": "execute_result"
    }
   ],
   "source": [
    "snakes + [\"sidewinder\"]"
   ]
  },
  {
   "cell_type": "code",
   "execution_count": 14,
   "id": "7bbbd95c",
   "metadata": {},
   "outputs": [
    {
     "data": {
      "text/plain": [
       "['anaconda', 'cobra', 'mamba']"
      ]
     },
     "execution_count": 14,
     "metadata": {},
     "output_type": "execute_result"
    }
   ],
   "source": [
    "snakes"
   ]
  },
  {
   "cell_type": "code",
   "execution_count": 15,
   "id": "4cab94e3",
   "metadata": {},
   "outputs": [],
   "source": [
    "snakes = snakes + [\"sidewinder\"]"
   ]
  },
  {
   "cell_type": "markdown",
   "id": "d8c6b9f3",
   "metadata": {},
   "source": [
    "### Slicing"
   ]
  },
  {
   "cell_type": "code",
   "execution_count": 16,
   "id": "fa5969c3",
   "metadata": {},
   "outputs": [
    {
     "data": {
      "text/plain": [
       "['anaconda', 'cobra', 'mamba', 'sidewinder']"
      ]
     },
     "execution_count": 16,
     "metadata": {},
     "output_type": "execute_result"
    }
   ],
   "source": [
    "snakes"
   ]
  },
  {
   "cell_type": "code",
   "execution_count": 17,
   "id": "b004355f",
   "metadata": {},
   "outputs": [
    {
     "data": {
      "text/plain": [
       "['cobra', 'mamba']"
      ]
     },
     "execution_count": 17,
     "metadata": {},
     "output_type": "execute_result"
    }
   ],
   "source": [
    "snakes[1:-1]"
   ]
  },
  {
   "cell_type": "markdown",
   "id": "feef1d75",
   "metadata": {},
   "source": [
    "### Challenge\n",
    "\n",
    "<div class='alert alert-info'>\n",
    "  🎒 Think up and implement a \"realistic\" use case for a python list\n",
    "</div>\n"
   ]
  },
  {
   "cell_type": "markdown",
   "id": "e6e40cc8",
   "metadata": {},
   "source": [
    "### Example"
   ]
  },
  {
   "cell_type": "code",
   "execution_count": 18,
   "id": "948f7bef",
   "metadata": {},
   "outputs": [],
   "source": [
    "list_of_songs = [\n",
    "    \"never_gonna_give_you_up.mp3\",\n",
    "    \"stacys_mom.mp3\",\n",
    "    \"eye_of_the_tiger.mp3\",\n",
    "    \"teenage_dirtbag.mp3\",\n",
    "    \"99_red_baloons.flac\",\n",
    "    \"all_star_smash_mouth.mp3\"\n",
    "]"
   ]
  },
  {
   "cell_type": "markdown",
   "id": "e2c28874",
   "metadata": {},
   "source": [
    "### Referencing"
   ]
  },
  {
   "cell_type": "code",
   "execution_count": 19,
   "id": "ceb6e745",
   "metadata": {},
   "outputs": [],
   "source": [
    "one_hit_wonders = list_of_songs"
   ]
  },
  {
   "cell_type": "code",
   "execution_count": 20,
   "id": "c390d6eb",
   "metadata": {},
   "outputs": [
    {
     "data": {
      "text/plain": [
       "['never_gonna_give_you_up.mp3',\n",
       " 'stacys_mom.mp3',\n",
       " 'eye_of_the_tiger.mp3',\n",
       " 'teenage_dirtbag.mp3',\n",
       " '99_red_baloons.flac',\n",
       " 'all_star_smash_mouth.mp3']"
      ]
     },
     "execution_count": 20,
     "metadata": {},
     "output_type": "execute_result"
    }
   ],
   "source": [
    "one_hit_wonders"
   ]
  },
  {
   "cell_type": "code",
   "execution_count": 21,
   "id": "b9d36f9f",
   "metadata": {},
   "outputs": [
    {
     "data": {
      "text/plain": [
       "['never_gonna_give_you_up.mp3',\n",
       " 'stacys_mom.mp3',\n",
       " 'eye_of_the_tiger.mp3',\n",
       " 'teenage_dirtbag.mp3',\n",
       " '99_red_baloons.flac',\n",
       " 'all_star_smash_mouth.mp3']"
      ]
     },
     "execution_count": 21,
     "metadata": {},
     "output_type": "execute_result"
    }
   ],
   "source": [
    "list_of_songs"
   ]
  },
  {
   "cell_type": "code",
   "execution_count": 22,
   "id": "0b602051",
   "metadata": {},
   "outputs": [],
   "source": [
    "list_of_songs[1] = \"alis_mom.mp3\""
   ]
  },
  {
   "cell_type": "code",
   "execution_count": 23,
   "id": "11ac98b2",
   "metadata": {},
   "outputs": [
    {
     "data": {
      "text/plain": [
       "['never_gonna_give_you_up.mp3',\n",
       " 'alis_mom.mp3',\n",
       " 'eye_of_the_tiger.mp3',\n",
       " 'teenage_dirtbag.mp3',\n",
       " '99_red_baloons.flac',\n",
       " 'all_star_smash_mouth.mp3']"
      ]
     },
     "execution_count": 23,
     "metadata": {},
     "output_type": "execute_result"
    }
   ],
   "source": [
    "list_of_songs"
   ]
  },
  {
   "cell_type": "code",
   "execution_count": 24,
   "id": "a6b070bf",
   "metadata": {},
   "outputs": [
    {
     "data": {
      "text/plain": [
       "['never_gonna_give_you_up.mp3',\n",
       " 'alis_mom.mp3',\n",
       " 'eye_of_the_tiger.mp3',\n",
       " 'teenage_dirtbag.mp3',\n",
       " '99_red_baloons.flac',\n",
       " 'all_star_smash_mouth.mp3']"
      ]
     },
     "execution_count": 24,
     "metadata": {},
     "output_type": "execute_result"
    }
   ],
   "source": [
    "one_hit_wonders"
   ]
  },
  {
   "cell_type": "code",
   "execution_count": 25,
   "id": "d9869ffd",
   "metadata": {},
   "outputs": [],
   "source": [
    "list_of_songs = [\n",
    "    \"never_gonna_give_you_up.mp3\",\n",
    "    \"stacys_mom.mp3\",\n",
    "    \"eye_of_the_tiger.mp3\",\n",
    "    \"teenage_dirtbag.mp3\",\n",
    "    \"99_red_baloons.flac\",\n",
    "    \"all_star_smash_mouth.mp3\"\n",
    "]"
   ]
  },
  {
   "cell_type": "code",
   "execution_count": 26,
   "id": "c9e4ba98",
   "metadata": {},
   "outputs": [],
   "source": [
    "one_hit_wonders = list_of_songs.copy()"
   ]
  },
  {
   "cell_type": "code",
   "execution_count": 27,
   "id": "8107c319",
   "metadata": {},
   "outputs": [],
   "source": [
    "one_hit_wonders = one_hit_wonders + [\"ice_ice_baby.mp3\"]"
   ]
  },
  {
   "cell_type": "code",
   "execution_count": 28,
   "id": "588adbfb",
   "metadata": {},
   "outputs": [
    {
     "data": {
      "text/plain": [
       "['never_gonna_give_you_up.mp3',\n",
       " 'stacys_mom.mp3',\n",
       " 'eye_of_the_tiger.mp3',\n",
       " 'teenage_dirtbag.mp3',\n",
       " '99_red_baloons.flac',\n",
       " 'all_star_smash_mouth.mp3',\n",
       " 'ice_ice_baby.mp3']"
      ]
     },
     "execution_count": 28,
     "metadata": {},
     "output_type": "execute_result"
    }
   ],
   "source": [
    "one_hit_wonders"
   ]
  },
  {
   "cell_type": "code",
   "execution_count": 29,
   "id": "6ec5bbfe",
   "metadata": {},
   "outputs": [
    {
     "data": {
      "text/plain": [
       "['never_gonna_give_you_up.mp3',\n",
       " 'stacys_mom.mp3',\n",
       " 'eye_of_the_tiger.mp3',\n",
       " 'teenage_dirtbag.mp3',\n",
       " '99_red_baloons.flac',\n",
       " 'all_star_smash_mouth.mp3']"
      ]
     },
     "execution_count": 29,
     "metadata": {},
     "output_type": "execute_result"
    }
   ],
   "source": [
    "list_of_songs"
   ]
  },
  {
   "cell_type": "markdown",
   "id": "40082b71",
   "metadata": {},
   "source": [
    "### Methods"
   ]
  },
  {
   "cell_type": "code",
   "execution_count": 30,
   "id": "f86a86fc",
   "metadata": {},
   "outputs": [
    {
     "data": {
      "text/plain": [
       "['__add__',\n",
       " '__class__',\n",
       " '__class_getitem__',\n",
       " '__contains__',\n",
       " '__delattr__',\n",
       " '__delitem__',\n",
       " '__dir__',\n",
       " '__doc__',\n",
       " '__eq__',\n",
       " '__format__',\n",
       " '__ge__',\n",
       " '__getattribute__',\n",
       " '__getitem__',\n",
       " '__getstate__',\n",
       " '__gt__',\n",
       " '__hash__',\n",
       " '__iadd__',\n",
       " '__imul__',\n",
       " '__init__',\n",
       " '__init_subclass__',\n",
       " '__iter__',\n",
       " '__le__',\n",
       " '__len__',\n",
       " '__lt__',\n",
       " '__mul__',\n",
       " '__ne__',\n",
       " '__new__',\n",
       " '__reduce__',\n",
       " '__reduce_ex__',\n",
       " '__repr__',\n",
       " '__reversed__',\n",
       " '__rmul__',\n",
       " '__setattr__',\n",
       " '__setitem__',\n",
       " '__sizeof__',\n",
       " '__str__',\n",
       " '__subclasshook__',\n",
       " 'append',\n",
       " 'clear',\n",
       " 'copy',\n",
       " 'count',\n",
       " 'extend',\n",
       " 'index',\n",
       " 'insert',\n",
       " 'pop',\n",
       " 'remove',\n",
       " 'reverse',\n",
       " 'sort']"
      ]
     },
     "execution_count": 30,
     "metadata": {},
     "output_type": "execute_result"
    }
   ],
   "source": [
    "dir(list_of_songs)"
   ]
  },
  {
   "cell_type": "code",
   "execution_count": 31,
   "id": "ca16ef44",
   "metadata": {},
   "outputs": [],
   "source": [
    "list_of_songs.append(\"stranger_things_theme.mp3\")"
   ]
  },
  {
   "cell_type": "code",
   "execution_count": 32,
   "id": "e7bdb28d",
   "metadata": {},
   "outputs": [],
   "source": [
    "garbage = list_of_songs + [1] + [[\"hey\"]]"
   ]
  },
  {
   "cell_type": "code",
   "execution_count": 33,
   "id": "b3872619",
   "metadata": {},
   "outputs": [
    {
     "data": {
      "text/plain": [
       "['never_gonna_give_you_up.mp3',\n",
       " 'stacys_mom.mp3',\n",
       " 'eye_of_the_tiger.mp3',\n",
       " 'teenage_dirtbag.mp3',\n",
       " '99_red_baloons.flac',\n",
       " 'all_star_smash_mouth.mp3',\n",
       " 'stranger_things_theme.mp3']"
      ]
     },
     "execution_count": 33,
     "metadata": {},
     "output_type": "execute_result"
    }
   ],
   "source": [
    "list_of_songs"
   ]
  },
  {
   "cell_type": "code",
   "execution_count": 34,
   "id": "b89fd0a2",
   "metadata": {},
   "outputs": [],
   "source": [
    "list_of_songs.append([\"got_theme_song.mp3\", \"west_world_theme.mp3\"])"
   ]
  },
  {
   "cell_type": "code",
   "execution_count": 35,
   "id": "a8131bb5",
   "metadata": {},
   "outputs": [
    {
     "data": {
      "text/plain": [
       "['never_gonna_give_you_up.mp3',\n",
       " 'stacys_mom.mp3',\n",
       " 'eye_of_the_tiger.mp3',\n",
       " 'teenage_dirtbag.mp3',\n",
       " '99_red_baloons.flac',\n",
       " 'all_star_smash_mouth.mp3',\n",
       " 'stranger_things_theme.mp3',\n",
       " ['got_theme_song.mp3', 'west_world_theme.mp3']]"
      ]
     },
     "execution_count": 35,
     "metadata": {},
     "output_type": "execute_result"
    }
   ],
   "source": [
    "list_of_songs"
   ]
  },
  {
   "cell_type": "code",
   "execution_count": 36,
   "id": "3fd96a7d",
   "metadata": {},
   "outputs": [],
   "source": [
    "del list_of_songs[-1]"
   ]
  },
  {
   "cell_type": "markdown",
   "id": "e6580729",
   "metadata": {},
   "source": [
    "### Extend"
   ]
  },
  {
   "cell_type": "code",
   "execution_count": 37,
   "id": "48843d2f",
   "metadata": {},
   "outputs": [
    {
     "data": {
      "text/plain": [
       "['never_gonna_give_you_up.mp3',\n",
       " 'stacys_mom.mp3',\n",
       " 'eye_of_the_tiger.mp3',\n",
       " 'teenage_dirtbag.mp3',\n",
       " '99_red_baloons.flac',\n",
       " 'all_star_smash_mouth.mp3',\n",
       " 'stranger_things_theme.mp3']"
      ]
     },
     "execution_count": 37,
     "metadata": {},
     "output_type": "execute_result"
    }
   ],
   "source": [
    "list_of_songs"
   ]
  },
  {
   "cell_type": "code",
   "execution_count": 38,
   "id": "7b96df56",
   "metadata": {},
   "outputs": [],
   "source": [
    "list_of_songs.extend([\"got_theme_song.mp3\", \"west_world_theme.mp3\"])"
   ]
  },
  {
   "cell_type": "code",
   "execution_count": 39,
   "id": "d6dbeb0a",
   "metadata": {},
   "outputs": [
    {
     "data": {
      "text/plain": [
       "['never_gonna_give_you_up.mp3',\n",
       " 'stacys_mom.mp3',\n",
       " 'eye_of_the_tiger.mp3',\n",
       " 'teenage_dirtbag.mp3',\n",
       " '99_red_baloons.flac',\n",
       " 'all_star_smash_mouth.mp3',\n",
       " 'stranger_things_theme.mp3',\n",
       " 'got_theme_song.mp3',\n",
       " 'west_world_theme.mp3']"
      ]
     },
     "execution_count": 39,
     "metadata": {},
     "output_type": "execute_result"
    }
   ],
   "source": [
    "list_of_songs"
   ]
  },
  {
   "cell_type": "markdown",
   "id": "b2d54ea4",
   "metadata": {},
   "source": [
    "### More Methods"
   ]
  },
  {
   "cell_type": "code",
   "execution_count": 40,
   "id": "b587d7d1",
   "metadata": {},
   "outputs": [],
   "source": [
    "numbers = [1, 9, 3, -1, 5, 5, 5]"
   ]
  },
  {
   "cell_type": "code",
   "execution_count": 41,
   "id": "ea55261a",
   "metadata": {},
   "outputs": [
    {
     "data": {
      "text/plain": [
       "['__subclasshook__',\n",
       " 'append',\n",
       " 'clear',\n",
       " 'copy',\n",
       " 'count',\n",
       " 'extend',\n",
       " 'index',\n",
       " 'insert',\n",
       " 'pop',\n",
       " 'remove',\n",
       " 'reverse',\n",
       " 'sort']"
      ]
     },
     "execution_count": 41,
     "metadata": {},
     "output_type": "execute_result"
    }
   ],
   "source": [
    "dir(numbers)[36:]"
   ]
  },
  {
   "cell_type": "code",
   "execution_count": 42,
   "id": "084a3b65",
   "metadata": {},
   "outputs": [],
   "source": [
    "numbers.sort()"
   ]
  },
  {
   "cell_type": "code",
   "execution_count": 43,
   "id": "b48e750e",
   "metadata": {},
   "outputs": [
    {
     "data": {
      "text/plain": [
       "[-1, 1, 3, 5, 5, 5, 9]"
      ]
     },
     "execution_count": 43,
     "metadata": {},
     "output_type": "execute_result"
    }
   ],
   "source": [
    "numbers"
   ]
  },
  {
   "cell_type": "code",
   "execution_count": 44,
   "id": "cd42b65a",
   "metadata": {},
   "outputs": [
    {
     "data": {
      "text/plain": [
       "3"
      ]
     },
     "execution_count": 44,
     "metadata": {},
     "output_type": "execute_result"
    }
   ],
   "source": [
    "numbers.count(5)"
   ]
  },
  {
   "cell_type": "code",
   "execution_count": 45,
   "id": "2ce902ab",
   "metadata": {},
   "outputs": [
    {
     "data": {
      "text/plain": [
       "9"
      ]
     },
     "execution_count": 45,
     "metadata": {},
     "output_type": "execute_result"
    }
   ],
   "source": [
    "numbers.pop()"
   ]
  },
  {
   "cell_type": "code",
   "execution_count": 46,
   "id": "084eb830",
   "metadata": {},
   "outputs": [
    {
     "data": {
      "text/plain": [
       "[-1, 1, 3, 5, 5, 5]"
      ]
     },
     "execution_count": 46,
     "metadata": {},
     "output_type": "execute_result"
    }
   ],
   "source": [
    "numbers"
   ]
  },
  {
   "cell_type": "code",
   "execution_count": 47,
   "id": "2f7f03f0",
   "metadata": {},
   "outputs": [],
   "source": [
    "last = numbers.pop()"
   ]
  },
  {
   "cell_type": "code",
   "execution_count": 48,
   "id": "f1b57eb4",
   "metadata": {},
   "outputs": [
    {
     "data": {
      "text/plain": [
       "5"
      ]
     },
     "execution_count": 48,
     "metadata": {},
     "output_type": "execute_result"
    }
   ],
   "source": [
    "last"
   ]
  },
  {
   "cell_type": "code",
   "execution_count": 49,
   "id": "a04dd5fd",
   "metadata": {},
   "outputs": [
    {
     "data": {
      "text/plain": [
       "[-1, 1, 3, 5, 5]"
      ]
     },
     "execution_count": 49,
     "metadata": {},
     "output_type": "execute_result"
    }
   ],
   "source": [
    "numbers"
   ]
  },
  {
   "cell_type": "markdown",
   "id": "56e3ae00",
   "metadata": {},
   "source": [
    "### Dictionaries"
   ]
  },
  {
   "cell_type": "code",
   "execution_count": 50,
   "id": "94376678",
   "metadata": {},
   "outputs": [],
   "source": [
    "vocab = {\n",
    "    # key: value\n",
    "    \"ni\": \"you\", \n",
    "    \"hao\": \"good\", \n",
    "    \"ni hao\": \"hello\"\n",
    "}"
   ]
  },
  {
   "cell_type": "code",
   "execution_count": 51,
   "id": "0436f47a",
   "metadata": {},
   "outputs": [
    {
     "data": {
      "text/plain": [
       "'yougood'"
      ]
     },
     "execution_count": 51,
     "metadata": {},
     "output_type": "execute_result"
    }
   ],
   "source": [
    "vocab[\"ni\"] + vocab[\"hao\"]"
   ]
  },
  {
   "cell_type": "code",
   "execution_count": 52,
   "id": "3c371761",
   "metadata": {},
   "outputs": [
    {
     "data": {
      "text/plain": [
       "'hello'"
      ]
     },
     "execution_count": 52,
     "metadata": {},
     "output_type": "execute_result"
    }
   ],
   "source": [
    "vocab[\"ni hao\"]"
   ]
  },
  {
   "cell_type": "code",
   "execution_count": 53,
   "id": "60c62748",
   "metadata": {},
   "outputs": [
    {
     "name": "stdout",
     "output_type": "stream",
     "text": [
      "Couldn't find program: 'false'\n"
     ]
    }
   ],
   "source": [
    "%%script false --no-raise-error\n",
    "\n",
    "vocab[\"zhongwen\"]"
   ]
  },
  {
   "cell_type": "code",
   "execution_count": 54,
   "id": "68982386",
   "metadata": {},
   "outputs": [],
   "source": [
    "vocab[\"zhongwen\"] = \"Chinese language\""
   ]
  },
  {
   "cell_type": "code",
   "execution_count": 55,
   "id": "9e67ddb5",
   "metadata": {},
   "outputs": [
    {
     "data": {
      "text/plain": [
       "'Chinese language'"
      ]
     },
     "execution_count": 55,
     "metadata": {},
     "output_type": "execute_result"
    }
   ],
   "source": [
    "vocab[\"zhongwen\"]"
   ]
  },
  {
   "cell_type": "markdown",
   "id": "8417e435",
   "metadata": {},
   "source": [
    "### Methods"
   ]
  },
  {
   "cell_type": "code",
   "execution_count": 56,
   "id": "80e48e7b",
   "metadata": {},
   "outputs": [
    {
     "data": {
      "text/plain": [
       "{'ni': 'you', 'hao': 'good', 'ni hao': 'hello', 'zhongwen': 'Chinese language'}"
      ]
     },
     "execution_count": 56,
     "metadata": {},
     "output_type": "execute_result"
    }
   ],
   "source": [
    "vocab"
   ]
  },
  {
   "cell_type": "code",
   "execution_count": 57,
   "id": "c7631a40",
   "metadata": {},
   "outputs": [
    {
     "data": {
      "text/plain": [
       "['__subclasshook__',\n",
       " 'clear',\n",
       " 'copy',\n",
       " 'fromkeys',\n",
       " 'get',\n",
       " 'items',\n",
       " 'keys',\n",
       " 'pop',\n",
       " 'popitem',\n",
       " 'setdefault',\n",
       " 'update',\n",
       " 'values']"
      ]
     },
     "execution_count": 57,
     "metadata": {},
     "output_type": "execute_result"
    }
   ],
   "source": [
    "dir(vocab)[34:]"
   ]
  },
  {
   "cell_type": "code",
   "execution_count": 58,
   "id": "bf583fbb",
   "metadata": {},
   "outputs": [
    {
     "data": {
      "text/plain": [
       "['ni', 'hao', 'ni hao', 'zhongwen']"
      ]
     },
     "execution_count": 58,
     "metadata": {},
     "output_type": "execute_result"
    }
   ],
   "source": [
    "list(vocab.keys())"
   ]
  },
  {
   "cell_type": "code",
   "execution_count": 59,
   "id": "299940c6",
   "metadata": {},
   "outputs": [
    {
     "data": {
      "text/plain": [
       "['you', 'good', 'hello', 'Chinese language']"
      ]
     },
     "execution_count": 59,
     "metadata": {},
     "output_type": "execute_result"
    }
   ],
   "source": [
    "list(vocab.values())"
   ]
  },
  {
   "cell_type": "code",
   "execution_count": 60,
   "id": "dc5d02d0",
   "metadata": {},
   "outputs": [
    {
     "data": {
      "text/plain": [
       "[('ni', 'you'),\n",
       " ('hao', 'good'),\n",
       " ('ni hao', 'hello'),\n",
       " ('zhongwen', 'Chinese language')]"
      ]
     },
     "execution_count": 60,
     "metadata": {},
     "output_type": "execute_result"
    }
   ],
   "source": [
    "list(vocab.items())"
   ]
  },
  {
   "cell_type": "markdown",
   "id": "d90d2659",
   "metadata": {},
   "source": [
    "### Get"
   ]
  },
  {
   "cell_type": "code",
   "execution_count": 61,
   "id": "e8018ffa",
   "metadata": {},
   "outputs": [
    {
     "name": "stdout",
     "output_type": "stream",
     "text": [
      "Couldn't find program: 'false'\n"
     ]
    }
   ],
   "source": [
    "%%script false --no-raise-error\n",
    "\n",
    "vocab[\"wo\"]"
   ]
  },
  {
   "cell_type": "code",
   "execution_count": 62,
   "id": "eab0478b",
   "metadata": {},
   "outputs": [],
   "source": [
    "vocab.get(\"wo\")"
   ]
  },
  {
   "cell_type": "code",
   "execution_count": 63,
   "id": "f0c71ccf",
   "metadata": {},
   "outputs": [
    {
     "data": {
      "text/plain": [
       "'you'"
      ]
     },
     "execution_count": 63,
     "metadata": {},
     "output_type": "execute_result"
    }
   ],
   "source": [
    "vocab.get(\"ni\")"
   ]
  },
  {
   "cell_type": "code",
   "execution_count": 64,
   "id": "ada07d50",
   "metadata": {},
   "outputs": [
    {
     "data": {
      "text/plain": [
       "'Not yet known'"
      ]
     },
     "execution_count": 64,
     "metadata": {},
     "output_type": "execute_result"
    }
   ],
   "source": [
    "vocab.get(\"wo\", \"Not yet known\")"
   ]
  },
  {
   "cell_type": "markdown",
   "id": "65b2f731",
   "metadata": {},
   "source": [
    "### Sets"
   ]
  },
  {
   "cell_type": "code",
   "execution_count": 65,
   "id": "14adf780",
   "metadata": {},
   "outputs": [],
   "source": [
    "wonders = [\"never_gunna_give_you_up\", \"ice_ice_baby\", \"99_red_balloons\"]\n",
    "songs = [\"never_gunna_give_you_up\", \"ice_ice_baby\", \"99_red_balloons\", \"stranger_things_theme_song\"]"
   ]
  },
  {
   "cell_type": "code",
   "execution_count": 66,
   "id": "ada0ee90",
   "metadata": {},
   "outputs": [
    {
     "data": {
      "text/plain": [
       "{'stranger_things_theme_song'}"
      ]
     },
     "execution_count": 66,
     "metadata": {},
     "output_type": "execute_result"
    }
   ],
   "source": [
    "set(songs) - set(wonders) "
   ]
  },
  {
   "cell_type": "code",
   "execution_count": 67,
   "id": "d8eb09a2",
   "metadata": {},
   "outputs": [
    {
     "data": {
      "text/plain": [
       "['__and__',\n",
       " '__class__',\n",
       " '__class_getitem__',\n",
       " '__contains__',\n",
       " '__delattr__',\n",
       " '__dir__',\n",
       " '__doc__',\n",
       " '__eq__',\n",
       " '__format__',\n",
       " '__ge__',\n",
       " '__getattribute__',\n",
       " '__getstate__',\n",
       " '__gt__',\n",
       " '__hash__',\n",
       " '__iand__',\n",
       " '__init__',\n",
       " '__init_subclass__',\n",
       " '__ior__',\n",
       " '__isub__',\n",
       " '__iter__',\n",
       " '__ixor__',\n",
       " '__le__',\n",
       " '__len__',\n",
       " '__lt__',\n",
       " '__ne__',\n",
       " '__new__',\n",
       " '__or__',\n",
       " '__rand__',\n",
       " '__reduce__',\n",
       " '__reduce_ex__',\n",
       " '__repr__',\n",
       " '__ror__',\n",
       " '__rsub__',\n",
       " '__rxor__',\n",
       " '__setattr__',\n",
       " '__sizeof__',\n",
       " '__str__',\n",
       " '__sub__',\n",
       " '__subclasshook__',\n",
       " '__xor__',\n",
       " 'add',\n",
       " 'clear',\n",
       " 'copy',\n",
       " 'difference',\n",
       " 'difference_update',\n",
       " 'discard',\n",
       " 'intersection',\n",
       " 'intersection_update',\n",
       " 'isdisjoint',\n",
       " 'issubset',\n",
       " 'issuperset',\n",
       " 'pop',\n",
       " 'remove',\n",
       " 'symmetric_difference',\n",
       " 'symmetric_difference_update',\n",
       " 'union',\n",
       " 'update']"
      ]
     },
     "execution_count": 67,
     "metadata": {},
     "output_type": "execute_result"
    }
   ],
   "source": [
    "dir(set(songs))"
   ]
  },
  {
   "cell_type": "markdown",
   "id": "c111629a",
   "metadata": {},
   "source": [
    "### Tuples"
   ]
  },
  {
   "cell_type": "code",
   "execution_count": 68,
   "id": "826a03ea",
   "metadata": {},
   "outputs": [],
   "source": [
    "my_tuple = (100, 0)"
   ]
  },
  {
   "cell_type": "code",
   "execution_count": 69,
   "id": "f0c7946e",
   "metadata": {},
   "outputs": [
    {
     "name": "stdout",
     "output_type": "stream",
     "text": [
      "Couldn't find program: 'false'\n"
     ]
    }
   ],
   "source": [
    "%%script false --no-raise-error\n",
    "\n",
    "my_tuple[0] = 200"
   ]
  },
  {
   "cell_type": "code",
   "execution_count": 70,
   "id": "8d8a803c",
   "metadata": {},
   "outputs": [],
   "source": [
    "colour = (255, 0, 20)"
   ]
  },
  {
   "cell_type": "code",
   "execution_count": 71,
   "id": "31788183",
   "metadata": {},
   "outputs": [],
   "source": [
    "red, green, blue = colour"
   ]
  },
  {
   "cell_type": "code",
   "execution_count": 72,
   "id": "c6b07a4c",
   "metadata": {},
   "outputs": [
    {
     "data": {
      "text/plain": [
       "20"
      ]
     },
     "execution_count": 72,
     "metadata": {},
     "output_type": "execute_result"
    }
   ],
   "source": [
    "blue"
   ]
  },
  {
   "cell_type": "markdown",
   "id": "d48ac797",
   "metadata": {},
   "source": [
    "### Homework\n",
    "\n",
    "<div class='alert alert-info'>\n",
    "  🎒 Create a list of 5 sports teams and then use .append, and .extend, to ultimately update the list to 8 teams. Afterwards, create a separate dictionary with 3 cities (as keys), and the corresponding list of sports teams (as values). Try indexing out specific values.\n",
    "</div>"
   ]
  },
  {
   "cell_type": "code",
   "execution_count": 73,
   "id": "3e06b3e0",
   "metadata": {},
   "outputs": [],
   "source": [
    "teams = [\"Raptors\", \"Lakers\", \"Bulls\", \"Blue Jays\", \"Dodgers\"]"
   ]
  },
  {
   "cell_type": "code",
   "execution_count": 74,
   "id": "181e3239",
   "metadata": {},
   "outputs": [],
   "source": [
    "teams.append(\"Cubs\")"
   ]
  },
  {
   "cell_type": "code",
   "execution_count": 75,
   "id": "a7fa9f6d",
   "metadata": {},
   "outputs": [
    {
     "data": {
      "text/plain": [
       "['Raptors', 'Lakers', 'Bulls', 'Blue Jays', 'Dodgers', 'Cubs']"
      ]
     },
     "execution_count": 75,
     "metadata": {},
     "output_type": "execute_result"
    }
   ],
   "source": [
    "teams"
   ]
  },
  {
   "cell_type": "code",
   "execution_count": 76,
   "id": "aa500ec6",
   "metadata": {},
   "outputs": [],
   "source": [
    "teams.extend([\"Maple Leafs\", \"Kings\"])"
   ]
  },
  {
   "cell_type": "code",
   "execution_count": 77,
   "id": "c0789dde",
   "metadata": {},
   "outputs": [
    {
     "data": {
      "text/plain": [
       "['Raptors',\n",
       " 'Lakers',\n",
       " 'Bulls',\n",
       " 'Blue Jays',\n",
       " 'Dodgers',\n",
       " 'Cubs',\n",
       " 'Maple Leafs',\n",
       " 'Kings']"
      ]
     },
     "execution_count": 77,
     "metadata": {},
     "output_type": "execute_result"
    }
   ],
   "source": [
    "teams"
   ]
  },
  {
   "cell_type": "code",
   "execution_count": 78,
   "id": "0af149e7",
   "metadata": {},
   "outputs": [],
   "source": [
    "cities = {\n",
    "    \"toronto\": [\"Raptors\", \"Blue Jays\", \"Maple Leafs\"],\n",
    "    \"chicago\": [\"Bulls\", \"Cubs\", \"Blackhawks\"], \n",
    "    \"los angeles\": [\"Maple Leafs\", \"Kings\", \"Blackhawks\"]\n",
    "}"
   ]
  },
  {
   "cell_type": "code",
   "execution_count": 79,
   "id": "69bf93a5",
   "metadata": {},
   "outputs": [],
   "source": [
    "cities[\"toronto\"][0] = \"Huskies\""
   ]
  },
  {
   "cell_type": "code",
   "execution_count": 80,
   "id": "2c41ac9e",
   "metadata": {},
   "outputs": [
    {
     "data": {
      "text/plain": [
       "{'toronto': ['Huskies', 'Blue Jays', 'Maple Leafs'],\n",
       " 'chicago': ['Bulls', 'Cubs', 'Blackhawks'],\n",
       " 'los angeles': ['Maple Leafs', 'Kings', 'Blackhawks']}"
      ]
     },
     "execution_count": 80,
     "metadata": {},
     "output_type": "execute_result"
    }
   ],
   "source": [
    "cities"
   ]
  }
 ],
 "metadata": {
  "kernelspec": {
   "display_name": "Python 3",
   "language": "python",
   "name": "python3"
  },
  "language_info": {
   "codemirror_mode": {
    "name": "ipython",
    "version": 3
   },
   "file_extension": ".py",
   "mimetype": "text/x-python",
   "name": "python",
   "nbconvert_exporter": "python",
   "pygments_lexer": "ipython3",
   "version": "3.13.2"
  }
 },
 "nbformat": 4,
 "nbformat_minor": 5
}
